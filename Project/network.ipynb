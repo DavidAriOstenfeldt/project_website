{
 "cells": [
  {
   "cell_type": "code",
   "execution_count": 3,
   "id": "amateur-friendly",
   "metadata": {},
   "outputs": [
    {
     "name": "stdout",
     "output_type": "stream",
     "text": [
      "Collecting python-louvain\n",
      "  Downloading python-louvain-0.16.tar.gz (204 kB)\n",
      "     -------------------------------------- 204.6/204.6 KB 3.1 MB/s eta 0:00:00\n",
      "  Preparing metadata (setup.py): started\n",
      "  Preparing metadata (setup.py): finished with status 'done'\n",
      "Requirement already satisfied: networkx in c:\\users\\kr_mo\\appdata\\local\\programs\\python\\python38\\lib\\site-packages (from python-louvain) (2.5.1)\n",
      "Requirement already satisfied: numpy in c:\\users\\kr_mo\\appdata\\local\\programs\\python\\python38\\lib\\site-packages (from python-louvain) (1.19.5)\n",
      "Requirement already satisfied: decorator<5,>=4.3 in c:\\users\\kr_mo\\appdata\\local\\programs\\python\\python38\\lib\\site-packages (from networkx->python-louvain) (4.4.2)\n",
      "Building wheels for collected packages: python-louvain\n",
      "  Building wheel for python-louvain (setup.py): started\n",
      "  Building wheel for python-louvain (setup.py): finished with status 'done'\n",
      "  Created wheel for python-louvain: filename=python_louvain-0.16-py3-none-any.whl size=9394 sha256=dd18a16aaaeaded8d6fc1d411c6d527f231820bce94182b81a43eea524fffa44\n",
      "  Stored in directory: c:\\users\\kr_mo\\appdata\\local\\pip\\cache\\wheels\\af\\40\\91\\ef3635f7d3ddbd889b5af9f1ac22b8d30c48d6f744cd74a6d1\n",
      "Successfully built python-louvain\n",
      "Installing collected packages: python-louvain\n",
      "Successfully installed python-louvain-0.16\n",
      "Note: you may need to restart the kernel to use updated packages.\n"
     ]
    }
   ],
   "source": [
    "pip install python-louvain"
   ]
  },
  {
   "cell_type": "code",
   "execution_count": 4,
   "id": "thirty-catalyst",
   "metadata": {
    "pycharm": {
     "name": "#%%\n"
    }
   },
   "outputs": [],
   "source": [
    "import matplotlib as mpl\n",
    "import pandas as pd\n",
    "import matplotlib.pylab as plt\n",
    "import matplotlib.dates as mdates\n",
    "import numpy as np\n",
    "from datetime import datetime\n",
    "import networkx as nx\n",
    "import netwulf as nw\n",
    "from itertools import combinations\n",
    "from collections import defaultdict\n",
    "import random\n",
    "from scipy import stats\n",
    "from networkx.algorithms import community\n",
    "import community\n",
    "\n",
    "seed = 1337\n",
    "random.seed(seed)\n",
    "np.random.seed(seed)"
   ]
  },
  {
   "cell_type": "code",
   "execution_count": 5,
   "id": "identical-farmer",
   "metadata": {
    "pycharm": {
     "name": "#%%\n"
    }
   },
   "outputs": [
    {
     "name": "stdout",
     "output_type": "stream",
     "text": [
      "Number of songs: 25419\n"
     ]
    }
   ],
   "source": [
    "song_data = pd.read_pickle('songData.df')\n",
    "print(f'Number of songs: {len(song_data)}')"
   ]
  },
  {
   "cell_type": "code",
   "execution_count": 8,
   "id": "eight-carbon",
   "metadata": {},
   "outputs": [
    {
     "name": "stdout",
     "output_type": "stream",
     "text": [
      "Number of artists: 7855\n"
     ]
    }
   ],
   "source": [
    "all_artists = set()\n",
    "for artists in song_data.artists:\n",
    "    all_artists = all_artists.union(set(artists))\n",
    "print(f'Number of artists: {len(all_artists)}')"
   ]
  },
  {
   "cell_type": "code",
   "execution_count": 185,
   "id": "enabling-candy",
   "metadata": {
    "pycharm": {
     "name": "#%%\n"
    }
   },
   "outputs": [
    {
     "data": {
      "text/html": [
       "<div>\n",
       "<style scoped>\n",
       "    .dataframe tbody tr th:only-of-type {\n",
       "        vertical-align: middle;\n",
       "    }\n",
       "\n",
       "    .dataframe tbody tr th {\n",
       "        vertical-align: top;\n",
       "    }\n",
       "\n",
       "    .dataframe thead th {\n",
       "        text-align: right;\n",
       "    }\n",
       "</style>\n",
       "<table border=\"1\" class=\"dataframe\">\n",
       "  <thead>\n",
       "    <tr style=\"text-align: right;\">\n",
       "      <th></th>\n",
       "      <th>released</th>\n",
       "      <th>artists</th>\n",
       "      <th>lyrics</th>\n",
       "      <th>genres</th>\n",
       "      <th>title</th>\n",
       "    </tr>\n",
       "  </thead>\n",
       "  <tbody>\n",
       "    <tr>\n",
       "      <th>0</th>\n",
       "      <td>1957</td>\n",
       "      <td>[marty robbins]</td>\n",
       "      <td>\\nOut in the West Texas town of El Paso\\nI fel...</td>\n",
       "      <td>[country]</td>\n",
       "      <td>El Paso</td>\n",
       "    </tr>\n",
       "    <tr>\n",
       "      <th>1</th>\n",
       "      <td>1960-01-04</td>\n",
       "      <td>[frankie avalon]</td>\n",
       "      <td>I'll never let you go\\nWhy? Because I love you...</td>\n",
       "      <td>[pop]</td>\n",
       "      <td>Why</td>\n",
       "    </tr>\n",
       "    <tr>\n",
       "      <th>3</th>\n",
       "      <td>1959</td>\n",
       "      <td>[johnny preston]</td>\n",
       "      <td>On the bank of the river\\nStood Running Bear, ...</td>\n",
       "      <td>[pop]</td>\n",
       "      <td>Running Bear</td>\n",
       "    </tr>\n",
       "    <tr>\n",
       "      <th>4</th>\n",
       "      <td>1960-01-04</td>\n",
       "      <td>[freddy cannon]</td>\n",
       "      <td>Well, way down yonder in New Orleans\\nIn the l...</td>\n",
       "      <td>[pop]</td>\n",
       "      <td>Way Down Yonder in New Orleans</td>\n",
       "    </tr>\n",
       "    <tr>\n",
       "      <th>5</th>\n",
       "      <td>1960-01-04</td>\n",
       "      <td>[guy mitchell]</td>\n",
       "      <td>\\nHeartaches by the number, troubles by the sc...</td>\n",
       "      <td>[country, cover]</td>\n",
       "      <td>Heartaches by the Number</td>\n",
       "    </tr>\n",
       "  </tbody>\n",
       "</table>\n",
       "</div>"
      ],
      "text/plain": [
       "     released           artists  \\\n",
       "0        1957   [marty robbins]   \n",
       "1  1960-01-04  [frankie avalon]   \n",
       "3        1959  [johnny preston]   \n",
       "4  1960-01-04   [freddy cannon]   \n",
       "5  1960-01-04    [guy mitchell]   \n",
       "\n",
       "                                              lyrics            genres  \\\n",
       "0  \\nOut in the West Texas town of El Paso\\nI fel...         [country]   \n",
       "1  I'll never let you go\\nWhy? Because I love you...             [pop]   \n",
       "3  On the bank of the river\\nStood Running Bear, ...             [pop]   \n",
       "4  Well, way down yonder in New Orleans\\nIn the l...             [pop]   \n",
       "5  \\nHeartaches by the number, troubles by the sc...  [country, cover]   \n",
       "\n",
       "                            title  \n",
       "0                         El Paso  \n",
       "1                             Why  \n",
       "3                    Running Bear  \n",
       "4  Way Down Yonder in New Orleans  \n",
       "5        Heartaches by the Number  "
      ]
     },
     "execution_count": 185,
     "metadata": {},
     "output_type": "execute_result"
    }
   ],
   "source": [
    "song_data.head()"
   ]
  },
  {
   "cell_type": "markdown",
   "id": "satisfied-leave",
   "metadata": {
    "pycharm": {
     "name": "#%% md\n"
    }
   },
   "source": [
    "## Create the network (graph)"
   ]
  },
  {
   "cell_type": "code",
   "execution_count": 186,
   "id": "rational-invite",
   "metadata": {
    "pycharm": {
     "name": "#%%\n"
    }
   },
   "outputs": [
    {
     "name": "stdout",
     "output_type": "stream",
     "text": [
      "Number of unique artists: 7855\n"
     ]
    }
   ],
   "source": [
    "all_artists = set()\n",
    "artist_genres = dict()\n",
    "artist_genres_count = defaultdict(lambda: defaultdict(lambda: 0))\n",
    "for artists, genres in zip(song_data.artists, song_data.genres):\n",
    "    for artist in artists:\n",
    "        all_artists = all_artists.union(set([artist]))\n",
    "        for genre in genres:\n",
    "            artist_genres_count[artist][genre] += 1\n",
    "        if artist in artist_genres.keys():\n",
    "            artist_genres[artist] = artist_genres[artist].union(set(genres))\n",
    "        else:\n",
    "            artist_genres[artist] = set(genres)\n",
    "        \n",
    "\n",
    "all_artists = list(all_artists)\n",
    "print(f'Number of unique artists: {len(all_artists)}')"
   ]
  },
  {
   "cell_type": "code",
   "execution_count": 187,
   "id": "sealed-specific",
   "metadata": {
    "pycharm": {
     "name": "#%%\n"
    }
   },
   "outputs": [],
   "source": [
    "genre_list = ['pop', 'rock', 'rap', 'r&b', 'country', 'soul', \n",
    "              'singer-songwriter', 'pop-rock', 'trap', 'ballad', \n",
    "             'soul pop', 'eighties', 'uk', 'seventies', 'soundtrack',\n",
    "             'hip-hop', 'funk', 'dance', 'electronic', 'folk', 'cover', \n",
    "             'jazz', 'blues']"
   ]
  },
  {
   "cell_type": "code",
   "execution_count": 188,
   "id": "worth-showcase",
   "metadata": {
    "pycharm": {
     "name": "#%%\n"
    }
   },
   "outputs": [],
   "source": [
    "colour_list = ['#E74C3C', '#9B59B6', '#3498DB', '#1ABC9C', '#27AE60', '#F4D03F', '#E67E22', '#EDB9B9', '#E7E9B9',\n",
    "              '#B9EDE0', '#B9D7ED', '#DCB9ED', '#8F2323', '#8F6A23', '#4F8F23', '#23628F', '#6B238F', '#AED6F1',\n",
    "              '#A3E4D7', '#D4AC0D', '#D7BDE2', '#F5B7B1', '#0A2ADA', '#DA0A8D']"
   ]
  },
  {
   "cell_type": "code",
   "execution_count": 189,
   "id": "earlier-mailman",
   "metadata": {},
   "outputs": [],
   "source": [
    "colour_dict = {}\n",
    "for colour, genre in zip(colour_list, genre_list+['other']):\n",
    "    colour_dict[genre] = colour"
   ]
  },
  {
   "cell_type": "code",
   "execution_count": 190,
   "id": "greenhouse-software",
   "metadata": {
    "pycharm": {
     "name": "#%%\n"
    }
   },
   "outputs": [],
   "source": [
    "artist_count = defaultdict(lambda: 0)\n",
    "artist_colab_count = defaultdict(lambda: defaultdict(lambda: 0))\n",
    "\n",
    "for artists in song_data.artists:\n",
    "    for artist in artists:\n",
    "        artist_count[artist] += 1\n",
    "        for colab in artists:\n",
    "            if colab != artist:\n",
    "                artist_colab_count[artist][colab] += 1"
   ]
  },
  {
   "cell_type": "markdown",
   "id": "first-robin",
   "metadata": {
    "pycharm": {
     "name": "#%% md\n"
    }
   },
   "source": [
    "### Add nodes\n",
    "Add each artist as a node with three attributes\n",
    "> *genre*: most common genre for that artist within the fixed list 'genre_list'\n",
    "\n",
    "> *size*: number of times the artist has appeared on Billboard's the hot 100 (used to give each node the correct size)\n",
    "\n",
    "> *all_genres*: all genres associated with that artist"
   ]
  },
  {
   "cell_type": "code",
   "execution_count": 191,
   "id": "insured-directory",
   "metadata": {
    "pycharm": {
     "name": "#%%\n"
    }
   },
   "outputs": [
    {
     "data": {
      "text/plain": [
       "7855"
      ]
     },
     "execution_count": 191,
     "metadata": {},
     "output_type": "execute_result"
    }
   ],
   "source": [
    "G = nx.Graph()\n",
    "for artist in all_artists:\n",
    "    most_occurences = 0\n",
    "    max_key = 'other'\n",
    "    random.shuffle(genre_list)\n",
    "    \n",
    "    for genre in genre_list:\n",
    "        if genre in artist_genres_count[artist]:\n",
    "            if artist_genres_count[artist][genre] > most_occurences:\n",
    "                most_occurences = artist_genres_count[artist][genre]\n",
    "                max_key = genre\n",
    "                \n",
    "    G.add_node(artist, genre=max_key, \n",
    "               size=artist_count[artist], \n",
    "               all_genres=artist_genres[artist], \n",
    "               group=colour_dict[max_key])\n",
    "    \n",
    "G.number_of_nodes()"
   ]
  },
  {
   "cell_type": "markdown",
   "id": "arranged-method",
   "metadata": {
    "pycharm": {
     "name": "#%% md\n"
    }
   },
   "source": [
    "### Add edges\n",
    "Add edges between two artists if they have collaborated on a song"
   ]
  },
  {
   "cell_type": "code",
   "execution_count": 192,
   "id": "amber-somerset",
   "metadata": {
    "pycharm": {
     "name": "#%%\n"
    }
   },
   "outputs": [
    {
     "name": "stdout",
     "output_type": "stream",
     "text": [
      "Number of edges: 7098\n"
     ]
    }
   ],
   "source": [
    "linked_artists = set()\n",
    "for artists in song_data.artists:\n",
    "    if len(artists) > 1:\n",
    "        for comb in combinations(artists, 2):\n",
    "            if not comb[0] == comb[1]:\n",
    "                linked_artists = linked_artists.union({tuple([comb[0], comb[1], artist_colab_count[comb[0]][comb[1]]])})\n",
    "\n",
    "linked_artists = list(linked_artists)\n",
    "print(f'Number of edges: {len(linked_artists)}')"
   ]
  },
  {
   "cell_type": "code",
   "execution_count": 193,
   "id": "aggressive-renaissance",
   "metadata": {
    "pycharm": {
     "name": "#%%\n"
    }
   },
   "outputs": [
    {
     "data": {
      "text/plain": [
       "6799"
      ]
     },
     "execution_count": 193,
     "metadata": {},
     "output_type": "execute_result"
    }
   ],
   "source": [
    "G.add_weighted_edges_from(linked_artists)\n",
    "G.number_of_edges()"
   ]
  },
  {
   "cell_type": "markdown",
   "id": "adjusted-bahrain",
   "metadata": {},
   "source": [
    "## Helper functions"
   ]
  },
  {
   "cell_type": "code",
   "execution_count": 194,
   "id": "humanitarian-turkish",
   "metadata": {},
   "outputs": [],
   "source": [
    "def randomized_graph(graph, N):\n",
    "    g = graph.copy()\n",
    "    swaps = 0\n",
    "    while swaps < N:\n",
    "        uv = random.choice(list(g.edges()))\n",
    "        if uv[0] == uv[1]:\n",
    "            uv = random.choice(list(g.edges()))\n",
    "        xy = random.choice(list(g.edges()))\n",
    "        while uv[1] == xy[0]:\n",
    "            xy = random.choice(list(g.edges()))\n",
    "        if not g.has_edge(uv[0], xy[1]) and not g.has_edge(uv[1], xy[0]):\n",
    "            g.remove_edges_from([uv, xy])\n",
    "            g.add_edges_from([(uv[0], xy[1]), (uv[1], xy[0])])\n",
    "            swaps += 1\n",
    "    return g"
   ]
  },
  {
   "cell_type": "code",
   "execution_count": 195,
   "id": "operating-brazil",
   "metadata": {},
   "outputs": [],
   "source": [
    "def get_network_by_genre(G, genre):\n",
    "    genre_nodes = [node for node, data in G.nodes(data=True) if genre in data['all_genres']]\n",
    "    return G.subgraph(genre_nodes)"
   ]
  },
  {
   "cell_type": "code",
   "execution_count": 206,
   "id": "minus-partition",
   "metadata": {},
   "outputs": [],
   "source": [
    "def get_partitioning(filtered_graph):\n",
    "    partitioning = []\n",
    "    nc = set(nx.get_node_attributes(filtered_graph, 'group').values())\n",
    "    for i in nc:\n",
    "        nodes = (\n",
    "            node\n",
    "            for node, data\n",
    "            in filtered_graph.nodes(data=True)\n",
    "            if data.get(\"group\") == i\n",
    "        )\n",
    "        partitioning.append(filtered_graph.subgraph(nodes))\n",
    "    return partitioning"
   ]
  },
  {
   "cell_type": "code",
   "execution_count": 199,
   "id": "graphic-cornwall",
   "metadata": {},
   "outputs": [],
   "source": [
    "def modularity(graph, partitioning):\n",
    "    M = 0\n",
    "    L = graph.number_of_edges()\n",
    "    for subgraph in partitioning:\n",
    "        Lc = subgraph.number_of_edges()\n",
    "        kc = sum(graph.degree[node] for node in subgraph.nodes())\n",
    "        M += Lc/L - (kc / (2 * L))**2\n",
    "    return M"
   ]
  },
  {
   "cell_type": "markdown",
   "id": "sublime-services",
   "metadata": {
    "pycharm": {
     "name": "#%% md\n"
    }
   },
   "source": [
    "## The full network"
   ]
  },
  {
   "cell_type": "markdown",
   "id": "short-hopkins",
   "metadata": {
    "pycharm": {
     "name": "#%% md\n"
    }
   },
   "source": [
    "### Visualisation"
   ]
  },
  {
   "cell_type": "code",
   "execution_count": 225,
   "id": "fluid-supplier",
   "metadata": {
    "pycharm": {
     "name": "#%%\n"
    },
    "scrolled": true
   },
   "outputs": [],
   "source": [
    "network_G, config = nw.visualize(G, plot_in_cell_below=True)"
   ]
  },
  {
   "cell_type": "markdown",
   "id": "finite-controversy",
   "metadata": {
    "pycharm": {
     "name": "#%% md\n"
    }
   },
   "source": [
    "### Properties"
   ]
  },
  {
   "cell_type": "code",
   "execution_count": 201,
   "id": "egyptian-optimization",
   "metadata": {
    "pycharm": {
     "name": "#%%\n"
    }
   },
   "outputs": [
    {
     "name": "stdout",
     "output_type": "stream",
     "text": [
      "Number of Nodes: 7855\n",
      "Number of Links: 6799\n",
      "Density: 0.00022\n",
      "Avg. clustering: 0.16\n",
      "Average degrees: 1.73\n",
      "Median degrees: 0.0\n",
      "Mode of degrees: 0\n",
      "Minimum degree: 0\n",
      "Maximum degree: 108\n"
     ]
    }
   ],
   "source": [
    "print(f'Number of Nodes: {G.number_of_nodes()}')\n",
    "print(f'Number of Links: {G.number_of_edges()}')\n",
    "print(f'Density: {nx.density(G):.5f}')\n",
    "print(f'Avg. clustering: {nx.average_clustering(G):.2f}')\n",
    "degrees = list(dict(G.degree()).values())\n",
    "print(f'Average degrees: {np.mean(degrees):.2f}')\n",
    "print(f'Median degrees: {np.median(degrees)}')\n",
    "print(f'Mode of degrees: {stats.mode(degrees)[0][0]}')\n",
    "print(f'Minimum degree: {min(degrees)}')\n",
    "print(f'Maximum degree: {max(degrees)}')"
   ]
  },
  {
   "cell_type": "code",
   "execution_count": 202,
   "id": "specified-constitution",
   "metadata": {
    "pycharm": {
     "name": "#%%\n"
    }
   },
   "outputs": [],
   "source": [
    "sorted_degrees = {k: v for k, v in sorted(dict(G.degree()).items(), key=lambda item: item[1], reverse=True)}"
   ]
  },
  {
   "cell_type": "code",
   "execution_count": 203,
   "id": "going-carol",
   "metadata": {
    "pycharm": {
     "name": "#%%\n"
    }
   },
   "outputs": [
    {
     "data": {
      "image/png": "[encoded data removed]",
      "text/plain": [
       "<Figure size 432x288 with 1 Axes>"
      ]
     },
     "metadata": {
      "needs_background": "light"
     },
     "output_type": "display_data"
    }
   ],
   "source": [
    "#bins = np.linspace(min(degrees), max(degrees), 10)\n",
    "bins = np.logspace(0, np.log10(max(degrees)), 10)\n",
    "density = True\n",
    "hist, edges = np.histogram(degrees, bins=bins, density = density)\n",
    "x = (edges[1:] + edges[:-1])/2\n",
    "width = bins[1] - bins[0]\n",
    "\n",
    "fig, ax = plt.subplots()\n",
    "#ax.bar(x, hist, width=width_rand*0.9)\n",
    "ax.plot(x, hist, marker='.')\n",
    "\n",
    "ax.set_xlabel('degrees')\n",
    "if density:\n",
    "    ax.set_ylabel('probability density')\n",
    "else:\n",
    "    ax.set_ylabel('counts')\n",
    "    \n",
    "ax.set_yscale(\"log\")\n",
    "ax.set_xscale(\"log\")"
   ]
  },
  {
   "cell_type": "code",
   "execution_count": 204,
   "id": "eight-marker",
   "metadata": {
    "pycharm": {
     "name": "#%%\n"
    },
    "scrolled": true
   },
   "outputs": [
    {
     "name": "stdout",
     "output_type": "stream",
     "text": [
      "Avg. shortest path length: 4.97818\n"
     ]
    }
   ],
   "source": [
    "con_com = nx.algorithms.connected_components(G)\n",
    "largest_cc = max(nx.connected_components(G), key=len)\n",
    "gia_com = G.subgraph(largest_cc)\n",
    "avg_sho_pat_len = nx.average_shortest_path_length(gia_com)\n",
    "print(f'Avg. shortest path length: {avg_sho_pat_len:.5f}')"
   ]
  },
  {
   "cell_type": "markdown",
   "id": "irish-gilbert",
   "metadata": {},
   "source": [
    "### Community detection"
   ]
  },
  {
   "cell_type": "code",
   "execution_count": 217,
   "id": "stuck-jason",
   "metadata": {},
   "outputs": [],
   "source": [
    "genre_partitioning = get_partitioning(G)"
   ]
  },
  {
   "cell_type": "code",
   "execution_count": 221,
   "id": "religious-mediterranean",
   "metadata": {},
   "outputs": [
    {
     "name": "stdout",
     "output_type": "stream",
     "text": [
      "Genre partitioning modularity: 0.3178\n"
     ]
    }
   ],
   "source": [
    "print(f'Genre partitioning modularity: {modularity(G, a):.4f}')"
   ]
  },
  {
   "cell_type": "code",
   "execution_count": 222,
   "id": "disciplinary-bidder",
   "metadata": {},
   "outputs": [],
   "source": [
    "network_modularity = community.modularity(community.best_partition(G), G)"
   ]
  },
  {
   "cell_type": "code",
   "execution_count": 223,
   "id": "christian-relay",
   "metadata": {},
   "outputs": [
    {
     "name": "stdout",
     "output_type": "stream",
     "text": [
      "Modularity for the full network: 0.7481\n"
     ]
    }
   ],
   "source": [
    "print(f'Modularity for the full network: {network_modularity:.4f}')"
   ]
  },
  {
   "cell_type": "markdown",
   "id": "documented-cowboy",
   "metadata": {},
   "source": [
    "#### Building random network for comparison"
   ]
  },
  {
   "cell_type": "code",
   "execution_count": 24,
   "id": "alternative-marker",
   "metadata": {},
   "outputs": [
    {
     "name": "stdout",
     "output_type": "stream",
     "text": [
      "Degree in original graph: 13598\n",
      "Degree in random graph: 13598\n"
     ]
    }
   ],
   "source": [
    "RG = randomized_graph(G, int(G.number_of_edges()*1.2))\n",
    "print(f'Degree in original graph: {sum(dict(G.degree).values())}')\n",
    "print(f'Degree in random graph: {sum(dict(RG.degree).values())}')"
   ]
  },
  {
   "cell_type": "code",
   "execution_count": 48,
   "id": "naval-program",
   "metadata": {},
   "outputs": [],
   "source": [
    "modularity_list = []\n",
    "N = 5\n",
    "for _ in range(N):\n",
    "    RG = randomized_graph(G, int(G.number_of_edges()*1.2))\n",
    "    new_RG = nw.get_filtered_network(RG, node_group_key='group')\n",
    "    RG_partitioning = get_partitioning(new_RG)\n",
    "    modularity_list.append(modularity(RG, RG_partitioning))"
   ]
  },
  {
   "cell_type": "code",
   "execution_count": 49,
   "id": "distinguished-patrick",
   "metadata": {},
   "outputs": [
    {
     "name": "stdout",
     "output_type": "stream",
     "text": [
      "Average modularity: 0.02353317533848245\n",
      "Standard deviation of modularity: 0.0030683111776214802\n"
     ]
    }
   ],
   "source": [
    "print(f'Average modularity: {np.mean(modularity_list)}')\n",
    "print(f'Standard deviation of modularity: {np.std(modularity_list)}')"
   ]
  },
  {
   "cell_type": "code",
   "execution_count": 54,
   "id": "confidential-vegetable",
   "metadata": {},
   "outputs": [
    {
     "data": {
      "image/png": "[encoded data removed]",
      "text/plain": [
       "<Figure size 432x288 with 1 Axes>"
      ]
     },
     "metadata": {
      "needs_background": "light"
     },
     "output_type": "display_data"
    }
   ],
   "source": [
    "plt.hist(modularity_list, alpha=0.5, label='Random', density=True)\n",
    "plt.axvline(network_modularity, color = 'b', linestyle='--', label='True')\n",
    "plt.legend()\n",
    "plt.title(f'Modularity of {N} random graphs')\n",
    "plt.xlabel('Modularity')\n",
    "plt.ylabel('Probability')\n",
    "plt.show()"
   ]
  },
  {
   "cell_type": "markdown",
   "id": "sound-spencer",
   "metadata": {
    "pycharm": {
     "name": "#%% md\n"
    }
   },
   "source": [
    "## Pop network"
   ]
  },
  {
   "cell_type": "code",
   "execution_count": 74,
   "id": "arbitrary-direction",
   "metadata": {
    "pycharm": {
     "name": "#%%\n"
    }
   },
   "outputs": [],
   "source": [
    "genre = 'pop'\n",
    "G_pop = get_network_by_genre(G, genre)"
   ]
  },
  {
   "cell_type": "code",
   "execution_count": 75,
   "id": "upper-infrastructure",
   "metadata": {
    "pycharm": {
     "name": "#%%\n"
    }
   },
   "outputs": [],
   "source": [
    "for artist, data in G_pop.nodes(data=True):\n",
    "    data['size'] = artist_genres_count[artist][genre]"
   ]
  },
  {
   "cell_type": "markdown",
   "id": "moral-liberty",
   "metadata": {
    "pycharm": {
     "name": "#%% md\n"
    }
   },
   "source": [
    "### Visualisation"
   ]
  },
  {
   "cell_type": "code",
   "execution_count": 76,
   "id": "overhead-keyboard",
   "metadata": {
    "pycharm": {
     "name": "#%%\n"
    }
   },
   "outputs": [],
   "source": [
    "# network_G_pop, config = nw.visualize(G_pop, plot_in_cell_below=True)"
   ]
  },
  {
   "cell_type": "markdown",
   "id": "exotic-india",
   "metadata": {
    "pycharm": {
     "name": "#%% md\n"
    }
   },
   "source": [
    "### Properties"
   ]
  },
  {
   "cell_type": "code",
   "execution_count": 77,
   "id": "contained-antibody",
   "metadata": {
    "pycharm": {
     "name": "#%%\n"
    }
   },
   "outputs": [
    {
     "name": "stdout",
     "output_type": "stream",
     "text": [
      "Number of Nodes: 4802\n",
      "Number of Links: 3907\n",
      "Density: 0.00034\n",
      "Avg. clustering: 0.10\n",
      "Average degrees: 1.63\n",
      "Median degrees: 0.0\n",
      "Mode of degrees: 0\n",
      "Minimum degree: 0\n",
      "Maximum degree: 74\n"
     ]
    }
   ],
   "source": [
    "graph = G_pop\n",
    "print(f'Number of Nodes: {graph.number_of_nodes()}')\n",
    "print(f'Number of Links: {graph.number_of_edges()}')\n",
    "print(f'Density: {nx.density(graph):.5f}')\n",
    "print(f'Avg. clustering: {nx.average_clustering(graph):.2f}')\n",
    "degrees = list(dict(graph.degree()).values())\n",
    "print(f'Average degrees: {np.mean(degrees):.2f}')\n",
    "print(f'Median degrees: {np.median(degrees)}')\n",
    "print(f'Mode of degrees: {stats.mode(degrees)[0][0]}')\n",
    "print(f'Minimum degree: {min(degrees)}')\n",
    "print(f'Maximum degree: {max(degrees)}')"
   ]
  },
  {
   "cell_type": "code",
   "execution_count": 78,
   "id": "subject-subsection",
   "metadata": {
    "pycharm": {
     "name": "#%%\n"
    }
   },
   "outputs": [
    {
     "data": {
      "image/png": "[encoded data removed]",
      "text/plain": [
       "<Figure size 432x288 with 1 Axes>"
      ]
     },
     "metadata": {
      "needs_background": "light"
     },
     "output_type": "display_data"
    }
   ],
   "source": [
    "sorted_degrees = {k: v for k, v in sorted(dict(graph.degree()).items(), key=lambda item: item[1], reverse=True)}\n",
    "#bins = np.linspace(min(degrees), max(degrees), 10)\n",
    "bins = np.logspace(0, np.log10(max(degrees)), 10)\n",
    "density = True\n",
    "hist, edges = np.histogram(degrees, bins=bins, density = density)\n",
    "x = (edges[1:] + edges[:-1])/2\n",
    "width = bins[1] - bins[0]\n",
    "\n",
    "fig, ax = plt.subplots()\n",
    "#ax.bar(x, hist, width=width_rand*0.9)\n",
    "ax.plot(x, hist, marker='.')\n",
    "\n",
    "ax.set_xlabel('degrees')\n",
    "if density:\n",
    "    ax.set_ylabel('probability density')\n",
    "else:\n",
    "    ax.set_ylabel('counts')\n",
    "    \n",
    "ax.set_yscale(\"log\")\n",
    "ax.set_xscale(\"log\")"
   ]
  },
  {
   "cell_type": "code",
   "execution_count": 79,
   "id": "amino-solomon",
   "metadata": {
    "pycharm": {
     "name": "#%%\n"
    }
   },
   "outputs": [
    {
     "name": "stdout",
     "output_type": "stream",
     "text": [
      "Avg. shortest path length: 4.70743\n"
     ]
    }
   ],
   "source": [
    "con_com = nx.algorithms.connected_components(graph)\n",
    "largest_cc = max(nx.connected_components(graph), key=len)\n",
    "gia_com = graph.subgraph(largest_cc)\n",
    "avg_sho_pat_len = nx.average_shortest_path_length(gia_com)\n",
    "print(f'Avg. shortest path length: {avg_sho_pat_len:.5f}')"
   ]
  },
  {
   "cell_type": "markdown",
   "id": "ordered-conviction",
   "metadata": {},
   "source": [
    "### Community detection"
   ]
  },
  {
   "cell_type": "code",
   "execution_count": 80,
   "id": "industrial-rating",
   "metadata": {},
   "outputs": [],
   "source": [
    "network_modularity = community.modularity(community.best_partition(graph), graph)"
   ]
  },
  {
   "cell_type": "code",
   "execution_count": 81,
   "id": "geological-elevation",
   "metadata": {},
   "outputs": [
    {
     "name": "stdout",
     "output_type": "stream",
     "text": [
      "Louvain modularity for the full network: 0.7103\n"
     ]
    }
   ],
   "source": [
    "print(f'Louvain modularity for the full network: {network_modularity:.4f}')"
   ]
  },
  {
   "cell_type": "markdown",
   "id": "assigned-symphony",
   "metadata": {},
   "source": [
    "#### Building random network for comparison"
   ]
  },
  {
   "cell_type": "code",
   "execution_count": 66,
   "id": "disciplinary-occasion",
   "metadata": {},
   "outputs": [
    {
     "name": "stdout",
     "output_type": "stream",
     "text": [
      "Degree in original graph: 7814\n",
      "Degree in random graph: 7814\n"
     ]
    }
   ],
   "source": [
    "RG = randomized_graph(graph, int(graph.number_of_edges()*1.2))\n",
    "print(f'Degree in original graph: {sum(dict(graph.degree).values())}')\n",
    "print(f'Degree in random graph: {sum(dict(RG.degree).values())}')"
   ]
  },
  {
   "cell_type": "code",
   "execution_count": 67,
   "id": "naval-package",
   "metadata": {},
   "outputs": [],
   "source": [
    "modularity_list = []\n",
    "N = 5\n",
    "for _ in range(N):\n",
    "    RG = randomized_graph(graph, int(graph.number_of_edges()*1.2))\n",
    "    new_RG = nw.get_filtered_network(RG, node_group_key='group')\n",
    "    RG_partitioning = get_partitioning(new_RG)\n",
    "    modularity_list.append(modularity(RG, RG_partitioning))"
   ]
  },
  {
   "cell_type": "code",
   "execution_count": 68,
   "id": "virgin-boring",
   "metadata": {},
   "outputs": [
    {
     "name": "stdout",
     "output_type": "stream",
     "text": [
      "Average modularity: 0.01427826476717545\n",
      "Standard deviation of modularity: 0.006407161123978455\n"
     ]
    }
   ],
   "source": [
    "print(f'Average modularity: {np.mean(modularity_list)}')\n",
    "print(f'Standard deviation of modularity: {np.std(modularity_list)}')"
   ]
  },
  {
   "cell_type": "code",
   "execution_count": 69,
   "id": "double-insight",
   "metadata": {},
   "outputs": [
    {
     "data": {
      "image/png": "[encoded data removed]",
      "text/plain": [
       "<Figure size 432x288 with 1 Axes>"
      ]
     },
     "metadata": {
      "needs_background": "light"
     },
     "output_type": "display_data"
    }
   ],
   "source": [
    "plt.hist(modularity_list, alpha=0.5, label='Random', density=True)\n",
    "plt.axvline(network_modularity, color = 'b', linestyle='--', label='True')\n",
    "plt.legend()\n",
    "plt.title(f'Modularity of {N} random graphs')\n",
    "plt.xlabel('Modularity')\n",
    "plt.ylabel('Probability')\n",
    "plt.show()"
   ]
  },
  {
   "cell_type": "markdown",
   "id": "precise-collapse",
   "metadata": {
    "pycharm": {
     "name": "#%% md\n"
    }
   },
   "source": [
    "## Rap network"
   ]
  },
  {
   "cell_type": "code",
   "execution_count": 82,
   "id": "efficient-recommendation",
   "metadata": {
    "pycharm": {
     "name": "#%%\n"
    }
   },
   "outputs": [],
   "source": [
    "genre = 'rap'\n",
    "G_rap = get_network_by_genre(G, genre)"
   ]
  },
  {
   "cell_type": "code",
   "execution_count": 83,
   "id": "marine-elements",
   "metadata": {
    "pycharm": {
     "name": "#%%\n"
    }
   },
   "outputs": [],
   "source": [
    "for artist, data in G_rap.nodes(data=True):\n",
    "    data['size'] = artist_genres_count[artist][genre]"
   ]
  },
  {
   "cell_type": "markdown",
   "id": "wanted-surveillance",
   "metadata": {
    "pycharm": {
     "name": "#%% md\n"
    }
   },
   "source": [
    "### Visualisation"
   ]
  },
  {
   "cell_type": "code",
   "execution_count": 84,
   "id": "normal-gospel",
   "metadata": {
    "pycharm": {
     "name": "#%%\n"
    }
   },
   "outputs": [],
   "source": [
    "# network_G_rap, config = nw.visualize(G_rap, plot_in_cell_below=True)"
   ]
  },
  {
   "cell_type": "markdown",
   "id": "altered-checkout",
   "metadata": {
    "pycharm": {
     "name": "#%% md\n"
    }
   },
   "source": [
    "### Properties"
   ]
  },
  {
   "cell_type": "code",
   "execution_count": 85,
   "id": "danish-license",
   "metadata": {
    "pycharm": {
     "name": "#%%\n"
    }
   },
   "outputs": [
    {
     "name": "stdout",
     "output_type": "stream",
     "text": [
      "Number of Nodes: 2481\n",
      "Number of Links: 4495\n",
      "Density: 0.00146\n",
      "Avg. clustering: 0.33\n",
      "Average degrees: 3.62\n",
      "Median degrees: 2.0\n",
      "Mode of degrees: 1\n",
      "Minimum degree: 0\n",
      "Maximum degree: 108\n"
     ]
    }
   ],
   "source": [
    "graph = G_rap\n",
    "print(f'Number of Nodes: {graph.number_of_nodes()}')\n",
    "print(f'Number of Links: {graph.number_of_edges()}')\n",
    "print(f'Density: {nx.density(graph):.5f}')\n",
    "print(f'Avg. clustering: {nx.average_clustering(graph):.2f}')\n",
    "degrees = list(dict(graph.degree()).values())\n",
    "print(f'Average degrees: {np.mean(degrees):.2f}')\n",
    "print(f'Median degrees: {np.median(degrees)}')\n",
    "print(f'Mode of degrees: {stats.mode(degrees)[0][0]}')\n",
    "print(f'Minimum degree: {min(degrees)}')\n",
    "print(f'Maximum degree: {max(degrees)}')"
   ]
  },
  {
   "cell_type": "code",
   "execution_count": 86,
   "id": "seeing-caribbean",
   "metadata": {
    "pycharm": {
     "name": "#%%\n"
    }
   },
   "outputs": [
    {
     "data": {
      "image/png": "[encoded data removed]",
      "text/plain": [
       "<Figure size 432x288 with 1 Axes>"
      ]
     },
     "metadata": {
      "needs_background": "light"
     },
     "output_type": "display_data"
    }
   ],
   "source": [
    "sorted_degrees = {k: v for k, v in sorted(dict(graph.degree()).items(), key=lambda item: item[1], reverse=True)}\n",
    "#bins = np.linspace(min(degrees), max(degrees), 10)\n",
    "bins = np.logspace(0, np.log10(max(degrees)), 10)\n",
    "density = True\n",
    "hist, edges = np.histogram(degrees, bins=bins, density = density)\n",
    "x = (edges[1:] + edges[:-1])/2\n",
    "width = bins[1] - bins[0]\n",
    "\n",
    "fig, ax = plt.subplots()\n",
    "#ax.bar(x, hist, width=width_rand*0.9)\n",
    "ax.plot(x, hist, marker='.')\n",
    "\n",
    "ax.set_xlabel('degrees')\n",
    "if density:\n",
    "    ax.set_ylabel('probability density')\n",
    "else:\n",
    "    ax.set_ylabel('counts')\n",
    "    \n",
    "ax.set_yscale(\"log\")\n",
    "ax.set_xscale(\"log\")"
   ]
  },
  {
   "cell_type": "code",
   "execution_count": 87,
   "id": "usual-benefit",
   "metadata": {},
   "outputs": [
    {
     "name": "stdout",
     "output_type": "stream",
     "text": [
      "Avg. shortest path length: 4.18619\n"
     ]
    }
   ],
   "source": [
    "con_com = nx.algorithms.connected_components(graph)\n",
    "largest_cc = max(nx.connected_components(graph), key=len)\n",
    "gia_com = graph.subgraph(largest_cc)\n",
    "avg_sho_pat_len = nx.average_shortest_path_length(gia_com)\n",
    "print(f'Avg. shortest path length: {avg_sho_pat_len:.5f}')"
   ]
  },
  {
   "cell_type": "markdown",
   "id": "dried-toner",
   "metadata": {},
   "source": [
    "### Community detection"
   ]
  },
  {
   "cell_type": "code",
   "execution_count": 88,
   "id": "injured-advantage",
   "metadata": {},
   "outputs": [],
   "source": [
    "network_modularity = community.modularity(community.best_partition(graph), graph)"
   ]
  },
  {
   "cell_type": "code",
   "execution_count": 89,
   "id": "nasty-approval",
   "metadata": {},
   "outputs": [
    {
     "name": "stdout",
     "output_type": "stream",
     "text": [
      "Louvain modularity for the full network: 0.6282\n"
     ]
    }
   ],
   "source": [
    "print(f'Louvain modularity for the full network: {network_modularity:.4f}')"
   ]
  },
  {
   "cell_type": "markdown",
   "id": "middle-guatemala",
   "metadata": {},
   "source": [
    "#### Building random network for comparison"
   ]
  },
  {
   "cell_type": "code",
   "execution_count": 90,
   "id": "infrared-houston",
   "metadata": {},
   "outputs": [
    {
     "name": "stdout",
     "output_type": "stream",
     "text": [
      "Degree in original graph: 8990\n",
      "Degree in random graph: 8990\n"
     ]
    }
   ],
   "source": [
    "RG = randomized_graph(graph, int(graph.number_of_edges()*1.2))\n",
    "print(f'Degree in original graph: {sum(dict(graph.degree).values())}')\n",
    "print(f'Degree in random graph: {sum(dict(RG.degree).values())}')"
   ]
  },
  {
   "cell_type": "code",
   "execution_count": 91,
   "id": "varying-waste",
   "metadata": {},
   "outputs": [],
   "source": [
    "modularity_list = []\n",
    "N = 5\n",
    "for _ in range(N):\n",
    "    RG = randomized_graph(graph, int(graph.number_of_edges()*1.2))\n",
    "    new_RG = nw.get_filtered_network(RG, node_group_key='group')\n",
    "    RG_partitioning = get_partitioning(new_RG)\n",
    "    modularity_list.append(modularity(RG, RG_partitioning))"
   ]
  },
  {
   "cell_type": "code",
   "execution_count": 92,
   "id": "aerial-condition",
   "metadata": {},
   "outputs": [
    {
     "name": "stdout",
     "output_type": "stream",
     "text": [
      "Average modularity: 0.0055803444935109015\n",
      "Standard deviation of modularity: 0.0019465755598867711\n"
     ]
    }
   ],
   "source": [
    "print(f'Average modularity: {np.mean(modularity_list)}')\n",
    "print(f'Standard deviation of modularity: {np.std(modularity_list)}')"
   ]
  },
  {
   "cell_type": "code",
   "execution_count": 93,
   "id": "traditional-freeze",
   "metadata": {},
   "outputs": [
    {
     "data": {
      "image/png": "[encoded data removed]",
      "text/plain": [
       "<Figure size 432x288 with 1 Axes>"
      ]
     },
     "metadata": {
      "needs_background": "light"
     },
     "output_type": "display_data"
    }
   ],
   "source": [
    "plt.hist(modularity_list, alpha=0.5, label='Random', density=True)\n",
    "plt.axvline(network_modularity, color = 'b', linestyle='--', label='True')\n",
    "plt.legend()\n",
    "plt.title(f'Modularity of {N} random graphs')\n",
    "plt.xlabel('Modularity')\n",
    "plt.ylabel('Probability')\n",
    "plt.show()"
   ]
  },
  {
   "cell_type": "code",
   "execution_count": null,
   "id": "incoming-scenario",
   "metadata": {},
   "outputs": [],
   "source": []
  },
  {
   "cell_type": "markdown",
   "id": "hawaiian-party",
   "metadata": {
    "pycharm": {
     "name": "#%% md\n"
    }
   },
   "source": [
    "## Rock network"
   ]
  },
  {
   "cell_type": "code",
   "execution_count": 94,
   "id": "double-irish",
   "metadata": {
    "pycharm": {
     "name": "#%%\n"
    }
   },
   "outputs": [],
   "source": [
    "genre = 'rock'\n",
    "G_rock = get_network_by_genre(G, genre)"
   ]
  },
  {
   "cell_type": "code",
   "execution_count": 95,
   "id": "compliant-timber",
   "metadata": {
    "pycharm": {
     "name": "#%%\n"
    }
   },
   "outputs": [],
   "source": [
    "for artist, data in G_rock.nodes(data=True):\n",
    "    data['size'] = artist_genres_count[artist][genre]"
   ]
  },
  {
   "cell_type": "markdown",
   "id": "personalized-howard",
   "metadata": {
    "pycharm": {
     "name": "#%% md\n"
    }
   },
   "source": [
    "### Visualisation"
   ]
  },
  {
   "cell_type": "code",
   "execution_count": 96,
   "id": "deadly-romance",
   "metadata": {
    "pycharm": {
     "name": "#%%\n"
    }
   },
   "outputs": [],
   "source": [
    "# network_G_rock, config = nw.visualize(G_rock, plot_in_cell_below=True)"
   ]
  },
  {
   "cell_type": "markdown",
   "id": "artistic-hospital",
   "metadata": {
    "pycharm": {
     "name": "#%% md\n"
    }
   },
   "source": [
    "### Properties"
   ]
  },
  {
   "cell_type": "code",
   "execution_count": 97,
   "id": "final-logic",
   "metadata": {
    "pycharm": {
     "name": "#%%\n"
    }
   },
   "outputs": [
    {
     "name": "stdout",
     "output_type": "stream",
     "text": [
      "Number of Nodes: 1812\n",
      "Number of Links: 768\n",
      "Density: 0.00047\n",
      "Avg. clustering: 0.07\n",
      "Average degrees: 0.85\n",
      "Median degrees: 0.0\n",
      "Mode of degrees: 0\n",
      "Minimum degree: 0\n",
      "Maximum degree: 19\n"
     ]
    }
   ],
   "source": [
    "graph = G_rock\n",
    "print(f'Number of Nodes: {graph.number_of_nodes()}')\n",
    "print(f'Number of Links: {graph.number_of_edges()}')\n",
    "print(f'Density: {nx.density(graph):.5f}')\n",
    "print(f'Avg. clustering: {nx.average_clustering(graph):.2f}')\n",
    "degrees = list(dict(graph.degree()).values())\n",
    "print(f'Average degrees: {np.mean(degrees):.2f}')\n",
    "print(f'Median degrees: {np.median(degrees)}')\n",
    "print(f'Mode of degrees: {stats.mode(degrees)[0][0]}')\n",
    "print(f'Minimum degree: {min(degrees)}')\n",
    "print(f'Maximum degree: {max(degrees)}')"
   ]
  },
  {
   "cell_type": "code",
   "execution_count": 98,
   "id": "corresponding-knight",
   "metadata": {
    "pycharm": {
     "name": "#%%\n"
    }
   },
   "outputs": [
    {
     "data": {
      "image/png": "[encoded data removed]",
      "text/plain": [
       "<Figure size 432x288 with 1 Axes>"
      ]
     },
     "metadata": {
      "needs_background": "light"
     },
     "output_type": "display_data"
    }
   ],
   "source": [
    "sorted_degrees = {k: v for k, v in sorted(dict(graph.degree()).items(), key=lambda item: item[1], reverse=True)}\n",
    "#bins = np.linspace(min(degrees), max(degrees), 10)\n",
    "bins = np.logspace(0, np.log10(max(degrees)), 10)\n",
    "density = True\n",
    "hist, edges = np.histogram(degrees, bins=bins, density = density)\n",
    "x = (edges[1:] + edges[:-1])/2\n",
    "width = bins[1] - bins[0]\n",
    "\n",
    "fig, ax = plt.subplots()\n",
    "#ax.bar(x, hist, width=width_rand*0.9)\n",
    "ax.plot(x, hist, marker='.')\n",
    "\n",
    "ax.set_xlabel('degrees')\n",
    "if density:\n",
    "    ax.set_ylabel('probability density')\n",
    "else:\n",
    "    ax.set_ylabel('counts')\n",
    "    \n",
    "ax.set_yscale(\"log\")\n",
    "ax.set_xscale(\"log\")"
   ]
  },
  {
   "cell_type": "code",
   "execution_count": 99,
   "id": "annual-jungle",
   "metadata": {
    "pycharm": {
     "name": "#%%\n"
    }
   },
   "outputs": [
    {
     "name": "stdout",
     "output_type": "stream",
     "text": [
      "Avg. shortest path length: 5.19514\n"
     ]
    }
   ],
   "source": [
    "con_com = nx.algorithms.connected_components(graph)\n",
    "largest_cc = max(nx.connected_components(graph), key=len)\n",
    "gia_com = graph.subgraph(largest_cc)\n",
    "avg_sho_pat_len = nx.average_shortest_path_length(gia_com)\n",
    "print(f'Avg. shortest path length: {avg_sho_pat_len:.5f}')"
   ]
  },
  {
   "cell_type": "markdown",
   "id": "polyphonic-study",
   "metadata": {},
   "source": [
    "### Community detection"
   ]
  },
  {
   "cell_type": "code",
   "execution_count": 100,
   "id": "british-novelty",
   "metadata": {},
   "outputs": [],
   "source": [
    "network_modularity = community.modularity(community.best_partition(graph), graph)"
   ]
  },
  {
   "cell_type": "code",
   "execution_count": 101,
   "id": "serial-interest",
   "metadata": {},
   "outputs": [
    {
     "name": "stdout",
     "output_type": "stream",
     "text": [
      "Louvain modularity for the full network: 0.8534\n"
     ]
    }
   ],
   "source": [
    "print(f'Louvain modularity for the full network: {network_modularity:.4f}')"
   ]
  },
  {
   "cell_type": "markdown",
   "id": "serial-providence",
   "metadata": {},
   "source": [
    "#### Building random network for comparison"
   ]
  },
  {
   "cell_type": "code",
   "execution_count": 102,
   "id": "adjustable-devices",
   "metadata": {},
   "outputs": [
    {
     "name": "stdout",
     "output_type": "stream",
     "text": [
      "Degree in original graph: 1536\n",
      "Degree in random graph: 1536\n"
     ]
    }
   ],
   "source": [
    "RG = randomized_graph(graph, int(graph.number_of_edges()*1.2))\n",
    "print(f'Degree in original graph: {sum(dict(graph.degree).values())}')\n",
    "print(f'Degree in random graph: {sum(dict(RG.degree).values())}')"
   ]
  },
  {
   "cell_type": "code",
   "execution_count": 103,
   "id": "historic-involvement",
   "metadata": {},
   "outputs": [],
   "source": [
    "modularity_list = []\n",
    "N = 5\n",
    "for _ in range(N):\n",
    "    RG = randomized_graph(graph, int(graph.number_of_edges()*1.2))\n",
    "    new_RG = nw.get_filtered_network(RG, node_group_key='group')\n",
    "    RG_partitioning = get_partitioning(new_RG)\n",
    "    modularity_list.append(modularity(RG, RG_partitioning))"
   ]
  },
  {
   "cell_type": "code",
   "execution_count": 104,
   "id": "mechanical-devil",
   "metadata": {},
   "outputs": [
    {
     "name": "stdout",
     "output_type": "stream",
     "text": [
      "Average modularity: 0.012597825792100678\n",
      "Standard deviation of modularity: 0.004730703678277333\n"
     ]
    }
   ],
   "source": [
    "print(f'Average modularity: {np.mean(modularity_list)}')\n",
    "print(f'Standard deviation of modularity: {np.std(modularity_list)}')"
   ]
  },
  {
   "cell_type": "code",
   "execution_count": 105,
   "id": "impossible-theme",
   "metadata": {},
   "outputs": [
    {
     "data": {
      "image/png": "[encoded data removed]",
      "text/plain": [
       "<Figure size 432x288 with 1 Axes>"
      ]
     },
     "metadata": {
      "needs_background": "light"
     },
     "output_type": "display_data"
    }
   ],
   "source": [
    "plt.hist(modularity_list, alpha=0.5, label='Random', density=True)\n",
    "plt.axvline(network_modularity, color = 'b', linestyle='--', label='True')\n",
    "plt.legend()\n",
    "plt.title(f'Modularity of {N} random graphs')\n",
    "plt.xlabel('Modularity')\n",
    "plt.ylabel('Probability')\n",
    "plt.show()"
   ]
  },
  {
   "cell_type": "code",
   "execution_count": null,
   "id": "palestinian-queensland",
   "metadata": {},
   "outputs": [],
   "source": []
  },
  {
   "cell_type": "markdown",
   "id": "hired-depression",
   "metadata": {
    "pycharm": {
     "name": "#%% md\n"
    }
   },
   "source": [
    "## R&B network"
   ]
  },
  {
   "cell_type": "code",
   "execution_count": 106,
   "id": "injured-cathedral",
   "metadata": {
    "pycharm": {
     "name": "#%%\n"
    }
   },
   "outputs": [],
   "source": [
    "genre = 'r&b'\n",
    "G_RB = get_network_by_genre(G, genre)"
   ]
  },
  {
   "cell_type": "code",
   "execution_count": 107,
   "id": "laden-insured",
   "metadata": {
    "pycharm": {
     "name": "#%%\n"
    }
   },
   "outputs": [],
   "source": [
    "for artist, data in G_RB.nodes(data=True):\n",
    "    data['size'] = artist_genres_count[artist][genre]"
   ]
  },
  {
   "cell_type": "markdown",
   "id": "radio-communication",
   "metadata": {
    "pycharm": {
     "name": "#%% md\n"
    }
   },
   "source": [
    "### Visualisation"
   ]
  },
  {
   "cell_type": "code",
   "execution_count": 108,
   "id": "inside-treasury",
   "metadata": {
    "pycharm": {
     "name": "#%%\n"
    }
   },
   "outputs": [],
   "source": [
    "# network_G_RB, config = nw.visualize(G_RB, plot_in_cell_below=True)"
   ]
  },
  {
   "cell_type": "markdown",
   "id": "intimate-thought",
   "metadata": {
    "pycharm": {
     "name": "#%% md\n"
    }
   },
   "source": [
    "### Properties"
   ]
  },
  {
   "cell_type": "code",
   "execution_count": 109,
   "id": "crucial-oxygen",
   "metadata": {
    "pycharm": {
     "name": "#%%\n"
    }
   },
   "outputs": [
    {
     "name": "stdout",
     "output_type": "stream",
     "text": [
      "Number of Nodes: 1631\n",
      "Number of Links: 2657\n",
      "Density: 0.00200\n",
      "Avg. clustering: 0.16\n",
      "Average degrees: 3.26\n",
      "Median degrees: 1.0\n",
      "Mode of degrees: 0\n",
      "Minimum degree: 0\n",
      "Maximum degree: 83\n"
     ]
    }
   ],
   "source": [
    "graph = G_RB\n",
    "print(f'Number of Nodes: {graph.number_of_nodes()}')\n",
    "print(f'Number of Links: {graph.number_of_edges()}')\n",
    "print(f'Density: {nx.density(graph):.5f}')\n",
    "print(f'Avg. clustering: {nx.average_clustering(graph):.2f}')\n",
    "degrees = list(dict(graph.degree()).values())\n",
    "print(f'Average degrees: {np.mean(degrees):.2f}')\n",
    "print(f'Median degrees: {np.median(degrees)}')\n",
    "print(f'Mode of degrees: {stats.mode(degrees)[0][0]}')\n",
    "print(f'Minimum degree: {min(degrees)}')\n",
    "print(f'Maximum degree: {max(degrees)}')"
   ]
  },
  {
   "cell_type": "code",
   "execution_count": 110,
   "id": "complicated-japanese",
   "metadata": {
    "pycharm": {
     "name": "#%%\n"
    }
   },
   "outputs": [
    {
     "data": {
      "image/png": "[encoded data removed]",
      "text/plain": [
       "<Figure size 432x288 with 1 Axes>"
      ]
     },
     "metadata": {
      "needs_background": "light"
     },
     "output_type": "display_data"
    }
   ],
   "source": [
    "sorted_degrees = {k: v for k, v in sorted(dict(graph.degree()).items(), key=lambda item: item[1], reverse=True)}\n",
    "#bins = np.linspace(min(degrees), max(degrees), 10)\n",
    "bins = np.logspace(0, np.log10(max(degrees)), 10)\n",
    "density = True\n",
    "hist, edges = np.histogram(degrees, bins=bins, density = density)\n",
    "x = (edges[1:] + edges[:-1])/2\n",
    "width = bins[1] - bins[0]\n",
    "\n",
    "fig, ax = plt.subplots()\n",
    "#ax.bar(x, hist, width=width_rand*0.9)\n",
    "ax.plot(x, hist, marker='.')\n",
    "\n",
    "ax.set_xlabel('degrees')\n",
    "if density:\n",
    "    ax.set_ylabel('probability density')\n",
    "else:\n",
    "    ax.set_ylabel('counts')\n",
    "    \n",
    "ax.set_yscale(\"log\")\n",
    "ax.set_xscale(\"log\")"
   ]
  },
  {
   "cell_type": "code",
   "execution_count": 111,
   "id": "applicable-uganda",
   "metadata": {
    "pycharm": {
     "name": "#%%\n"
    },
    "scrolled": true
   },
   "outputs": [
    {
     "name": "stdout",
     "output_type": "stream",
     "text": [
      "Avg. shortest path length: 4.10817\n"
     ]
    }
   ],
   "source": [
    "con_com = nx.algorithms.connected_components(graph)\n",
    "largest_cc = max(nx.connected_components(graph), key=len)\n",
    "gia_com = graph.subgraph(largest_cc)\n",
    "avg_sho_pat_len = nx.average_shortest_path_length(gia_com)\n",
    "print(f'Avg. shortest path length: {avg_sho_pat_len:.5f}')"
   ]
  },
  {
   "cell_type": "markdown",
   "id": "antique-realtor",
   "metadata": {},
   "source": [
    "### Community detection"
   ]
  },
  {
   "cell_type": "code",
   "execution_count": 112,
   "id": "speaking-engineer",
   "metadata": {},
   "outputs": [],
   "source": [
    "network_modularity = community.modularity(community.best_partition(graph), graph)"
   ]
  },
  {
   "cell_type": "code",
   "execution_count": 113,
   "id": "defensive-weekly",
   "metadata": {},
   "outputs": [
    {
     "name": "stdout",
     "output_type": "stream",
     "text": [
      "Louvain modularity for the full network: 0.5425\n"
     ]
    }
   ],
   "source": [
    "print(f'Louvain modularity for the full network: {network_modularity:.4f}')"
   ]
  },
  {
   "cell_type": "markdown",
   "id": "connected-local",
   "metadata": {},
   "source": [
    "#### Building random network for comparison"
   ]
  },
  {
   "cell_type": "code",
   "execution_count": 114,
   "id": "nutritional-pizza",
   "metadata": {},
   "outputs": [
    {
     "name": "stdout",
     "output_type": "stream",
     "text": [
      "Degree in original graph: 5314\n",
      "Degree in random graph: 5314\n"
     ]
    }
   ],
   "source": [
    "RG = randomized_graph(graph, int(graph.number_of_edges()*1.2))\n",
    "print(f'Degree in original graph: {sum(dict(graph.degree).values())}')\n",
    "print(f'Degree in random graph: {sum(dict(RG.degree).values())}')"
   ]
  },
  {
   "cell_type": "code",
   "execution_count": 115,
   "id": "imported-death",
   "metadata": {},
   "outputs": [],
   "source": [
    "modularity_list = []\n",
    "N = 5\n",
    "for _ in range(N):\n",
    "    RG = randomized_graph(graph, int(graph.number_of_edges()*1.2))\n",
    "    new_RG = nw.get_filtered_network(RG, node_group_key='group')\n",
    "    RG_partitioning = get_partitioning(new_RG)\n",
    "    modularity_list.append(modularity(RG, RG_partitioning))"
   ]
  },
  {
   "cell_type": "code",
   "execution_count": 116,
   "id": "smaller-creature",
   "metadata": {},
   "outputs": [
    {
     "name": "stdout",
     "output_type": "stream",
     "text": [
      "Average modularity: 0.003285744092942944\n",
      "Standard deviation of modularity: 0.0040015156522399675\n"
     ]
    }
   ],
   "source": [
    "print(f'Average modularity: {np.mean(modularity_list)}')\n",
    "print(f'Standard deviation of modularity: {np.std(modularity_list)}')"
   ]
  },
  {
   "cell_type": "code",
   "execution_count": 117,
   "id": "crucial-nowhere",
   "metadata": {},
   "outputs": [
    {
     "data": {
      "image/png": "[encoded data removed]",
      "text/plain": [
       "<Figure size 432x288 with 1 Axes>"
      ]
     },
     "metadata": {
      "needs_background": "light"
     },
     "output_type": "display_data"
    }
   ],
   "source": [
    "plt.hist(modularity_list, alpha=0.5, label='Random', density=True)\n",
    "plt.axvline(network_modularity, color = 'b', linestyle='--', label='True')\n",
    "plt.legend()\n",
    "plt.title(f'Modularity of {N} random graphs')\n",
    "plt.xlabel('Modularity')\n",
    "plt.ylabel('Probability')\n",
    "plt.show()"
   ]
  },
  {
   "cell_type": "code",
   "execution_count": null,
   "id": "military-preview",
   "metadata": {},
   "outputs": [],
   "source": []
  },
  {
   "cell_type": "markdown",
   "id": "devoted-cable",
   "metadata": {
    "pycharm": {
     "name": "#%% md\n"
    }
   },
   "source": [
    "## Country network"
   ]
  },
  {
   "cell_type": "code",
   "execution_count": 118,
   "id": "baking-listening",
   "metadata": {
    "pycharm": {
     "name": "#%%\n"
    }
   },
   "outputs": [],
   "source": [
    "genre = 'country'\n",
    "G_country = get_network_by_genre(G, genre)"
   ]
  },
  {
   "cell_type": "code",
   "execution_count": 119,
   "id": "stuck-consensus",
   "metadata": {
    "pycharm": {
     "name": "#%%\n"
    }
   },
   "outputs": [],
   "source": [
    "for artist, data in G_country.nodes(data=True):\n",
    "    data['size'] = artist_genres_count[artist][genre]"
   ]
  },
  {
   "cell_type": "markdown",
   "id": "temporal-transcription",
   "metadata": {
    "pycharm": {
     "name": "#%% md\n"
    }
   },
   "source": [
    "### Visualisation"
   ]
  },
  {
   "cell_type": "code",
   "execution_count": 120,
   "id": "refined-conjunction",
   "metadata": {
    "pycharm": {
     "name": "#%%\n"
    }
   },
   "outputs": [],
   "source": [
    "# network_G_country, config = nw.visualize(G_country, plot_in_cell_below=True)"
   ]
  },
  {
   "cell_type": "markdown",
   "id": "union-recording",
   "metadata": {
    "pycharm": {
     "name": "#%% md\n"
    }
   },
   "source": [
    "### Properties"
   ]
  },
  {
   "cell_type": "code",
   "execution_count": 121,
   "id": "legislative-reputation",
   "metadata": {
    "pycharm": {
     "name": "#%%\n"
    }
   },
   "outputs": [
    {
     "name": "stdout",
     "output_type": "stream",
     "text": [
      "Number of Nodes: 622\n",
      "Number of Links: 340\n",
      "Density: 0.00176\n",
      "Avg. clustering: 0.09\n",
      "Average degrees: 1.09\n",
      "Median degrees: 0.0\n",
      "Mode of degrees: 0\n",
      "Minimum degree: 0\n",
      "Maximum degree: 19\n"
     ]
    }
   ],
   "source": [
    "graph = G_country\n",
    "print(f'Number of Nodes: {graph.number_of_nodes()}')\n",
    "print(f'Number of Links: {graph.number_of_edges()}')\n",
    "print(f'Density: {nx.density(graph):.5f}')\n",
    "print(f'Avg. clustering: {nx.average_clustering(graph):.2f}')\n",
    "degrees = list(dict(graph.degree()).values())\n",
    "print(f'Average degrees: {np.mean(degrees):.2f}')\n",
    "print(f'Median degrees: {np.median(degrees)}')\n",
    "print(f'Mode of degrees: {stats.mode(degrees)[0][0]}')\n",
    "print(f'Minimum degree: {min(degrees)}')\n",
    "print(f'Maximum degree: {max(degrees)}')"
   ]
  },
  {
   "cell_type": "code",
   "execution_count": 122,
   "id": "focused-mandate",
   "metadata": {
    "pycharm": {
     "name": "#%%\n"
    }
   },
   "outputs": [
    {
     "data": {
      "image/png": "[encoded data removed]",
      "text/plain": [
       "<Figure size 432x288 with 1 Axes>"
      ]
     },
     "metadata": {
      "needs_background": "light"
     },
     "output_type": "display_data"
    }
   ],
   "source": [
    "sorted_degrees = {k: v for k, v in sorted(dict(graph.degree()).items(), key=lambda item: item[1], reverse=True)}\n",
    "#bins = np.linspace(min(degrees), max(degrees), 10)\n",
    "bins = np.logspace(0, np.log10(max(degrees)), 10)\n",
    "density = True\n",
    "hist, edges = np.histogram(degrees, bins=bins, density = density)\n",
    "x = (edges[1:] + edges[:-1])/2\n",
    "width = bins[1] - bins[0]\n",
    "\n",
    "fig, ax = plt.subplots()\n",
    "#ax.bar(x, hist, width=width_rand*0.9)\n",
    "ax.plot(x, hist, marker='.')\n",
    "\n",
    "ax.set_xlabel('degrees')\n",
    "if density:\n",
    "    ax.set_ylabel('probability density')\n",
    "else:\n",
    "    ax.set_ylabel('counts')\n",
    "    \n",
    "ax.set_yscale(\"log\")\n",
    "ax.set_xscale(\"log\")"
   ]
  },
  {
   "cell_type": "code",
   "execution_count": 123,
   "id": "democratic-jewelry",
   "metadata": {
    "pycharm": {
     "name": "#%%\n"
    }
   },
   "outputs": [
    {
     "name": "stdout",
     "output_type": "stream",
     "text": [
      "Avg. shortest path length: 4.72255\n"
     ]
    }
   ],
   "source": [
    "con_com = nx.algorithms.connected_components(graph)\n",
    "largest_cc = max(nx.connected_components(graph), key=len)\n",
    "gia_com = graph.subgraph(largest_cc)\n",
    "avg_sho_pat_len = nx.average_shortest_path_length(gia_com)\n",
    "print(f'Avg. shortest path length: {avg_sho_pat_len:.5f}')"
   ]
  },
  {
   "cell_type": "markdown",
   "id": "individual-soundtrack",
   "metadata": {},
   "source": [
    "### Community detection"
   ]
  },
  {
   "cell_type": "code",
   "execution_count": 124,
   "id": "declared-deposit",
   "metadata": {},
   "outputs": [],
   "source": [
    "network_modularity = community.modularity(community.best_partition(graph), graph)"
   ]
  },
  {
   "cell_type": "code",
   "execution_count": 125,
   "id": "protected-sunglasses",
   "metadata": {},
   "outputs": [
    {
     "name": "stdout",
     "output_type": "stream",
     "text": [
      "Louvain modularity for the full network: 0.7959\n"
     ]
    }
   ],
   "source": [
    "print(f'Louvain modularity for the full network: {network_modularity:.4f}')"
   ]
  },
  {
   "cell_type": "markdown",
   "id": "supposed-dallas",
   "metadata": {},
   "source": [
    "#### Building random network for comparison"
   ]
  },
  {
   "cell_type": "code",
   "execution_count": 126,
   "id": "rural-accountability",
   "metadata": {},
   "outputs": [
    {
     "name": "stdout",
     "output_type": "stream",
     "text": [
      "Degree in original graph: 680\n",
      "Degree in random graph: 680\n"
     ]
    }
   ],
   "source": [
    "RG = randomized_graph(graph, int(graph.number_of_edges()*1.2))\n",
    "print(f'Degree in original graph: {sum(dict(graph.degree).values())}')\n",
    "print(f'Degree in random graph: {sum(dict(RG.degree).values())}')"
   ]
  },
  {
   "cell_type": "code",
   "execution_count": 127,
   "id": "african-coalition",
   "metadata": {},
   "outputs": [],
   "source": [
    "modularity_list = []\n",
    "N = 5\n",
    "for _ in range(N):\n",
    "    RG = randomized_graph(graph, int(graph.number_of_edges()*1.2))\n",
    "    new_RG = nw.get_filtered_network(RG, node_group_key='group')\n",
    "    RG_partitioning = get_partitioning(new_RG)\n",
    "    modularity_list.append(modularity(RG, RG_partitioning))"
   ]
  },
  {
   "cell_type": "code",
   "execution_count": 128,
   "id": "acknowledged-synthesis",
   "metadata": {},
   "outputs": [
    {
     "name": "stdout",
     "output_type": "stream",
     "text": [
      "Average modularity: 0.00842560553633211\n",
      "Standard deviation of modularity: 0.011616716269489118\n"
     ]
    }
   ],
   "source": [
    "print(f'Average modularity: {np.mean(modularity_list)}')\n",
    "print(f'Standard deviation of modularity: {np.std(modularity_list)}')"
   ]
  },
  {
   "cell_type": "code",
   "execution_count": 129,
   "id": "configured-violation",
   "metadata": {},
   "outputs": [
    {
     "data": {
      "image/png": "[encoded data removed]",
      "text/plain": [
       "<Figure size 432x288 with 1 Axes>"
      ]
     },
     "metadata": {
      "needs_background": "light"
     },
     "output_type": "display_data"
    }
   ],
   "source": [
    "plt.hist(modularity_list, alpha=0.5, label='Random', density=True)\n",
    "plt.axvline(network_modularity, color = 'b', linestyle='--', label='True')\n",
    "plt.legend()\n",
    "plt.title(f'Modularity of {N} random graphs')\n",
    "plt.xlabel('Modularity')\n",
    "plt.ylabel('Probability')\n",
    "plt.show()"
   ]
  },
  {
   "cell_type": "code",
   "execution_count": null,
   "id": "atomic-typing",
   "metadata": {},
   "outputs": [],
   "source": []
  },
  {
   "cell_type": "markdown",
   "id": "adapted-american",
   "metadata": {
    "pycharm": {
     "name": "#%% md\n"
    }
   },
   "source": [
    "## Soul network"
   ]
  },
  {
   "cell_type": "code",
   "execution_count": 130,
   "id": "attached-significance",
   "metadata": {
    "pycharm": {
     "name": "#%%\n"
    }
   },
   "outputs": [],
   "source": [
    "genre = 'soul'\n",
    "G_soul = get_network_by_genre(G, genre)"
   ]
  },
  {
   "cell_type": "code",
   "execution_count": 131,
   "id": "gothic-summary",
   "metadata": {
    "pycharm": {
     "name": "#%%\n"
    }
   },
   "outputs": [],
   "source": [
    "for artist, data in G_soul.nodes(data=True):\n",
    "    data['size'] = artist_genres_count[artist][genre]"
   ]
  },
  {
   "cell_type": "markdown",
   "id": "maritime-nickel",
   "metadata": {
    "pycharm": {
     "name": "#%% md\n"
    }
   },
   "source": [
    "### Visualisation"
   ]
  },
  {
   "cell_type": "code",
   "execution_count": 132,
   "id": "bibliographic-duncan",
   "metadata": {
    "pycharm": {
     "name": "#%%\n"
    }
   },
   "outputs": [],
   "source": [
    "# network_G_soul, config = nw.visualize(G_soul, plot_in_cell_below=True)"
   ]
  },
  {
   "cell_type": "markdown",
   "id": "structural-warehouse",
   "metadata": {
    "pycharm": {
     "name": "#%% md\n"
    }
   },
   "source": [
    "### Properties"
   ]
  },
  {
   "cell_type": "code",
   "execution_count": 133,
   "id": "returning-yeast",
   "metadata": {
    "pycharm": {
     "name": "#%%\n"
    }
   },
   "outputs": [
    {
     "name": "stdout",
     "output_type": "stream",
     "text": [
      "Number of Nodes: 721\n",
      "Number of Links: 756\n",
      "Density: 0.00291\n",
      "Avg. clustering: 0.12\n",
      "Average degrees: 2.10\n",
      "Median degrees: 1.0\n",
      "Mode of degrees: 0\n",
      "Minimum degree: 0\n",
      "Maximum degree: 32\n"
     ]
    }
   ],
   "source": [
    "graph = G_soul\n",
    "print(f'Number of Nodes: {graph.number_of_nodes()}')\n",
    "print(f'Number of Links: {graph.number_of_edges()}')\n",
    "print(f'Density: {nx.density(graph):.5f}')\n",
    "print(f'Avg. clustering: {nx.average_clustering(graph):.2f}')\n",
    "degrees = list(dict(graph.degree()).values())\n",
    "print(f'Average degrees: {np.mean(degrees):.2f}')\n",
    "print(f'Median degrees: {np.median(degrees)}')\n",
    "print(f'Mode of degrees: {stats.mode(degrees)[0][0]}')\n",
    "print(f'Minimum degree: {min(degrees)}')\n",
    "print(f'Maximum degree: {max(degrees)}')"
   ]
  },
  {
   "cell_type": "code",
   "execution_count": 134,
   "id": "embedded-memorial",
   "metadata": {
    "pycharm": {
     "name": "#%%\n"
    }
   },
   "outputs": [
    {
     "data": {
      "image/png": "[encoded data removed]",
      "text/plain": [
       "<Figure size 432x288 with 1 Axes>"
      ]
     },
     "metadata": {
      "needs_background": "light"
     },
     "output_type": "display_data"
    }
   ],
   "source": [
    "sorted_degrees = {k: v for k, v in sorted(dict(graph.degree()).items(), key=lambda item: item[1], reverse=True)}\n",
    "#bins = np.linspace(min(degrees), max(degrees), 10)\n",
    "bins = np.logspace(0, np.log10(max(degrees)), 10)\n",
    "density = True\n",
    "hist, edges = np.histogram(degrees, bins=bins, density = density)\n",
    "x = (edges[1:] + edges[:-1])/2\n",
    "width = bins[1] - bins[0]\n",
    "\n",
    "fig, ax = plt.subplots()\n",
    "#ax.bar(x, hist, width=width_rand*0.9)\n",
    "ax.plot(x, hist, marker='.')\n",
    "\n",
    "ax.set_xlabel('degrees')\n",
    "if density:\n",
    "    ax.set_ylabel('probability density')\n",
    "else:\n",
    "    ax.set_ylabel('counts')\n",
    "    \n",
    "ax.set_yscale(\"log\")\n",
    "ax.set_xscale(\"log\")"
   ]
  },
  {
   "cell_type": "code",
   "execution_count": 135,
   "id": "modern-launch",
   "metadata": {
    "pycharm": {
     "name": "#%%\n"
    }
   },
   "outputs": [
    {
     "name": "stdout",
     "output_type": "stream",
     "text": [
      "Avg. shortest path length: 4.09309\n"
     ]
    }
   ],
   "source": [
    "con_com = nx.algorithms.connected_components(graph)\n",
    "largest_cc = max(nx.connected_components(graph), key=len)\n",
    "gia_com = graph.subgraph(largest_cc)\n",
    "avg_sho_pat_len = nx.average_shortest_path_length(gia_com)\n",
    "print(f'Avg. shortest path length: {avg_sho_pat_len:.5f}')"
   ]
  },
  {
   "cell_type": "markdown",
   "id": "juvenile-domestic",
   "metadata": {},
   "source": [
    "### Community detection"
   ]
  },
  {
   "cell_type": "code",
   "execution_count": 136,
   "id": "graduate-macedonia",
   "metadata": {},
   "outputs": [],
   "source": [
    "network_modularity = community.modularity(community.best_partition(graph), graph)"
   ]
  },
  {
   "cell_type": "code",
   "execution_count": 137,
   "id": "likely-triple",
   "metadata": {},
   "outputs": [
    {
     "name": "stdout",
     "output_type": "stream",
     "text": [
      "Louvain modularity for the full network: 0.6575\n"
     ]
    }
   ],
   "source": [
    "print(f'Louvain modularity for the full network: {network_modularity:.4f}')"
   ]
  },
  {
   "cell_type": "markdown",
   "id": "spoken-theme",
   "metadata": {},
   "source": [
    "#### Building random network for comparison"
   ]
  },
  {
   "cell_type": "code",
   "execution_count": 138,
   "id": "planned-albany",
   "metadata": {},
   "outputs": [
    {
     "name": "stdout",
     "output_type": "stream",
     "text": [
      "Degree in original graph: 1512\n",
      "Degree in random graph: 1512\n"
     ]
    }
   ],
   "source": [
    "RG = randomized_graph(graph, int(graph.number_of_edges()*1.2))\n",
    "print(f'Degree in original graph: {sum(dict(graph.degree).values())}')\n",
    "print(f'Degree in random graph: {sum(dict(RG.degree).values())}')"
   ]
  },
  {
   "cell_type": "code",
   "execution_count": 139,
   "id": "waiting-breakfast",
   "metadata": {},
   "outputs": [],
   "source": [
    "modularity_list = []\n",
    "N = 5\n",
    "for _ in range(N):\n",
    "    RG = randomized_graph(graph, int(graph.number_of_edges()*1.2))\n",
    "    new_RG = nw.get_filtered_network(RG, node_group_key='group')\n",
    "    RG_partitioning = get_partitioning(new_RG)\n",
    "    modularity_list.append(modularity(RG, RG_partitioning))"
   ]
  },
  {
   "cell_type": "code",
   "execution_count": 140,
   "id": "together-chemistry",
   "metadata": {},
   "outputs": [
    {
     "name": "stdout",
     "output_type": "stream",
     "text": [
      "Average modularity: -0.0024917065591668727\n",
      "Standard deviation of modularity: 0.011304688158318253\n"
     ]
    }
   ],
   "source": [
    "print(f'Average modularity: {np.mean(modularity_list)}')\n",
    "print(f'Standard deviation of modularity: {np.std(modularity_list)}')"
   ]
  },
  {
   "cell_type": "code",
   "execution_count": 141,
   "id": "figured-hartford",
   "metadata": {},
   "outputs": [
    {
     "data": {
      "image/png": "[encoded data removed]",
      "text/plain": [
       "<Figure size 432x288 with 1 Axes>"
      ]
     },
     "metadata": {
      "needs_background": "light"
     },
     "output_type": "display_data"
    }
   ],
   "source": [
    "plt.hist(modularity_list, alpha=0.5, label='Random', density=True)\n",
    "plt.axvline(network_modularity, color = 'b', linestyle='--', label='True')\n",
    "plt.legend()\n",
    "plt.title(f'Modularity of {N} random graphs')\n",
    "plt.xlabel('Modularity')\n",
    "plt.ylabel('Probability')\n",
    "plt.show()"
   ]
  },
  {
   "cell_type": "code",
   "execution_count": null,
   "id": "hindu-richmond",
   "metadata": {},
   "outputs": [],
   "source": []
  },
  {
   "cell_type": "markdown",
   "id": "amended-launch",
   "metadata": {
    "pycharm": {
     "name": "#%% md\n"
    }
   },
   "source": [
    "## Singer-songwriter network"
   ]
  },
  {
   "cell_type": "code",
   "execution_count": 142,
   "id": "greenhouse-father",
   "metadata": {
    "pycharm": {
     "name": "#%%\n"
    }
   },
   "outputs": [],
   "source": [
    "genre = 'singer-songwriter'\n",
    "G_SS = get_network_by_genre(G, genre)"
   ]
  },
  {
   "cell_type": "code",
   "execution_count": 143,
   "id": "surprising-studio",
   "metadata": {
    "pycharm": {
     "name": "#%%\n"
    }
   },
   "outputs": [],
   "source": [
    "for artist, data in G_SS.nodes(data=True):\n",
    "    data['size'] = artist_genres_count[artist][genre]"
   ]
  },
  {
   "cell_type": "markdown",
   "id": "organizational-input",
   "metadata": {
    "pycharm": {
     "name": "#%% md\n"
    }
   },
   "source": [
    "### Visualisation"
   ]
  },
  {
   "cell_type": "code",
   "execution_count": 144,
   "id": "unlimited-praise",
   "metadata": {
    "pycharm": {
     "name": "#%%\n"
    }
   },
   "outputs": [],
   "source": [
    "# network_G_SS, config = nw.visualize(G_SS, plot_in_cell_below=True)"
   ]
  },
  {
   "cell_type": "markdown",
   "id": "lesser-frost",
   "metadata": {
    "pycharm": {
     "name": "#%% md\n"
    }
   },
   "source": [
    "### Properties"
   ]
  },
  {
   "cell_type": "code",
   "execution_count": 145,
   "id": "synthetic-decade",
   "metadata": {
    "pycharm": {
     "name": "#%%\n"
    }
   },
   "outputs": [
    {
     "name": "stdout",
     "output_type": "stream",
     "text": [
      "Number of Nodes: 561\n",
      "Number of Links: 565\n",
      "Density: 0.00360\n",
      "Avg. clustering: 0.12\n",
      "Average degrees: 2.01\n",
      "Median degrees: 1.0\n",
      "Mode of degrees: 0\n",
      "Minimum degree: 0\n",
      "Maximum degree: 25\n"
     ]
    }
   ],
   "source": [
    "graph = G_SS\n",
    "print(f'Number of Nodes: {graph.number_of_nodes()}')\n",
    "print(f'Number of Links: {graph.number_of_edges()}')\n",
    "print(f'Density: {nx.density(graph):.5f}')\n",
    "print(f'Avg. clustering: {nx.average_clustering(graph):.2f}')\n",
    "degrees = list(dict(graph.degree()).values())\n",
    "print(f'Average degrees: {np.mean(degrees):.2f}')\n",
    "print(f'Median degrees: {np.median(degrees)}')\n",
    "print(f'Mode of degrees: {stats.mode(degrees)[0][0]}')\n",
    "print(f'Minimum degree: {min(degrees)}')\n",
    "print(f'Maximum degree: {max(degrees)}')"
   ]
  },
  {
   "cell_type": "code",
   "execution_count": 146,
   "id": "young-hayes",
   "metadata": {
    "pycharm": {
     "name": "#%%\n"
    }
   },
   "outputs": [
    {
     "data": {
      "image/png": "[encoded data removed]",
      "text/plain": [
       "<Figure size 432x288 with 1 Axes>"
      ]
     },
     "metadata": {
      "needs_background": "light"
     },
     "output_type": "display_data"
    }
   ],
   "source": [
    "sorted_degrees = {k: v for k, v in sorted(dict(graph.degree()).items(), key=lambda item: item[1], reverse=True)}\n",
    "#bins = np.linspace(min(degrees), max(degrees), 10)\n",
    "bins = np.logspace(0, np.log10(max(degrees)), 10)\n",
    "density = True\n",
    "hist, edges = np.histogram(degrees, bins=bins, density = density)\n",
    "x = (edges[1:] + edges[:-1])/2\n",
    "width = bins[1] - bins[0]\n",
    "\n",
    "fig, ax = plt.subplots()\n",
    "#ax.bar(x, hist, width=width_rand*0.9)\n",
    "ax.plot(x, hist, marker='.')\n",
    "\n",
    "ax.set_xlabel('degrees')\n",
    "if density:\n",
    "    ax.set_ylabel('probability density')\n",
    "else:\n",
    "    ax.set_ylabel('counts')\n",
    "    \n",
    "ax.set_yscale(\"log\")\n",
    "ax.set_xscale(\"log\")"
   ]
  },
  {
   "cell_type": "code",
   "execution_count": 147,
   "id": "respected-bruce",
   "metadata": {
    "pycharm": {
     "name": "#%%\n"
    }
   },
   "outputs": [
    {
     "name": "stdout",
     "output_type": "stream",
     "text": [
      "Avg. shortest path length: 4.36970\n"
     ]
    }
   ],
   "source": [
    "con_com = nx.algorithms.connected_components(graph)\n",
    "largest_cc = max(nx.connected_components(graph), key=len)\n",
    "gia_com = graph.subgraph(largest_cc)\n",
    "avg_sho_pat_len = nx.average_shortest_path_length(gia_com)\n",
    "print(f'Avg. shortest path length: {avg_sho_pat_len:.5f}')"
   ]
  },
  {
   "cell_type": "markdown",
   "id": "invisible-aquatic",
   "metadata": {},
   "source": [
    "### Community detection"
   ]
  },
  {
   "cell_type": "code",
   "execution_count": 148,
   "id": "tough-matrix",
   "metadata": {},
   "outputs": [],
   "source": [
    "network_modularity = community.modularity(community.best_partition(graph), graph)"
   ]
  },
  {
   "cell_type": "code",
   "execution_count": 149,
   "id": "manual-sending",
   "metadata": {},
   "outputs": [
    {
     "name": "stdout",
     "output_type": "stream",
     "text": [
      "Louvain modularity for the full network: 0.7054\n"
     ]
    }
   ],
   "source": [
    "print(f'Louvain modularity for the full network: {network_modularity:.4f}')"
   ]
  },
  {
   "cell_type": "markdown",
   "id": "awful-twins",
   "metadata": {},
   "source": [
    "#### Building random network for comparison"
   ]
  },
  {
   "cell_type": "code",
   "execution_count": 150,
   "id": "functional-poster",
   "metadata": {},
   "outputs": [
    {
     "name": "stdout",
     "output_type": "stream",
     "text": [
      "Degree in original graph: 1130\n",
      "Degree in random graph: 1130\n"
     ]
    }
   ],
   "source": [
    "RG = randomized_graph(graph, int(graph.number_of_edges()*1.2))\n",
    "print(f'Degree in original graph: {sum(dict(graph.degree).values())}')\n",
    "print(f'Degree in random graph: {sum(dict(RG.degree).values())}')"
   ]
  },
  {
   "cell_type": "code",
   "execution_count": 151,
   "id": "solar-library",
   "metadata": {},
   "outputs": [],
   "source": [
    "modularity_list = []\n",
    "N = 5\n",
    "for _ in range(N):\n",
    "    RG = randomized_graph(graph, int(graph.number_of_edges()*1.2))\n",
    "    new_RG = nw.get_filtered_network(RG, node_group_key='group')\n",
    "    RG_partitioning = get_partitioning(new_RG)\n",
    "    modularity_list.append(modularity(RG, RG_partitioning))"
   ]
  },
  {
   "cell_type": "code",
   "execution_count": 152,
   "id": "thirty-absorption",
   "metadata": {},
   "outputs": [
    {
     "name": "stdout",
     "output_type": "stream",
     "text": [
      "Average modularity: 0.02658313102044013\n",
      "Standard deviation of modularity: 0.013617971017112464\n"
     ]
    }
   ],
   "source": [
    "print(f'Average modularity: {np.mean(modularity_list)}')\n",
    "print(f'Standard deviation of modularity: {np.std(modularity_list)}')"
   ]
  },
  {
   "cell_type": "code",
   "execution_count": 153,
   "id": "romantic-simon",
   "metadata": {},
   "outputs": [
    {
     "data": {
      "image/png": "[encoded data removed]",
      "text/plain": [
       "<Figure size 432x288 with 1 Axes>"
      ]
     },
     "metadata": {
      "needs_background": "light"
     },
     "output_type": "display_data"
    }
   ],
   "source": [
    "plt.hist(modularity_list, alpha=0.5, label='Random', density=True)\n",
    "plt.axvline(network_modularity, color = 'b', linestyle='--', label='True')\n",
    "plt.legend()\n",
    "plt.title(f'Modularity of {N} random graphs')\n",
    "plt.xlabel('Modularity')\n",
    "plt.ylabel('Probability')\n",
    "plt.show()"
   ]
  },
  {
   "cell_type": "code",
   "execution_count": null,
   "id": "relative-helicopter",
   "metadata": {},
   "outputs": [],
   "source": []
  },
  {
   "cell_type": "markdown",
   "id": "monetary-furniture",
   "metadata": {
    "pycharm": {
     "name": "#%% md\n"
    }
   },
   "source": [
    "## Electronic network"
   ]
  },
  {
   "cell_type": "code",
   "execution_count": 154,
   "id": "frequent-advertiser",
   "metadata": {
    "pycharm": {
     "name": "#%%\n"
    }
   },
   "outputs": [],
   "source": [
    "genre = 'electronic'\n",
    "G_electronic = get_network_by_genre(G, genre)"
   ]
  },
  {
   "cell_type": "code",
   "execution_count": 155,
   "id": "danish-conflict",
   "metadata": {
    "pycharm": {
     "name": "#%%\n"
    }
   },
   "outputs": [],
   "source": [
    "for artist, data in G_electronic.nodes(data=True):\n",
    "    data['size'] = artist_genres_count[artist][genre]"
   ]
  },
  {
   "cell_type": "markdown",
   "id": "violent-pioneer",
   "metadata": {
    "pycharm": {
     "name": "#%% md\n"
    }
   },
   "source": [
    "### Visualisation"
   ]
  },
  {
   "cell_type": "code",
   "execution_count": 156,
   "id": "handmade-checklist",
   "metadata": {
    "pycharm": {
     "name": "#%%\n"
    }
   },
   "outputs": [],
   "source": [
    "# network_G_electronic, config = nw.visualize(G_electronic, plot_in_cell_below=True)"
   ]
  },
  {
   "cell_type": "markdown",
   "id": "designed-storm",
   "metadata": {
    "pycharm": {
     "name": "#%% md\n"
    }
   },
   "source": [
    "### Properties"
   ]
  },
  {
   "cell_type": "code",
   "execution_count": 157,
   "id": "greenhouse-cleaning",
   "metadata": {
    "pycharm": {
     "name": "#%%\n"
    }
   },
   "outputs": [
    {
     "name": "stdout",
     "output_type": "stream",
     "text": [
      "Number of Nodes: 422\n",
      "Number of Links: 884\n",
      "Density: 0.00995\n",
      "Avg. clustering: 0.22\n",
      "Average degrees: 4.19\n",
      "Median degrees: 2.0\n",
      "Mode of degrees: 0\n",
      "Minimum degree: 0\n",
      "Maximum degree: 43\n"
     ]
    }
   ],
   "source": [
    "graph = G_electronic\n",
    "print(f'Number of Nodes: {graph.number_of_nodes()}')\n",
    "print(f'Number of Links: {graph.number_of_edges()}')\n",
    "print(f'Density: {nx.density(graph):.5f}')\n",
    "print(f'Avg. clustering: {nx.average_clustering(graph):.2f}')\n",
    "degrees = list(dict(graph.degree()).values())\n",
    "print(f'Average degrees: {np.mean(degrees):.2f}')\n",
    "print(f'Median degrees: {np.median(degrees)}')\n",
    "print(f'Mode of degrees: {stats.mode(degrees)[0][0]}')\n",
    "print(f'Minimum degree: {min(degrees)}')\n",
    "print(f'Maximum degree: {max(degrees)}')"
   ]
  },
  {
   "cell_type": "code",
   "execution_count": 158,
   "id": "opposite-lawyer",
   "metadata": {
    "pycharm": {
     "name": "#%%\n"
    }
   },
   "outputs": [
    {
     "data": {
      "image/png": "[encoded data removed]",
      "text/plain": [
       "<Figure size 432x288 with 1 Axes>"
      ]
     },
     "metadata": {
      "needs_background": "light"
     },
     "output_type": "display_data"
    }
   ],
   "source": [
    "sorted_degrees = {k: v for k, v in sorted(dict(graph.degree()).items(), key=lambda item: item[1], reverse=True)}\n",
    "#bins = np.linspace(min(degrees), max(degrees), 10)\n",
    "bins = np.logspace(0, np.log10(max(degrees)), 10)\n",
    "density = True\n",
    "hist, edges = np.histogram(degrees, bins=bins, density = density)\n",
    "x = (edges[1:] + edges[:-1])/2\n",
    "width = bins[1] - bins[0]\n",
    "\n",
    "fig, ax = plt.subplots()\n",
    "#ax.bar(x, hist, width=width_rand*0.9)\n",
    "ax.plot(x, hist, marker='.')\n",
    "\n",
    "ax.set_xlabel('degrees')\n",
    "if density:\n",
    "    ax.set_ylabel('probability density')\n",
    "else:\n",
    "    ax.set_ylabel('counts')\n",
    "    \n",
    "ax.set_yscale(\"log\")\n",
    "ax.set_xscale(\"log\")"
   ]
  },
  {
   "cell_type": "code",
   "execution_count": 159,
   "id": "obvious-laser",
   "metadata": {
    "pycharm": {
     "name": "#%%\n"
    }
   },
   "outputs": [
    {
     "name": "stdout",
     "output_type": "stream",
     "text": [
      "Avg. shortest path length: 3.46060\n"
     ]
    }
   ],
   "source": [
    "con_com = nx.algorithms.connected_components(graph)\n",
    "largest_cc = max(nx.connected_components(graph), key=len)\n",
    "gia_com = graph.subgraph(largest_cc)\n",
    "avg_sho_pat_len = nx.average_shortest_path_length(gia_com)\n",
    "print(f'Avg. shortest path length: {avg_sho_pat_len:.5f}')"
   ]
  },
  {
   "cell_type": "markdown",
   "id": "direct-genesis",
   "metadata": {},
   "source": [
    "### Community detection"
   ]
  },
  {
   "cell_type": "code",
   "execution_count": 160,
   "id": "diagnostic-speed",
   "metadata": {},
   "outputs": [],
   "source": [
    "network_modularity = community.modularity(community.best_partition(graph), graph)"
   ]
  },
  {
   "cell_type": "code",
   "execution_count": 161,
   "id": "assigned-feeding",
   "metadata": {},
   "outputs": [
    {
     "name": "stdout",
     "output_type": "stream",
     "text": [
      "Louvain modularity for the full network: 0.4622\n"
     ]
    }
   ],
   "source": [
    "print(f'Louvain modularity for the full network: {network_modularity:.4f}')"
   ]
  },
  {
   "cell_type": "markdown",
   "id": "crucial-importance",
   "metadata": {},
   "source": [
    "#### Building random network for comparison"
   ]
  },
  {
   "cell_type": "code",
   "execution_count": 162,
   "id": "living-arrival",
   "metadata": {},
   "outputs": [
    {
     "name": "stdout",
     "output_type": "stream",
     "text": [
      "Degree in original graph: 1768\n",
      "Degree in random graph: 1768\n"
     ]
    }
   ],
   "source": [
    "RG = randomized_graph(graph, int(graph.number_of_edges()*1.2))\n",
    "print(f'Degree in original graph: {sum(dict(graph.degree).values())}')\n",
    "print(f'Degree in random graph: {sum(dict(RG.degree).values())}')"
   ]
  },
  {
   "cell_type": "code",
   "execution_count": 163,
   "id": "behavioral-binding",
   "metadata": {},
   "outputs": [],
   "source": [
    "modularity_list = []\n",
    "N = 5\n",
    "for _ in range(N):\n",
    "    RG = randomized_graph(graph, int(graph.number_of_edges()*1.2))\n",
    "    new_RG = nw.get_filtered_network(RG, node_group_key='group')\n",
    "    RG_partitioning = get_partitioning(new_RG)\n",
    "    modularity_list.append(modularity(RG, RG_partitioning))"
   ]
  },
  {
   "cell_type": "code",
   "execution_count": 164,
   "id": "sixth-czech",
   "metadata": {},
   "outputs": [
    {
     "name": "stdout",
     "output_type": "stream",
     "text": [
      "Average modularity: 0.00966580332098033\n",
      "Standard deviation of modularity: 0.020091211107957762\n"
     ]
    }
   ],
   "source": [
    "print(f'Average modularity: {np.mean(modularity_list)}')\n",
    "print(f'Standard deviation of modularity: {np.std(modularity_list)}')"
   ]
  },
  {
   "cell_type": "code",
   "execution_count": 165,
   "id": "involved-nursing",
   "metadata": {},
   "outputs": [
    {
     "data": {
      "image/png": "[encoded data removed]",
      "text/plain": [
       "<Figure size 432x288 with 1 Axes>"
      ]
     },
     "metadata": {
      "needs_background": "light"
     },
     "output_type": "display_data"
    }
   ],
   "source": [
    "plt.hist(modularity_list, alpha=0.5, label='Random', density=True)\n",
    "plt.axvline(network_modularity, color = 'b', linestyle='--', label='True')\n",
    "plt.legend()\n",
    "plt.title(f'Modularity of {N} random graphs')\n",
    "plt.xlabel('Modularity')\n",
    "plt.ylabel('Probability')\n",
    "plt.show()"
   ]
  },
  {
   "cell_type": "code",
   "execution_count": null,
   "id": "democratic-local",
   "metadata": {},
   "outputs": [],
   "source": []
  },
  {
   "cell_type": "markdown",
   "id": "canadian-magnitude",
   "metadata": {
    "pycharm": {
     "name": "#%% md\n"
    }
   },
   "source": [
    "## Folk network"
   ]
  },
  {
   "cell_type": "code",
   "execution_count": 166,
   "id": "historic-hormone",
   "metadata": {
    "pycharm": {
     "name": "#%%\n"
    }
   },
   "outputs": [],
   "source": [
    "genre = 'folk'\n",
    "G_folk = get_network_by_genre(G, genre)"
   ]
  },
  {
   "cell_type": "code",
   "execution_count": 167,
   "id": "structured-arlington",
   "metadata": {
    "pycharm": {
     "name": "#%%\n"
    }
   },
   "outputs": [],
   "source": [
    "for artist, data in G_folk.nodes(data=True):\n",
    "    data['size'] = artist_genres_count[artist][genre]"
   ]
  },
  {
   "cell_type": "markdown",
   "id": "employed-grave",
   "metadata": {
    "pycharm": {
     "name": "#%% md\n"
    }
   },
   "source": [
    "### Visualisation"
   ]
  },
  {
   "cell_type": "code",
   "execution_count": 168,
   "id": "acknowledged-problem",
   "metadata": {
    "pycharm": {
     "name": "#%%\n"
    }
   },
   "outputs": [],
   "source": [
    "# network_G_folk, config = nw.visualize(G_folk, plot_in_cell_below=True)"
   ]
  },
  {
   "cell_type": "markdown",
   "id": "impressive-canon",
   "metadata": {
    "pycharm": {
     "name": "#%% md\n"
    }
   },
   "source": [
    "### Properties"
   ]
  },
  {
   "cell_type": "code",
   "execution_count": 169,
   "id": "contrary-scotland",
   "metadata": {
    "pycharm": {
     "name": "#%%\n"
    }
   },
   "outputs": [
    {
     "name": "stdout",
     "output_type": "stream",
     "text": [
      "Number of Nodes: 159\n",
      "Number of Links: 47\n",
      "Density: 0.00374\n",
      "Avg. clustering: 0.07\n",
      "Average degrees: 0.59\n",
      "Median degrees: 0.0\n",
      "Mode of degrees: 0\n",
      "Minimum degree: 0\n",
      "Maximum degree: 7\n"
     ]
    }
   ],
   "source": [
    "graph = G_folk\n",
    "print(f'Number of Nodes: {graph.number_of_nodes()}')\n",
    "print(f'Number of Links: {graph.number_of_edges()}')\n",
    "print(f'Density: {nx.density(graph):.5f}')\n",
    "print(f'Avg. clustering: {nx.average_clustering(graph):.2f}')\n",
    "degrees = list(dict(graph.degree()).values())\n",
    "print(f'Average degrees: {np.mean(degrees):.2f}')\n",
    "print(f'Median degrees: {np.median(degrees)}')\n",
    "print(f'Mode of degrees: {stats.mode(degrees)[0][0]}')\n",
    "print(f'Minimum degree: {min(degrees)}')\n",
    "print(f'Maximum degree: {max(degrees)}')"
   ]
  },
  {
   "cell_type": "code",
   "execution_count": 170,
   "id": "logical-protection",
   "metadata": {
    "pycharm": {
     "name": "#%%\n"
    }
   },
   "outputs": [
    {
     "data": {
      "image/png": "[encoded data removed]",
      "text/plain": [
       "<Figure size 432x288 with 1 Axes>"
      ]
     },
     "metadata": {
      "needs_background": "light"
     },
     "output_type": "display_data"
    }
   ],
   "source": [
    "sorted_degrees = {k: v for k, v in sorted(dict(graph.degree()).items(), key=lambda item: item[1], reverse=True)}\n",
    "#bins = np.linspace(min(degrees), max(degrees), 10)\n",
    "bins = np.logspace(0, np.log10(max(degrees)), 10)\n",
    "density = True\n",
    "hist, edges = np.histogram(degrees, bins=bins, density = density)\n",
    "x = (edges[1:] + edges[:-1])/2\n",
    "width = bins[1] - bins[0]\n",
    "\n",
    "fig, ax = plt.subplots()\n",
    "#ax.bar(x, hist, width=width_rand*0.9)\n",
    "ax.plot(x, hist, marker='.')\n",
    "\n",
    "ax.set_xlabel('degrees')\n",
    "if density:\n",
    "    ax.set_ylabel('probability density')\n",
    "else:\n",
    "    ax.set_ylabel('counts')\n",
    "    \n",
    "ax.set_yscale(\"log\")\n",
    "ax.set_xscale(\"log\")"
   ]
  },
  {
   "cell_type": "code",
   "execution_count": 171,
   "id": "unavailable-delight",
   "metadata": {
    "pycharm": {
     "name": "#%%\n"
    }
   },
   "outputs": [
    {
     "name": "stdout",
     "output_type": "stream",
     "text": [
      "Avg. shortest path length: 3.30000\n"
     ]
    }
   ],
   "source": [
    "con_com = nx.algorithms.connected_components(graph)\n",
    "largest_cc = max(nx.connected_components(graph), key=len)\n",
    "gia_com = graph.subgraph(largest_cc)\n",
    "avg_sho_pat_len = nx.average_shortest_path_length(gia_com)\n",
    "print(f'Avg. shortest path length: {avg_sho_pat_len:.5f}')"
   ]
  },
  {
   "cell_type": "markdown",
   "id": "dangerous-syracuse",
   "metadata": {},
   "source": [
    "### Community detection"
   ]
  },
  {
   "cell_type": "code",
   "execution_count": 172,
   "id": "convertible-seller",
   "metadata": {},
   "outputs": [],
   "source": [
    "network_modularity = community.modularity(community.best_partition(graph), graph)"
   ]
  },
  {
   "cell_type": "code",
   "execution_count": 173,
   "id": "sporting-finder",
   "metadata": {},
   "outputs": [
    {
     "name": "stdout",
     "output_type": "stream",
     "text": [
      "Louvain modularity for the full network: 0.8444\n"
     ]
    }
   ],
   "source": [
    "print(f'Louvain modularity for the full network: {network_modularity:.4f}')"
   ]
  },
  {
   "cell_type": "markdown",
   "id": "radical-tonight",
   "metadata": {},
   "source": [
    "#### Building random network for comparison"
   ]
  },
  {
   "cell_type": "code",
   "execution_count": 178,
   "id": "certain-webcam",
   "metadata": {},
   "outputs": [
    {
     "name": "stdout",
     "output_type": "stream",
     "text": [
      "Degree in original graph: 94\n",
      "Degree in random graph: 94\n"
     ]
    }
   ],
   "source": [
    "RG = randomized_graph(graph, int(graph.number_of_edges()*1.2))\n",
    "print(f'Degree in original graph: {sum(dict(graph.degree).values())}')\n",
    "print(f'Degree in random graph: {sum(dict(RG.degree).values())}')"
   ]
  },
  {
   "cell_type": "code",
   "execution_count": 180,
   "id": "phantom-merchandise",
   "metadata": {},
   "outputs": [],
   "source": [
    "modularity_list = []\n",
    "N = 1000\n",
    "for _ in range(N):\n",
    "    RG = randomized_graph(graph, int(graph.number_of_edges()*1.2))\n",
    "    new_RG = nw.get_filtered_network(RG, node_group_key='group')\n",
    "    RG_partitioning = get_partitioning(new_RG)\n",
    "    modularity_list.append(modularity(RG, RG_partitioning))"
   ]
  },
  {
   "cell_type": "code",
   "execution_count": 181,
   "id": "decreased-alert",
   "metadata": {},
   "outputs": [
    {
     "name": "stdout",
     "output_type": "stream",
     "text": [
      "Average modularity: -0.004254866455409681\n",
      "Standard deviation of modularity: 0.05608920254308685\n"
     ]
    }
   ],
   "source": [
    "print(f'Average modularity: {np.mean(modularity_list)}')\n",
    "print(f'Standard deviation of modularity: {np.std(modularity_list)}')"
   ]
  },
  {
   "cell_type": "code",
   "execution_count": 182,
   "id": "sought-distinction",
   "metadata": {},
   "outputs": [
    {
     "data": {
      "image/png": "[encoded data removed]",
      "text/plain": [
       "<Figure size 432x288 with 1 Axes>"
      ]
     },
     "metadata": {
      "needs_background": "light"
     },
     "output_type": "display_data"
    }
   ],
   "source": [
    "plt.hist(modularity_list, alpha=0.5, label='Random', density=True)\n",
    "plt.axvline(network_modularity, color = 'b', linestyle='--', label='True')\n",
    "plt.legend()\n",
    "plt.title(f'Modularity of {N} random graphs')\n",
    "plt.xlabel('Modularity')\n",
    "plt.ylabel('Probability')\n",
    "plt.show()"
   ]
  },
  {
   "cell_type": "code",
   "execution_count": null,
   "id": "prepared-consideration",
   "metadata": {},
   "outputs": [],
   "source": []
  }
 ],
 "metadata": {
  "kernelspec": {
   "display_name": "Python 3",
   "language": "python",
   "name": "python3"
  },
  "language_info": {
   "codemirror_mode": {
    "name": "ipython",
    "version": 3
   },
   "file_extension": ".py",
   "mimetype": "text/x-python",
   "name": "python",
   "nbconvert_exporter": "python",
   "pygments_lexer": "ipython3",
   "version": "3.8.8"
  }
 },
 "nbformat": 4,
 "nbformat_minor": 5
}
