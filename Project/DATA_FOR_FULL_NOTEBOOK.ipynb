{
 "cells": [
  {
   "cell_type": "markdown",
   "id": "homeless-classic",
   "metadata": {},
   "source": [
    "# 0. Initialisation"
   ]
  },
  {
   "cell_type": "code",
   "execution_count": 18,
   "id": "fabulous-bowling",
   "metadata": {},
   "outputs": [],
   "source": [
    "from lyricsgenius import Genius\n",
    "import re\n",
    "import billboard\n",
    "from datetime import datetime, timedelta\n",
    "import pandas as pd\n",
    "import numpy as np\n",
    "from tqdm import tqdm\n",
    "import time\n",
    "import os\n",
    "from requests.exceptions import Timeout\n",
    "from ast import literal_eval\n",
    "import matplotlib.pyplot as plt\n",
    "from collections import defaultdict\n",
    "import langdetect\n",
    "import nltk.tokenize\n",
    "from langdetect import detect, detect_langs\n",
    "\n",
    "# For saving as plotly:\n",
    "import plotly.io as plotly\n",
    "import plotly.tools as tls\n",
    "from plotly.offline import download_plotlyjs, init_notebook_mode, iplot\n",
    "\n",
    "plotly_folder = '../static/plotly/'"
   ]
  },
  {
   "cell_type": "markdown",
   "id": "electronic-turtle",
   "metadata": {},
   "source": [
    "# 1. Motivation"
   ]
  },
  {
   "cell_type": "markdown",
   "id": "informed-czech",
   "metadata": {},
   "source": [
    "### What is your dataset?\n",
    "\n",
    "The dataset we will be analysing is a collection of songs, each with the artists that worked on them, the lyrics, and the release date.\n",
    "\n",
    "The network will be created with each artist as a node and the links will be if the artists have collaborated on a song.\n",
    "\n",
    "The text analysis will be conducted on the lyrics of all the songs gathered."
   ]
  },
  {
   "cell_type": "markdown",
   "id": "increasing-bradford",
   "metadata": {},
   "source": [
    "### Why did you choose this dataset?\n",
    "\n",
    "Musicians tend to collaborate together, which we thought would make for an interesting network. Furthermore, investigating the different artists language through their song lyrics to find patterns and attributes would be fun."
   ]
  },
  {
   "cell_type": "markdown",
   "id": "brazilian-blame",
   "metadata": {},
   "source": [
    "### What was your goal for the end user's experience?\n",
    "\n",
    "We wanted to provide some insight into how artists collaborate, which genres and artists collaborate more and how the language between genres and artists differs. Furthermore, by providing the data set for the user, we also let them play around with it on their own, to investigate further genres, or e.g. looking at how a specific artist has developed through the years."
   ]
  },
  {
   "cell_type": "markdown",
   "id": "uniform-cargo",
   "metadata": {},
   "source": [
    "## Scraping the data\n",
    "\n",
    "The first part of any project is collecting the data. We needed a list of songs to collect from Genius, and for this purpose we chose Billboards 'The Hot 100' list. The list goes back all the way to 1958, and update every week. In theory that should grant us a total of 5200 songs a year * 62 years, which means 322400 possible songs.\n",
    "\n",
    "To collect the list of songs we used the [billboard.py module](https://github.com/guoguo12/billboard-charts), which is an interface of Billboards API for python. "
   ]
  },
  {
   "cell_type": "code",
   "execution_count": null,
   "id": "golden-arrangement",
   "metadata": {},
   "outputs": [],
   "source": [
    "chart = billboard.ChartData('hot-100', date=\"1960-01-04\", fetch=True, timeout=50)"
   ]
  },
  {
   "cell_type": "code",
   "execution_count": null,
   "id": "mounted-reducing",
   "metadata": {},
   "outputs": [],
   "source": [
    "# Create empty dataframe\n",
    "columns = ['title', 'artist', 'rank', 'date', 'weeks']\n",
    "songInfo = pd.DataFrame(None, columns=columns)\n",
    "\n",
    "start = datetime.strptime('Jan 4 1960', '%b %d %Y')\n",
    "end = datetime.now()\n",
    "#end = datetime.strptime('Jan 4 1961', '%b %d %Y')\n",
    "\n",
    "# Run the code below to scrape BillBoard 100\n",
    "\n",
    "# outer_bar = tqdm(range(len(list(rrule.rrule(rrule.WEEKLY, dtstart=start, until=end)))), desc=f\"Progress\", position=0, leave=True)\n",
    "# for dt in rrule.rrule(rrule.WEEKLY, dtstart=start, until=end):\n",
    "#     outer_bar.update(1)\n",
    "#     chart = billboard.ChartData('hot-100', date=dt.strftime(\"%Y-%m-%d\"), fetch=True, timeout=25)\n",
    "#     for song in chart:\n",
    "#         if dt == start:\n",
    "#             songInfo.loc[len(songInfo)] = [song.title, song.artist, song.rank, dt.strftime(\"%Y-%m-%d\"), song.weeks]\n",
    "#         else:\n",
    "#             if song.isNew:\n",
    "#                 songInfo.loc[len(songInfo)] = [song.title, song.artist, song.rank, dt.strftime(\"%Y-%m-%d\"), song.weeks]\n",
    "# #             else:\n",
    "# #                 index = (songInfo['title'] == song.title) & (songInfo['artist'] == song.artist)\n",
    "# #                 index = np.argmax(index)\n",
    "# #                 #row = (songInfo['title'] == song.title) & (songInfo['artist'] == song.artist)\n",
    "# #                 if len(songInfo.iloc[index]) == 0:\n",
    "# #                     songInfo.loc[len(songInfo)] = [song.title, song.artist, song.rank, dt.strftime(\"%Y-%m-%d\"), song.weeks]\n",
    "# #                 elif song.rank > songInfo.loc[index, \"rank\"]:\n",
    "# #                     songInfo.loc[index, \"rank\"] = song.rank\n",
    "# #                     songInfo.loc[index, \"date\"] = dt.strftime(\"%Y-%m-%d\")\n",
    "\n",
    "# songInfo.to_csv(\"songInfo.csv\")\n",
    "# songInfo.to_csv(\"songInfo_noIndex.csv\",index=False)"
   ]
  },
  {
   "cell_type": "code",
   "execution_count": null,
   "id": "fixed-cruise",
   "metadata": {},
   "outputs": [],
   "source": [
    "songInfo = pd.read_csv('songInfo.csv', index_col=0)"
   ]
  },
  {
   "cell_type": "code",
   "execution_count": null,
   "id": "liable-silver",
   "metadata": {},
   "outputs": [],
   "source": [
    "token = 'UNXh1BykDmagMbxVjcAeMXiwDhnkmgsDC3a2AM2YWRKzLhLDpxsRJzfdvXP2cXRZ'\n",
    "genius = Genius(token, timeout=20, remove_section_headers=True, verbose=False, skip_non_songs=False)"
   ]
  },
  {
   "cell_type": "markdown",
   "id": "wound-mambo",
   "metadata": {},
   "source": [
    "First we create some helper functions, that we will make use of when searching for songs.\n",
    "\n",
    "`The find_artist` function takes a name and returns an artist.\n",
    "\n",
    "`find_song takes` an artist and a song title and returns a song.\n",
    "\n",
    "`artist_to_list` returns a list of artists.\n",
    "\n",
    "`process_artist_names` uses regex to find all the seperate artists in the given name segment."
   ]
  },
  {
   "cell_type": "code",
   "execution_count": null,
   "id": "comparative-wound",
   "metadata": {},
   "outputs": [],
   "source": [
    "feature_expressions = ['feature', 'feat.', 'ft.', ' with ', '(with ']\n",
    "extra_expressions = [' and ', ' & ', ',']\n",
    "\n",
    "def find_artist(name):\n",
    "    artist = genius.search_artist(name, max_songs=0)\n",
    "    if artist is not None:\n",
    "        return artist\n",
    "\n",
    "    name = name.lower()\n",
    "    og_name = name\n",
    "    for fe in feature_expressions:\n",
    "        if fe in name:\n",
    "            name = name.split(fe)[0]\n",
    "            break\n",
    "\n",
    "    if name != og_name:\n",
    "        artist = genius.search_artist(name, max_songs=0)\n",
    "        if artist is not None:\n",
    "            return artist\n",
    "\n",
    "\n",
    "    name = name.replace('(', '')\n",
    "    name = name.replace(')', '')\n",
    "\n",
    "    artist = genius.search_artist(name.replace(' and ', ' & '), max_songs=0)\n",
    "    if artist is not None:\n",
    "        return artist\n",
    "\n",
    "    og_name = name\n",
    "    for ee in extra_expressions:\n",
    "        if ee in name:\n",
    "            name = name.split(ee)[0]\n",
    "    if name != og_name:\n",
    "        artist = genius.search_artist(name, max_songs=0)\n",
    "    return artist\n",
    "\n",
    "def find_song(artist, title):\n",
    "    song = genius.search_song(title, artist)\n",
    "    if song is not None:\n",
    "        return song\n",
    "\n",
    "    artist = artist.lower()\n",
    "    og_artist = artist\n",
    "    for fe in feature_expressions:\n",
    "        if fe in artist:\n",
    "            artist = artist.split(fe)[0]\n",
    "            break\n",
    "\n",
    "    if artist != og_artist:\n",
    "        song = genius.search_song(title, artist.title())\n",
    "        if song is not None:\n",
    "            return song\n",
    "\n",
    "    artist = artist.replace('(', '')\n",
    "    artist = artist.replace(')', '')\n",
    "\n",
    "    artist_and = artist.replace(' and ', ' & ')\n",
    "    if artist != artist_and:\n",
    "        song = genius.search_song(title, artist_and.title())\n",
    "        if song is not None:\n",
    "            return song\n",
    "\n",
    "    og_artist = artist\n",
    "    for ee in extra_expressions:\n",
    "        if ee in artist:\n",
    "            artist = artist.split(ee)[0]\n",
    "    if artist != og_artist:\n",
    "        song = genius.search_song(title, artist.title())\n",
    "    if song is not None:\n",
    "        return song\n",
    "\n",
    "    song = genius.search_song(title)\n",
    "    return song\n",
    "\n",
    "def artist_to_list(name_segment):\n",
    "    if ' & ' in name_segment:\n",
    "        artist_list = name_segment.split(' & ')\n",
    "        if ', ' in artist_list[0]:\n",
    "            artist_list = artist_list[0].split(', ') + [artist_list[1]]\n",
    "        return artist_list\n",
    "    return [name_segment]\n",
    "\n",
    "def process_artist_names(artist_names):\n",
    "    ft_code = '(?<=\\(Ft\\. )(.*?)(?=\\))'\n",
    "    main_code = '(.*?) \\('\n",
    "    features = re.findall(ft_code, artist_names)\n",
    "    if not features:\n",
    "        main_artists = artist_names\n",
    "        all_artists = artist_to_list(main_artists)\n",
    "    else:\n",
    "        all_artists = artist_to_list(features[0])\n",
    "        main_artists = re.findall(main_code, artist_names)\n",
    "        all_artists += artist_to_list(main_artists[0])\n",
    "\n",
    "    return all_artists\n",
    "\n",
    "def convert_date(date):\n",
    "    try:\n",
    "        if len(date) < 5:\n",
    "            conv_date = datetime.strptime(date, '%Y')\n",
    "            conv_date_str = datetime.strftime(conv_date, '%Y')\n",
    "        else:\n",
    "            conv_date = datetime.strptime(date, '%B %d, %Y')\n",
    "            conv_date_str = datetime.strftime(conv_date, '%Y-%m-%d')\n",
    "    except:\n",
    "        return date\n",
    "    return conv_date_str"
   ]
  },
  {
   "cell_type": "markdown",
   "id": "buried-decrease",
   "metadata": {},
   "source": [
    "When searching for songs using the Genius API, we used a sequential searching strategy. This means that we would first search for the song title and full artist name and if that does not yield any results, we first split the artist name at *'feature'*, *'feat.'*, *'ft.'* or *'with'* and then search for the song title and the first partition of the artists name query. If this still doesn't result in any valid song, we remove parentheses from the artist names and replace *'and'* with *'&'*, after which we again search for the song title and artists name. If this fails as well, we try splitting the modified artist names at *'&'* and *','* and search again. If none of these steps result in a valid song, we simply search for the song title and hope for the best.\n",
    "\n",
    "Immediately after loading a song, we make sure it is actually a song. To do this, we filter out songs with specific genres/tags, as Genius also house texts which are not song lyrics. We therefore used the following list of bad genres to avoid those; `['track\\\\s?list', 'album art(work)?', 'liner notes', 'booklet', 'credits', 'interview', 'skit', 'instrumental', 'setlist', 'non-music', 'literature']`.\n",
    "\n",
    "The last step before all the raw data was gathered, was to separate all artists for each song. This was done using regex to find and split artists at *','*, *'and'*, *'featuring'* and so on. This results in the artists *Megan Thee Stallion & Dua Lipa* for the song *Sweetest Pie* to be changed to `[Megan Thee Stallion, Dua Lipa]` and the artists *Lil Durk Featuring Gunna* for the song *What Happened To Virgil* to be changed to `[Lil Durk, Gunna]`. However, a negative side effect of this processing is, that artists like the previously mentioned *Earth, Wind & Fire* was changed to `[Earth, Wind, Fire]`. This was a necessary part of the preprocessing and these kinds of artists were regrouped later in the data cleaning."
   ]
  },
  {
   "cell_type": "code",
   "execution_count": null,
   "id": "usual-rainbow",
   "metadata": {},
   "outputs": [],
   "source": [
    "columns = ['released', 'artists', 'lyrics', 'genres', 'title']\n",
    "genius_df = pd.DataFrame(None, columns=columns)\n",
    "\n",
    "bad_genres = {'track\\\\s?list', 'album art(work)?', 'liner notes', 'booklet', 'credits', 'interview', 'skit', 'instrumental', 'setlist', 'non-music', 'literature'}\n",
    "\n",
    "John = '8======D'\n",
    "flipped_John = 'C======8'\n",
    "\n",
    "N = len(songInfo)\n",
    "now = time.time()\n",
    "\n",
    "successes = 0\n",
    "\n",
    "last_checkpoint = 29100\n",
    "step = 28\n",
    "\n",
    "for i in range(last_checkpoint, N):\n",
    "    print(f'Succes rate: {successes} / {i-last_checkpoint}')\n",
    "    print('='*50)\n",
    "    while True:\n",
    "        try:\n",
    "            song = find_song(songInfo.artist[i], songInfo.title[i])\n",
    "            break\n",
    "        except:\n",
    "            print('Failed to find song... Trying again.')\n",
    "            pass\n",
    "    if song is None:\n",
    "        print('Failed at song:', songInfo.artist[i], 'with title:', songInfo.title[i], '\\nDue to no song found')\n",
    "        continue\n",
    "\n",
    "    raw_lyrics = song.lyrics\n",
    "    if not raw_lyrics:\n",
    "        print('Failed at song:', songInfo.artist[i], 'with title:', songInfo.title[i], '\\nDue to empty lyric')\n",
    "        continue\n",
    "\n",
    "    lyrics, genres_and_release_date = raw_lyrics.split(John)\n",
    "    raw_genres, release_date = genres_and_release_date.split(flipped_John)\n",
    "    genres = raw_genres.split('_')\n",
    "    bad_genre = None\n",
    "    for genre in genres:\n",
    "        if genre in bad_genres:\n",
    "            bad_genre = genre\n",
    "            break\n",
    "    if bad_genre is not None:\n",
    "        print('Failed at song:', songInfo.artist[i], 'with title:', songInfo.title[i], f'\\nDue to bad genre: {bad_genre}')\n",
    "        continue\n",
    "\n",
    "    if release_date == 'Unknown':\n",
    "        release_date = songInfo.date[i]\n",
    "    else:\n",
    "        release_date = convert_date(release_date)\n",
    "    sd = song.to_dict()\n",
    "    title = sd['title']\n",
    "\n",
    "    artists = process_artist_names(sd['artist_names'])\n",
    "\n",
    "    genius_df.loc[i] = [release_date, artists, lyrics, genres, title]\n",
    "\n",
    "    if not (i+1) % step:\n",
    "        print('SAVING CHECKPOINT!')\n",
    "        genius_df.to_csv(f'songData{last_checkpoint}_{i}.csv')\n",
    "        try:\n",
    "            os.remove(f'songData{last_checkpoint}_{i-step}.csv')\n",
    "        except FileNotFoundError:\n",
    "            pass\n",
    "\n",
    "    successes += 1\n",
    "\n",
    "    now_now = time.time()\n",
    "    print(f'Song number {i+1} of {N}, time spent on song: {now_now - now:.2f} seconds')\n",
    "    now = now_now\n",
    "    # print(f'Artists: {songInfo.artist[i]:>10}, {\" \".join(artists):>20}')\n",
    "    print(f'Artists: {songInfo.artist[i]:>20}')\n",
    "    print(f'{\", \".join(artists):>29}')\n",
    "    print(f'Title: {songInfo.title[i][:20]:>32}')\n",
    "    print(f'{title[:20]:>39}')\n",
    "    print(f'Date: {songInfo.date[i]:>20}')\n",
    "    print(f'{release_date:>26}')\n",
    "    print(f'Genres: {\", \".join(genres):>20}\\n')"
   ]
  },
  {
   "cell_type": "markdown",
   "id": "sunset-reward",
   "metadata": {},
   "source": [
    "This way, when collecting data for each song through the modified LyricsGenius API, we would retrieve five attributes: date of release, artists who collaborated on the song, lyrics, genres and the song title. The data looks as follows:\n",
    "\n",
    "|   released |          artists |                                             lyrics |           genres |                          title |\n",
    "|-----------:|-----------------:|---------------------------------------------------:|-----------------:|-------------------------------:|\n",
    "|       1957 |  [marty robbins] |  El Paso Lyrics\\nOut in the West Texas town of ... |        [country] |                        El Paso |\n",
    "| 1960-01-04 | [frankie avalon] | Why Lyrics I'll never let you go\\nWhy? Because ... |            [pop] |                            Why |\n",
    "|       1959 | [johnny preston] |  Running Bear LyricsOn the bank of the river\\nS... |            [pop] |                   Running Bear |\n",
    "| 1960-01-04 |  [freddy cannon] | Way Down Yonder in New Orleans LyricsWell, way ... |            [pop] | Way Down Yonder in New Orleans |\n",
    "| 1960-01-04 |   [guy mitchell] |  Heartaches by the Number Lyrics\\nHeartaches by... | [country, cover] |       Heartaches by the Number |"
   ]
  },
  {
   "cell_type": "markdown",
   "id": "universal-adoption",
   "metadata": {},
   "source": [
    "# 2. Basic stats"
   ]
  },
  {
   "cell_type": "markdown",
   "id": "worst-silence",
   "metadata": {},
   "source": [
    "### Data Cleaning\n",
    "At this point we had all the raw data, but it was apparent that in spite of our efforts during the data gathering, a lot of cleaning still had to be done.\n",
    "\n",
    "#### Unwanted characters and non-english songs\n",
    "First of all, unwanted unicodes like *\\u200b*, *\\u200c* and *\\u200e*, which had slipped in when the data was loaded, was removed from artists, genres and the lyrics. Next up, duplicates were removed and songs which were not in english were removed by doing a language detection with the Python module `langdetect`.\n",
    "\n",
    "As can be seen in the table above, each of the songs' lyric's begins with the title of the song and *'Lyrics'*. This was also removed, as it wasn't part of the actually lyrics, but rather an artifact from gathering the song info using the Genius API."
   ]
  },
  {
   "cell_type": "code",
   "execution_count": 3,
   "id": "endangered-white",
   "metadata": {},
   "outputs": [],
   "source": [
    "songInfo = pd.read_csv('songInfo.csv', index_col=0)\n",
    "songData = pd.read_csv('songData.csv', index_col=0)"
   ]
  },
  {
   "cell_type": "code",
   "execution_count": null,
   "id": "turkish-radio",
   "metadata": {},
   "outputs": [],
   "source": [
    "token = 'UNXh1BykDmagMbxVjcAeMXiwDhnkmgsDC3a2AM2YWRKzLhLDpxsRJzfdvXP2cXRZ'\n",
    "genius = Genius(token, timeout=20, remove_section_headers=True, verbose=False, skip_non_songs=False)\n",
    "for val, tit, art in zip(songData.index.values, songData.title, songData.artists):\n",
    "    if 'Genius' in ''.join(art):\n",
    "        print(val, art, tit)\n",
    "        try:\n",
    "            artist, rest = tit.split(' — ')\n",
    "        except:\n",
    "            #songData = songData.drop(val)\n",
    "            continue\n",
    "        \n",
    "        print('='*50)\n",
    "        print(f'artist: {artist}')\n",
    "        print(f'title: {rest}')\n",
    "        \n",
    "        title = rest.split('ft.')[0]\n",
    "        \n",
    "        code = '(.*?) (?=\\(.+ .+\\))'\n",
    "        cut_title = re.findall(code, title)\n",
    "        if cut_title:\n",
    "            title = cut_title[0]\n",
    "            \n",
    "        artist = artist.split(' & ')[0]\n",
    "        \n",
    "        song = genius.search_song(title, artist)\n",
    "        raw_lyrics = song.lyrics\n",
    "        lyrics, genres_and_release_date = raw_lyrics.split(John)\n",
    "        raw_genres, release_date = genres_and_release_date.split(flipped_John)\n",
    "        genres = raw_genres.split('_')\n",
    "                \n",
    "        if release_date == 'Unknown':\n",
    "            release_date = songInfo.date[val]\n",
    "        else:\n",
    "            release_date = convert_date(release_date)\n",
    "        sd = song.to_dict()\n",
    "        title = sd['title']\n",
    "\n",
    "        artists = process_artist_names(sd['artist_names'])\n",
    "        #songData.loc[val] = [release_date, artists, lyrics, genres, title]\n",
    "        print(f'Artists: {songInfo.artist[val]:>20}')\n",
    "        print(f'{\", \".join(artists):>29}')\n",
    "        print(f'Title: {songInfo.title[val][:20]:>32}')\n",
    "        print(f'{title[:20]:>39}')\n",
    "        print(f'Date: {songInfo.date[val]:>20}')\n",
    "        print(f'{release_date:>26}')\n",
    "        print(f'Genres: {\", \".join(genres):>20}\\n')"
   ]
  },
  {
   "cell_type": "markdown",
   "id": "turned-firmware",
   "metadata": {},
   "source": [
    "Manual lookup of songs"
   ]
  },
  {
   "cell_type": "code",
   "execution_count": null,
   "id": "optional-indie",
   "metadata": {},
   "outputs": [],
   "source": [
    "val = 18539\n",
    "song = genius.search_song('Woo-Hah!! Got you all in check')\n",
    "raw_lyrics = song.lyrics\n",
    "lyrics, genres_and_release_date = raw_lyrics.split(John)\n",
    "raw_genres, release_date = genres_and_release_date.split(flipped_John)\n",
    "genres = raw_genres.split('_')\n",
    "\n",
    "if release_date == 'Unknown':\n",
    "    release_date = songInfo.date[val]\n",
    "else:\n",
    "    release_date = convert_date(release_date)\n",
    "sd = song.to_dict()\n",
    "title = sd['title']\n",
    "\n",
    "artists = process_artist_names(sd['artist_names'])\n",
    "\n",
    "print(f'Artists: {songInfo.artist[val]:>20}')\n",
    "print(f'{\", \".join(artists):>29}')\n",
    "print(f'Title: {songInfo.title[val][:20]:>32}')\n",
    "print(f'{title[:20]:>39}')\n",
    "print(f'Date: {songInfo.date[val]:>20}')\n",
    "print(f'{release_date:>26}')\n",
    "print(f'Genres: {\", \".join(genres):>20}\\n')\n",
    "songData.loc[val] = [release_date, artists, lyrics, genres, title]"
   ]
  },
  {
   "cell_type": "markdown",
   "id": "textile-mileage",
   "metadata": {},
   "source": [
    "Create a list of all unique genres:"
   ]
  },
  {
   "cell_type": "code",
   "execution_count": null,
   "id": "corresponding-announcement",
   "metadata": {},
   "outputs": [],
   "source": [
    "all_genres = set([])\n",
    "i = 0\n",
    "for genres in songData.genres:\n",
    "    i += 1\n",
    "    print(i, genres[2:-2])\n",
    "    genres = genres[2:-2].split(\"', '\")\n",
    "    for genre in genres:\n",
    "        all_genres.add(genre)\n",
    "all_genres"
   ]
  },
  {
   "cell_type": "markdown",
   "id": "contained-keeping",
   "metadata": {},
   "source": [
    "Checking if a song is non-english or doesn't have lyrics:"
   ]
  },
  {
   "cell_type": "code",
   "execution_count": null,
   "id": "surrounded-symbol",
   "metadata": {},
   "outputs": [],
   "source": [
    "for i in song_data.index.values:\n",
    "    lyrics = \" \".join([token for token in set(nltk.tokenize.word_tokenize(song_data.lyrics[i])) if token.isalpha()])\n",
    "    if not lyrics:\n",
    "#         print(\"NO GUT HERE\")\n",
    "#         print(song_data.artists[i])\n",
    "#         print(song_data.title[i],\"\\n\")\n",
    "\n",
    "        song_data = song_data.drop(i)\n",
    "        continue\n",
    "    if langdetect.detect(lyrics) != \"en\":\n",
    "        print(i)\n",
    "#         print(song_data.artists[i])\n",
    "#         print(song_data.title[i])\n",
    "#         print(lyrics[:50],\"\\n\")\n",
    "        song_data = song_data.drop(i)\n",
    "#     print(langdetect.detect(lyrics))\n",
    "#     break"
   ]
  },
  {
   "cell_type": "code",
   "execution_count": null,
   "id": "psychological-jimmy",
   "metadata": {},
   "outputs": [],
   "source": [
    "songData.to_csv('songData_cleaned.csv')"
   ]
  },
  {
   "cell_type": "markdown",
   "id": "familiar-tokyo",
   "metadata": {},
   "source": [
    "Counting the amount of songs:"
   ]
  },
  {
   "cell_type": "code",
   "execution_count": null,
   "id": "relevant-optics",
   "metadata": {},
   "outputs": [],
   "source": [
    "all_songs = set()\n",
    "songs_count = {}\n",
    "\n",
    "for i, art, tit in zip(songData.index.values, songData.artists, songData.title):\n",
    "    song = ', '.join(art) + ': ' + tit\n",
    "    if song in all_songs:\n",
    "        songs_count[song] += 1\n",
    "        #songData = songData.drop(i)\n",
    "    else:\n",
    "        songs_count[song] = 1\n",
    "    all_songs.add(song)\n",
    "\n",
    "len(all_songs)\n",
    "\n",
    "songData.to_pickle('songData_noduplicates.df')"
   ]
  },
  {
   "cell_type": "markdown",
   "id": "endless-nickel",
   "metadata": {},
   "source": [
    "#### Removing long songs\n",
    "Afterwards, we made a decision to remove all songs where the lyrics were longer than 10,000 characters. This was done because, in spite of all the aforementioned approaches to clean the data, e.g. entire book chapters by the French novelist [Marcel Proust](https://en.wikipedia.org/wiki/Marcel_Proust) were still present in the dataset because they were labelled with the genre *rap*. The cut-off at 10,000 were chosen based on the fact that all songs we investigated that were longer, were songs that we clearly loaded in wrong. In addition to this, the 6-minute-long song *Rap God* by *Eminem*, where he flexes his ability to rap fast, contains 7,984 characters."
   ]
  },
  {
   "cell_type": "code",
   "execution_count": 4,
   "id": "median-latvia",
   "metadata": {},
   "outputs": [],
   "source": [
    "song_data = pd.read_pickle('songData_noduplicates.df')"
   ]
  },
  {
   "cell_type": "code",
   "execution_count": null,
   "id": "rapid-revolution",
   "metadata": {},
   "outputs": [],
   "source": [
    "for i in song_data.index.values:\n",
    "    title = song_data.title[i]\n",
    "    song_data.lyrics[i] = \" \".join(song_data.lyrics[i].split(\"Lyrics\")[1:])"
   ]
  },
  {
   "cell_type": "code",
   "execution_count": null,
   "id": "dynamic-accuracy",
   "metadata": {},
   "outputs": [],
   "source": [
    "for i in song_data.index.values:\n",
    "    if \"\\u200e\" in song_data.lyrics[i]:\n",
    "        song_data.lyrics[i] = song_data.lyrics[i].replace('\\u200e', '')"
   ]
  },
  {
   "cell_type": "code",
   "execution_count": null,
   "id": "canadian-zoning",
   "metadata": {},
   "outputs": [],
   "source": [
    "cut_list = [\"genius users cypher\", \"world record\"]\n",
    "for cut in cut_list:\n",
    "    for i in song_data.index.values:\n",
    "        if cut in song_data.title[i].lower():\n",
    "            song_data = song_data.drop(i)\n",
    "            print(i, cut)"
   ]
  },
  {
   "cell_type": "code",
   "execution_count": null,
   "id": "textile-survey",
   "metadata": {},
   "outputs": [],
   "source": [
    "lengths = [len(lyrics) for lyrics in song_data.lyrics]\n",
    "# lengths = sorted(lengths, reverse=True)\n",
    "plt.hist(lengths, bins=100)\n",
    "plt.show()"
   ]
  },
  {
   "cell_type": "code",
   "execution_count": null,
   "id": "balanced-frontier",
   "metadata": {},
   "outputs": [],
   "source": [
    "len(song_data[song_data.title == 'Rap God'].lyrics.item())"
   ]
  },
  {
   "cell_type": "markdown",
   "id": "approximate-meditation",
   "metadata": {},
   "source": [
    "While doing a finer combing of the data, we also produced a blacklist for artists that we deemed unwanted in the data set. This list includes *Glee Cast* as they were present in over 200 songs, even though their songs are covers of other popular songs. The full list is seen here `['highest to lowest', 'marcel proust', 'watsky', 'glee cast', 'harttsick', 'eric the red', 'fabvl', 'c-mob']`."
   ]
  },
  {
   "cell_type": "code",
   "execution_count": 6,
   "id": "guided-statement",
   "metadata": {},
   "outputs": [
    {
     "name": "stdout",
     "output_type": "stream",
     "text": [
      "18949 highest to lowest\n",
      "20270 highest to lowest\n",
      "22582 highest to lowest\n",
      "27884 highest to lowest\n",
      "273 marcel proust\n",
      "431 marcel proust\n",
      "714 marcel proust\n",
      "781 marcel proust\n",
      "1150 marcel proust\n",
      "1161 marcel proust\n",
      "3835 marcel proust\n",
      "5397 marcel proust\n",
      "12741 marcel proust\n",
      "13 watsky\n",
      "10618 watsky\n",
      "3160 glee cast\n",
      "22934 glee cast\n",
      "22950 glee cast\n",
      "23060 glee cast\n",
      "23078 glee cast\n",
      "23079 glee cast\n",
      "23084 glee cast\n",
      "23087 glee cast\n",
      "23095 glee cast\n",
      "23096 glee cast\n",
      "23108 glee cast\n",
      "23117 glee cast\n",
      "23124 glee cast\n",
      "23145 glee cast\n",
      "23155 glee cast\n",
      "23157 glee cast\n",
      "23158 glee cast\n",
      "23159 glee cast\n",
      "23171 glee cast\n",
      "23172 glee cast\n",
      "23181 glee cast\n",
      "23193 glee cast\n",
      "23194 glee cast\n",
      "23198 glee cast\n",
      "23202 glee cast\n",
      "23326 glee cast\n",
      "23327 glee cast\n",
      "23328 glee cast\n",
      "23329 glee cast\n",
      "23332 glee cast\n",
      "23334 glee cast\n",
      "23335 glee cast\n",
      "23337 glee cast\n",
      "23341 glee cast\n",
      "23342 glee cast\n",
      "23344 glee cast\n",
      "23346 glee cast\n",
      "23350 glee cast\n",
      "23356 glee cast\n",
      "23359 glee cast\n",
      "23360 glee cast\n",
      "23361 glee cast\n",
      "23362 glee cast\n",
      "23366 glee cast\n",
      "23368 glee cast\n",
      "23369 glee cast\n",
      "23370 glee cast\n",
      "23373 glee cast\n",
      "23376 glee cast\n",
      "23377 glee cast\n",
      "23382 glee cast\n",
      "23383 glee cast\n",
      "23386 glee cast\n",
      "23391 glee cast\n",
      "23404 glee cast\n",
      "23406 glee cast\n",
      "23408 glee cast\n",
      "23409 glee cast\n",
      "23411 glee cast\n",
      "23416 glee cast\n",
      "23418 glee cast\n",
      "23419 glee cast\n",
      "23423 glee cast\n",
      "23424 glee cast\n",
      "23532 glee cast\n",
      "23533 glee cast\n",
      "23534 glee cast\n",
      "23535 glee cast\n",
      "23536 glee cast\n",
      "23542 glee cast\n",
      "23544 glee cast\n",
      "23547 glee cast\n",
      "23548 glee cast\n",
      "23549 glee cast\n",
      "23550 glee cast\n",
      "23559 glee cast\n",
      "23560 glee cast\n",
      "23561 glee cast\n",
      "23563 glee cast\n",
      "23564 glee cast\n",
      "23565 glee cast\n",
      "23566 glee cast\n",
      "23573 glee cast\n",
      "23574 glee cast\n",
      "23575 glee cast\n",
      "23576 glee cast\n",
      "23580 glee cast\n",
      "23581 glee cast\n",
      "23609 glee cast\n",
      "23625 glee cast\n",
      "23627 glee cast\n",
      "23628 glee cast\n",
      "23629 glee cast\n",
      "23638 glee cast\n",
      "23639 glee cast\n",
      "23648 glee cast\n",
      "23649 glee cast\n",
      "23661 glee cast\n",
      "23663 glee cast\n",
      "23664 glee cast\n",
      "23665 glee cast\n",
      "23671 glee cast\n",
      "23673 glee cast\n",
      "23674 glee cast\n",
      "23716 glee cast\n",
      "23717 glee cast\n",
      "23718 glee cast\n",
      "23727 glee cast\n",
      "23728 glee cast\n",
      "23729 glee cast\n",
      "23731 glee cast\n",
      "23732 glee cast\n",
      "23734 glee cast\n",
      "23741 glee cast\n",
      "23743 glee cast\n",
      "23750 glee cast\n",
      "23752 glee cast\n",
      "23753 glee cast\n",
      "23771 glee cast\n",
      "23772 glee cast\n",
      "23774 glee cast\n",
      "23779 glee cast\n",
      "23787 glee cast\n",
      "23788 glee cast\n",
      "23790 glee cast\n",
      "23791 glee cast\n",
      "23792 glee cast\n",
      "23793 glee cast\n",
      "23794 glee cast\n",
      "23831 glee cast\n",
      "23832 glee cast\n",
      "23836 glee cast\n",
      "23837 glee cast\n",
      "23838 glee cast\n",
      "23840 glee cast\n",
      "23849 glee cast\n",
      "23851 glee cast\n",
      "23854 glee cast\n",
      "23855 glee cast\n",
      "23862 glee cast\n",
      "23863 glee cast\n",
      "23865 glee cast\n",
      "23867 glee cast\n",
      "23869 glee cast\n",
      "23871 glee cast\n",
      "23875 glee cast\n",
      "23879 glee cast\n",
      "23881 glee cast\n",
      "23885 glee cast\n",
      "23887 glee cast\n",
      "23889 glee cast\n",
      "23894 glee cast\n",
      "23896 glee cast\n",
      "24044 glee cast\n",
      "24045 glee cast\n",
      "24049 glee cast\n",
      "24056 glee cast\n",
      "24065 glee cast\n",
      "24069 glee cast\n",
      "24100 glee cast\n",
      "24114 glee cast\n",
      "24119 glee cast\n",
      "24123 glee cast\n",
      "24124 glee cast\n",
      "24125 glee cast\n",
      "24137 glee cast\n",
      "24138 glee cast\n",
      "24140 glee cast\n",
      "24143 glee cast\n",
      "24144 glee cast\n",
      "24147 glee cast\n",
      "24149 glee cast\n",
      "24151 glee cast\n",
      "24152 glee cast\n",
      "24155 glee cast\n",
      "24160 glee cast\n",
      "24187 glee cast\n",
      "24189 glee cast\n",
      "24190 glee cast\n",
      "24191 glee cast\n",
      "24192 glee cast\n",
      "24200 glee cast\n",
      "24201 glee cast\n",
      "24202 glee cast\n",
      "24203 glee cast\n",
      "24204 glee cast\n",
      "24208 glee cast\n",
      "24212 glee cast\n",
      "24220 glee cast\n",
      "24222 glee cast\n",
      "24228 glee cast\n",
      "24231 glee cast\n",
      "24232 glee cast\n",
      "24233 glee cast\n",
      "24236 glee cast\n",
      "24288 glee cast\n",
      "24292 glee cast\n",
      "24305 glee cast\n",
      "24308 glee cast\n",
      "24313 glee cast\n",
      "24429 glee cast\n",
      "24458 glee cast\n",
      "24561 glee cast\n",
      "24830 glee cast\n",
      "10846 harttsick\n",
      "18069 eric the red\n",
      "12442 fabvl\n",
      "2447 c-mob\n"
     ]
    }
   ],
   "source": [
    "cut_list = [\"highest to lowest\", \"marcel proust\", 'watsky', 'glee cast', 'harttsick', 'eric the red', 'fabvl', 'c-mob']\n",
    "for cut in cut_list:\n",
    "    for i in song_data.index.values:\n",
    "        if cut in song_data.artists[i]:\n",
    "            song_data = song_data.drop(i)\n",
    "            print(i, cut)"
   ]
  },
  {
   "cell_type": "code",
   "execution_count": 7,
   "id": "controlling-blood",
   "metadata": {},
   "outputs": [
    {
     "name": "stdout",
     "output_type": "stream",
     "text": [
      "Lost Love\n",
      "785\n",
      "Bandit\n",
      "3020\n",
      "She’s the One\n",
      "1627\n",
      "Juice WRLD Hour Freestyle of Fire Over Eminem Beats\n",
      "50691\n",
      "Tim Westwood Freestyle\n",
      "63095\n",
      "Wasted\n",
      "3621\n",
      "Sometimes\n",
      "2570\n",
      "Lucid Dreams\n",
      "2839\n",
      "All Girls Are the Same\n",
      "1574\n",
      "Legends\n",
      "1779\n",
      "NO BYSTANDERS\n",
      "3401\n",
      "Lean wit Me\n",
      "2007\n",
      "Fine China\n",
      "2212\n",
      "Jet Lag\n",
      "4213\n",
      "Astronauts\n",
      "2565\n",
      "Yacht Club\n",
      "2256\n",
      "Make It Back\n",
      "1591\n",
      "Armed and Dangerous\n",
      "2601\n",
      "1400 / 999 Freestyle\n",
      "3032\n",
      "Nuketown\n",
      "3244\n",
      "MoshPit\n",
      "2557\n",
      "Demons and Angels\n",
      "2688\n",
      "Roses\n",
      "2297\n",
      "Robbery\n",
      "2124\n",
      "Hear Me Calling\n",
      "2032\n",
      "Empty\n",
      "2589\n",
      "Fast\n",
      "2636\n",
      "Maze\n",
      "1201\n",
      "Flaws and Sins\n",
      "2482\n",
      "Hate Me\n",
      "2794\n",
      "6 Kiss\n",
      "2522\n",
      "Let Me Know (I Wonder Why Freestyle)\n",
      "2444\n",
      "Godzilla\n",
      "5034\n",
      "PTSD\n",
      "3313\n",
      "Righteous\n",
      "1733\n",
      "Flex\n",
      "2724\n",
      "Tell Me U Luv Me\n",
      "2496\n",
      "GO\n",
      "2306\n",
      "Wishing Well\n",
      "2094\n",
      "Conversations\n",
      "1827\n",
      "Hate the Other Side\n",
      "2682\n",
      "Blood On My Jeans\n",
      "2331\n",
      "Titanic\n",
      "2094\n",
      "Bad Energy\n",
      "1718\n",
      "Stay High\n",
      "2139\n",
      "Fighting Demons\n",
      "2019\n",
      "Up Up and Away\n",
      "1657\n",
      "Screw Juice\n",
      "1465\n",
      "I Want It\n",
      "2099\n",
      "Can’t Die\n",
      "1695\n",
      "Man of the Year\n",
      "1499\n",
      "Smile\n",
      "1869\n",
      "Blastoff\n",
      "2031\n",
      "Real Shit\n",
      "2306\n",
      "Reminds Me Of You\n",
      "2150\n",
      "Bad Boy\n",
      "2961\n",
      "Life’s a Mess II\n",
      "2737\n",
      "Matt Hardy 999\n",
      "2781\n",
      "Already Dead\n",
      "2989\n",
      "Wandered To LA\n",
      "1952\n",
      "Girl Of My Dreams\n",
      "2447\n",
      "Burn\n",
      "2080\n",
      "Feline\n",
      "3645\n",
      "Rockstar In His Prime\n",
      "2258\n",
      "You Wouldn’t Understand\n",
      "2613\n",
      "Doom\n",
      "2249\n",
      "Go Hard\n",
      "1740\n",
      "Not Enough\n",
      "1901\n",
      "From My Window\n",
      "2219\n",
      "Relocate\n",
      "3264\n",
      "Feel Alone\n",
      "3295\n",
      "Cigarettes\n",
      "2853\n"
     ]
    }
   ],
   "source": [
    "for i in song_data.index.values:\n",
    "    if 'juice wrld' in song_data.artists[i]:\n",
    "        print(song_data.title[i])\n",
    "        print(len(song_data.lyrics[i]))\n",
    "        #song_data = song_data.drop(i)"
   ]
  },
  {
   "cell_type": "code",
   "execution_count": 8,
   "id": "rocky-vaccine",
   "metadata": {},
   "outputs": [],
   "source": [
    "i = -1 \n",
    "\n",
    "while True:\n",
    "    \n",
    "    lengths = [len(lyrics) for lyrics in song_data.lyrics]\n",
    "    a = np.argsort(lengths)[-1]\n",
    "    \n",
    "    index = song_data.index.values[a]\n",
    "    \n",
    "    if len(song_data.lyrics[index]) < 10_000:\n",
    "        break\n",
    "#     print(len(song_data.lyrics[index]))\n",
    "#     print(song_data.artists[index])\n",
    "#     print(song_data.title[index])\n",
    "#     print(song_data.lyrics[index])\n",
    "#     print(\"=\"*100)\n",
    "    song_data = song_data.drop(index)"
   ]
  },
  {
   "cell_type": "code",
   "execution_count": 9,
   "id": "nearby-diploma",
   "metadata": {},
   "outputs": [
    {
     "data": {
      "image/png": "[encoded data removed]",
      "text/plain": [
       "<Figure size 432x288 with 1 Axes>"
      ]
     },
     "metadata": {
      "needs_background": "light"
     },
     "output_type": "display_data"
    }
   ],
   "source": [
    "lengths = [len(lyrics) for lyrics in song_data.lyrics]\n",
    "# lengths = sorted(lengths, reverse=True)\n",
    "plt.hist(lengths, bins = 100)\n",
    "plt.show()"
   ]
  },
  {
   "cell_type": "markdown",
   "id": "appreciated-savage",
   "metadata": {},
   "source": [
    "#### Regrouping artists\n",
    "\n",
    "As mentioned earlier, after gathering the data, we had to separate all artists to work with them properly, though in some cases, this results in one artist being split up into multiple - as was the case with *Earth, Wind & Fire*. To mitigate this problem, we first calculated how many times each artist appeared in the data set and afterwards, for each artist, how many times they apperead with collaborating artists. Having known these values, we could then for each artist check which other artists they have collaborated with on all of their songs. Artists found using this method were then joined with an underscore, such that `['earth', 'wind', 'fire']` became `['earth_fire_wind']`."
   ]
  },
  {
   "cell_type": "code",
   "execution_count": 10,
   "id": "rational-responsibility",
   "metadata": {},
   "outputs": [
    {
     "name": "stdout",
     "output_type": "stream",
     "text": [
      "['bobby thompson']\n",
      "No, No, No\n",
      "\n",
      "['robert michael']\n",
      "Summer Love\n",
      "\n",
      "['elliott with 2 ts', 'gottmik', 'kandy muse', 'lala ri', 'olivia lux', 'symone']\n",
      "Condragulations (Cast Version)\n",
      "\n",
      "['skeppy']\n",
      "MUFFIN\n",
      "\n",
      "['ghetto rock']\n",
      "Respect The West\n",
      "\n",
      "['frazer']\n",
      "Demon King (Sukuna Rap)\n",
      "\n",
      "['adriana calcanhotto', 'alceu valença', 'angélica']\n",
      "Luz do Mundo\n",
      "\n",
      "['billie rose', 'billy green']\n",
      "Big Village Cypher 2015\n",
      "\n",
      "['philip']\n",
      "Kolkata Rap Cypher\n",
      "\n",
      "['k19', 'sen-sey']\n",
      "Mortal Kombat\n",
      "\n",
      "['z']\n",
      "The Ward 2.0\n",
      "\n",
      "['the discreet days']\n",
      "She\n",
      "\n",
      "['curly']\n",
      "Giant Joe and Curly freestyle\n",
      "\n",
      "['the boyz']\n",
      "More Bounce\n",
      "\n",
      "['paul anthony']\n",
      "All Cried Out\n",
      "\n",
      "['marcia lewis']\n",
      "Get a Life\n",
      "\n",
      "[\"sav'o\"]\n",
      "Who?\n",
      "\n",
      "['the williams brothers']\n",
      "Can’t Cry Hard Enough\n",
      "\n",
      "['the boyz']\n",
      "Got Me Waiting\n",
      "\n",
      "['devers', 'ex’s']\n",
      "Genius\n",
      "\n",
      "['buddha']\n",
      "Tooeloquent\n",
      "\n",
      "['babyface', 'barry white', 'portrait']\n",
      "Slow Jams\n",
      "\n",
      "['adda']\n",
      "Much Better\n",
      "\n",
      "['breeton boi', 'gameboyjones', 'ham sandwich']\n",
      "Isekai Rap Cypher\n",
      "\n",
      "['anonymous']\n",
      "Freak Out\n",
      "\n",
      "['aaron carter', 'backstreet boys', 'blümchen', 'the boyz']\n",
      "Let the Music Heal Your Soul\n",
      "\n",
      "['lee perry']\n",
      "Everybody’s Free (To Wear Sunscreen)\n",
      "\n",
      "['solé']\n",
      "Who Dat\n",
      "\n",
      "['co']\n",
      "Shut Up\n",
      "\n",
      "['do']\n",
      "Heaven\n",
      "\n",
      "['lea']\n",
      "Sunshine\n",
      "\n",
      "['crunchy black', 'dj paul', 'juicy j', 'mr. bigg']\n",
      "Poppin’ My Collar\n",
      "\n",
      "['sean paul']\n",
      "Snap Yo Fingers\n",
      "\n",
      "['the d.e.y.']\n",
      "Walk Away (Remember Me)\n",
      "\n",
      "['d.o.e.']\n",
      "The Way I Are\n",
      "\n",
      "['rush']\n",
      "Go Girl\n",
      "\n",
      "['bono', 'the edge']\n",
      "Rise Above 1\n",
      "\n",
      "['alessia cara', 'anne-marie', 'anthony ramos', 'camilo', 'evaluna montaner', 'finneas', 'fletcher', 'florida georgia line', 'h.e.r.', 'jason derulo', 'jordan davis', 'keith urban', 'kelsea ballerini', 'kesha', 'lindsey sterling', 'maeta', 'mau y ricky', 'niall horan', 'noah cyrus', 'pink sweat$', 'the rose']\n",
      "If The World Was Ending\n",
      "\n",
      "['ちゃんみな']\n",
      "Best Friend (feat. Doja Cat) [Jamie & Chanmina Remix]\n",
      "\n"
     ]
    }
   ],
   "source": [
    "for i in song_data.index.values:\n",
    "    a = song_data.artists[i]\n",
    "    for j,artist in enumerate(a):\n",
    "        if ' (' in artist and ')' not in artist:\n",
    "            a.pop(j)\n",
    "            artist = artist.split(' (')[0].split(', ')\n",
    "            song_data.artists[i] = a + artist\n",
    "            print(artist)\n",
    "            print(song_data.title[i])\n",
    "            print('')"
   ]
  },
  {
   "cell_type": "code",
   "execution_count": 11,
   "id": "everyday-pittsburgh",
   "metadata": {},
   "outputs": [],
   "source": [
    "artist_count = defaultdict(lambda: 0)\n",
    "artist_colab_count = defaultdict(lambda: defaultdict(lambda: 0))\n",
    "\n",
    "for artists in song_data.artists:\n",
    "    for artist in artists:\n",
    "        artist_count[artist] += 1\n",
    "        for colab in artists:\n",
    "            if colab != artist:\n",
    "                artist_colab_count[artist][colab] += 1"
   ]
  },
  {
   "cell_type": "code",
   "execution_count": 12,
   "id": "complete-liechtenstein",
   "metadata": {},
   "outputs": [
    {
     "data": {
      "image/png": "[encoded data removed]",
      "text/plain": [
       "<Figure size 1440x360 with 1 Axes>"
      ]
     },
     "metadata": {
      "needs_background": "light"
     },
     "output_type": "display_data"
    }
   ],
   "source": [
    "sorted_artists = {k: v for k, v in sorted(artist_count.items(), key=lambda item: item[1], reverse=True) if v > 35}\n",
    "#for k, v in sorted_artists.items():\n",
    "#    print(k + ':', v)\n",
    "\n",
    "plt.figure(figsize=(20,5))\n",
    "plt.bar(*zip(*sorted_artists.items()))\n",
    "plt.xlabel('Artist')\n",
    "plt.xticks(rotation=90)\n",
    "plt.ylabel('Count')\n",
    "plt.title('Songs pr. Artist')\n",
    "plt.show()"
   ]
  },
  {
   "cell_type": "code",
   "execution_count": 13,
   "id": "tender-galaxy",
   "metadata": {},
   "outputs": [
    {
     "data": {
      "text/plain": [
       "defaultdict(<function __main__.<lambda>.<locals>.<lambda>()>,\n",
       "            {'earth': 31, 'fire': 31, 'ramsey lewis': 1})"
      ]
     },
     "execution_count": 13,
     "metadata": {},
     "output_type": "execute_result"
    }
   ],
   "source": [
    "artist_colab_count['wind']"
   ]
  },
  {
   "cell_type": "code",
   "execution_count": 14,
   "id": "promotional-corps",
   "metadata": {},
   "outputs": [
    {
     "data": {
      "text/plain": [
       "31"
      ]
     },
     "execution_count": 14,
     "metadata": {},
     "output_type": "execute_result"
    }
   ],
   "source": [
    "artist_count['wind']"
   ]
  },
  {
   "cell_type": "code",
   "execution_count": 15,
   "id": "fourth-muslim",
   "metadata": {},
   "outputs": [],
   "source": [
    "regroupings = set()\n",
    "\n",
    "for artist_a, songs_a in artist_count.items():\n",
    "    colabs = [artist_a]\n",
    "    for artist_b, songs_b in artist_colab_count[artist_a].items():\n",
    "        if songs_b == artist_count[artist_b] == songs_a  and songs_a > 2:\n",
    "            colabs.append(artist_b)\n",
    "    if len(colabs) > 1:\n",
    "        regroupings.add((songs_a, tuple(sorted(colabs))))"
   ]
  },
  {
   "cell_type": "code",
   "execution_count": 16,
   "id": "chronic-recycling",
   "metadata": {},
   "outputs": [
    {
     "name": "stdout",
     "output_type": "stream",
     "text": [
      "Artists before: ['hank ballard', 'the midnighters']\n",
      "Artists after: ['hank ballard_the midnighters']\n",
      "\n",
      "Artists before: ['hank ballard', 'the midnighters']\n",
      "Artists after: ['hank ballard_the midnighters']\n",
      "\n",
      "Artists before: ['hank ballard', 'the midnighters']\n",
      "Artists after: ['hank ballard_the midnighters']\n",
      "\n",
      "Artists before: ['hank ballard', 'the midnighters']\n",
      "Artists after: ['hank ballard_the midnighters']\n",
      "\n",
      "Artists before: ['hank ballard', 'the midnighters']\n",
      "Artists after: ['hank ballard_the midnighters']\n",
      "\n",
      "Artists before: ['hank ballard', 'the midnighters']\n",
      "Artists after: ['hank ballard_the midnighters']\n",
      "\n",
      "Artists before: ['hank ballard', 'the midnighters']\n",
      "Artists after: ['hank ballard_the midnighters']\n",
      "\n",
      "Artists before: ['hank ballard', 'the midnighters']\n",
      "Artists after: ['hank ballard_the midnighters']\n",
      "\n",
      "Artists before: ['dick', 'dee dee']\n",
      "Artists after: ['dee dee_dick']\n",
      "\n",
      "Artists before: ['hank ballard', 'the midnighters']\n",
      "Artists after: ['hank ballard_the midnighters']\n",
      "\n",
      "Artists before: ['hank ballard', 'the midnighters']\n",
      "Artists after: ['hank ballard_the midnighters']\n",
      "\n",
      "Artists before: ['joey dee', 'the starliters']\n",
      "Artists after: ['joey dee_the starliters']\n",
      "\n",
      "Artists before: ['hank ballard', 'the midnighters']\n",
      "Artists after: ['hank ballard_the midnighters']\n",
      "\n",
      "Artists before: ['joey dee', 'the starliters']\n",
      "Artists after: ['joey dee_the starliters']\n",
      "\n",
      "Artists before: ['joey dee', 'the starliters']\n",
      "Artists after: ['joey dee_the starliters']\n",
      "\n",
      "Artists before: ['bob b. soxx', 'the blue jeans']\n",
      "Artists after: ['bob b. soxx_the blue jeans']\n",
      "\n",
      "Artists before: ['paul', 'paula']\n",
      "Artists after: ['paul_paula']\n",
      "\n",
      "Artists before: ['bob b. soxx', 'the blue jeans']\n",
      "Artists after: ['bob b. soxx_the blue jeans']\n",
      "\n",
      "Artists before: ['paul', 'paula']\n",
      "Artists after: ['paul_paula']\n",
      "\n",
      "Artists before: ['dick', 'dee dee']\n",
      "Artists after: ['dee dee_dick']\n",
      "\n",
      "Artists before: ['martha reeves', 'the vandellas']\n",
      "Artists after: ['martha reeves_the vandellas']\n",
      "\n",
      "Artists before: ['paul', 'paula']\n",
      "Artists after: ['paul_paula']\n",
      "\n",
      "Artists before: ['bob b. soxx', 'the blue jeans']\n",
      "Artists after: ['bob b. soxx_the blue jeans']\n",
      "\n",
      "Artists before: ['martha reeves', 'the vandellas']\n",
      "Artists after: ['martha reeves_the vandellas']\n",
      "\n",
      "Artists before: ['paul', 'paula']\n",
      "Artists after: ['paul_paula']\n",
      "\n",
      "Artists before: ['archie bell', 'the drells']\n",
      "Artists after: ['archie bell_the drells']\n",
      "\n",
      "Artists before: ['paul', 'paula']\n",
      "Artists after: ['paul_paula']\n",
      "\n",
      "Artists before: ['martha reeves', 'the vandellas']\n",
      "Artists after: ['martha reeves_the vandellas']\n",
      "\n",
      "Artists before: ['martha reeves', 'the vandellas']\n",
      "Artists after: ['martha reeves_the vandellas']\n",
      "\n",
      "Artists before: ['martha reeves', 'the vandellas']\n",
      "Artists after: ['martha reeves_the vandellas']\n",
      "\n",
      "Artists before: ['peter', 'gordon']\n",
      "Artists after: ['gordon_peter']\n",
      "\n",
      "Artists before: ['peter', 'gordon']\n",
      "Artists after: ['gordon_peter']\n",
      "\n",
      "Artists before: ['martha reeves', 'the vandellas']\n",
      "Artists after: ['martha reeves_the vandellas']\n",
      "\n",
      "Artists before: ['peter', 'gordon']\n",
      "Artists after: ['gordon_peter']\n",
      "\n",
      "Artists before: ['dick', 'dee dee']\n",
      "Artists after: ['dee dee_dick']\n",
      "\n",
      "Artists before: ['martha reeves', 'the vandellas']\n",
      "Artists after: ['martha reeves_the vandellas']\n",
      "\n",
      "Artists before: ['peter', 'gordon']\n",
      "Artists after: ['gordon_peter']\n",
      "\n",
      "Artists before: ['pete rock', 'c.l. smooth']\n",
      "Artists after: ['c.l. smooth_pete rock']\n",
      "\n",
      "Artists before: ['junior walker', 'the all stars']\n",
      "Artists after: ['junior walker_the all stars']\n",
      "\n",
      "Artists before: ['martha reeves', 'the vandellas']\n",
      "Artists after: ['martha reeves_the vandellas']\n",
      "\n",
      "Artists before: ['peter', 'gordon']\n",
      "Artists after: ['gordon_peter']\n",
      "\n",
      "Artists before: ['junior walker', 'the all stars']\n",
      "Artists after: ['junior walker_the all stars']\n",
      "\n",
      "Artists before: ['peter', 'gordon']\n",
      "Artists after: ['gordon_peter']\n",
      "\n",
      "Artists before: ['junior walker', 'the all stars']\n",
      "Artists after: ['junior walker_the all stars']\n",
      "\n",
      "Artists before: ['martha reeves', 'the vandellas']\n",
      "Artists after: ['martha reeves_the vandellas']\n",
      "\n",
      "Artists before: ['junior walker', 'the all stars']\n",
      "Artists after: ['junior walker_the all stars']\n",
      "\n",
      "Artists before: ['peter', 'gordon']\n",
      "Artists after: ['gordon_peter']\n",
      "\n",
      "Artists before: ['simon', 'garfunkel']\n",
      "Artists after: ['garfunkel_simon']\n",
      "\n",
      "Artists before: ['jesu', 'sun kil moon', 'jesu and sun kil moon']\n",
      "Artists after: ['sun kil moon', 'jesu_jesu and sun kil moon']\n",
      "\n",
      "Artists before: ['martha reeves', 'the vandellas']\n",
      "Artists after: ['martha reeves_the vandellas']\n",
      "\n",
      "Artists before: ['mitch ryder', 'the detroit wheels']\n",
      "Artists after: ['mitch ryder_the detroit wheels']\n",
      "\n",
      "Artists before: ['the mamas', 'the papas']\n",
      "Artists after: ['the mamas_the papas']\n",
      "\n",
      "Artists before: ['martha reeves', 'the vandellas']\n",
      "Artists after: ['martha reeves_the vandellas']\n",
      "\n",
      "Artists before: ['zion', 'lennox', 'ed sheeran']\n",
      "Artists after: ['ed sheeran', 'lennox_zion']\n",
      "\n",
      "Artists before: ['peter', 'gordon']\n",
      "Artists after: ['gordon_peter']\n",
      "\n",
      "Artists before: ['simon', 'garfunkel']\n",
      "Artists after: ['garfunkel_simon']\n",
      "\n",
      "Artists before: ['mitch ryder', 'the detroit wheels']\n",
      "Artists after: ['mitch ryder_the detroit wheels']\n",
      "\n",
      "Artists before: ['the mamas', 'the papas']\n",
      "Artists after: ['the mamas_the papas']\n",
      "\n",
      "Artists before: ['junior walker', 'the all stars']\n",
      "Artists after: ['junior walker_the all stars']\n",
      "\n",
      "Artists before: ['simon', 'garfunkel']\n",
      "Artists after: ['garfunkel_simon']\n",
      "\n",
      "Artists before: ['peter', 'gordon']\n",
      "Artists after: ['gordon_peter']\n",
      "\n",
      "Artists before: ['mitch ryder', 'the detroit wheels']\n",
      "Artists after: ['mitch ryder_the detroit wheels']\n",
      "\n",
      "Artists before: ['martha reeves', 'the vandellas']\n",
      "Artists after: ['martha reeves_the vandellas']\n",
      "\n",
      "Artists before: ['the mamas', 'the papas']\n",
      "Artists after: ['the mamas_the papas']\n",
      "\n",
      "Artists before: ['junior walker', 'the all stars']\n",
      "Artists after: ['junior walker_the all stars']\n",
      "\n",
      "Artists before: ['peter', 'gordon']\n",
      "Artists after: ['gordon_peter']\n",
      "\n",
      "Artists before: ['simon', 'garfunkel']\n",
      "Artists after: ['garfunkel_simon']\n",
      "\n",
      "Artists before: ['sérgio mendes', \"brasil '66\"]\n",
      "Artists after: [\"brasil '66_sérgio mendes\"]\n",
      "\n",
      "Artists before: ['mitch ryder', 'the detroit wheels']\n",
      "Artists after: ['mitch ryder_the detroit wheels']\n",
      "\n",
      "Artists before: ['peter', 'gordon']\n",
      "Artists after: ['gordon_peter']\n",
      "\n",
      "Artists before: ['the mamas', 'the papas']\n",
      "Artists after: ['the mamas_the papas']\n",
      "\n",
      "Artists before: ['martha reeves', 'the vandellas']\n",
      "Artists after: ['martha reeves_the vandellas']\n",
      "\n",
      "Artists before: ['simon', 'garfunkel']\n",
      "Artists after: ['garfunkel_simon']\n",
      "\n",
      "Artists before: ['junior walker', 'the all stars']\n",
      "Artists after: ['junior walker_the all stars']\n",
      "\n",
      "Artists before: ['cass elliot', 'the mamas', 'the papas']\n",
      "Artists after: ['cass elliot', 'the mamas_the papas']\n",
      "\n",
      "Artists before: ['the mamas', 'the papas']\n",
      "Artists after: ['the mamas_the papas']\n",
      "\n",
      "Artists before: ['peter', 'gordon']\n",
      "Artists after: ['gordon_peter']\n",
      "\n",
      "Artists before: ['sérgio mendes', \"brasil '66\"]\n",
      "Artists after: [\"brasil '66_sérgio mendes\"]\n",
      "\n",
      "Artists before: ['peaches', 'herb']\n",
      "Artists after: ['herb_peaches']\n",
      "\n",
      "Artists before: ['mitch ryder', 'the detroit wheels']\n",
      "Artists after: ['mitch ryder_the detroit wheels']\n",
      "\n",
      "Artists before: ['junior walker', 'the all stars']\n",
      "Artists after: ['junior walker_the all stars']\n",
      "\n",
      "Artists before: ['the mamas', 'the papas']\n",
      "Artists after: ['the mamas_the papas']\n",
      "\n",
      "Artists before: ['brenda', 'the tabulations']\n",
      "Artists after: ['brenda_the tabulations']\n",
      "\n",
      "Artists before: ['martha reeves', 'the vandellas']\n",
      "Artists after: ['martha reeves_the vandellas']\n",
      "\n",
      "Artists before: ['simon', 'garfunkel']\n",
      "Artists after: ['garfunkel_simon']\n",
      "\n",
      "Artists before: ['peter', 'gordon']\n",
      "Artists after: ['gordon_peter']\n",
      "\n",
      "Artists before: ['peaches', 'herb']\n",
      "Artists after: ['herb_peaches']\n",
      "\n",
      "Artists before: ['sérgio mendes', \"brasil '66\"]\n",
      "Artists after: [\"brasil '66_sérgio mendes\"]\n",
      "\n",
      "Artists before: ['the mamas', 'the papas']\n",
      "Artists after: ['the mamas_the papas']\n",
      "\n",
      "Artists before: ['brenda', 'the tabulations']\n",
      "Artists after: ['brenda_the tabulations']\n",
      "\n",
      "Artists before: ['sérgio mendes', \"brasil '66\"]\n",
      "Artists after: [\"brasil '66_sérgio mendes\"]\n",
      "\n",
      "Artists before: ['brenda', 'the tabulations']\n",
      "Artists after: ['brenda_the tabulations']\n",
      "\n",
      "Artists before: ['peaches', 'herb']\n",
      "Artists after: ['herb_peaches']\n",
      "\n",
      "Artists before: ['peter', 'gordon']\n",
      "Artists after: ['gordon_peter']\n",
      "\n",
      "Artists before: ['junior walker', 'the all stars']\n",
      "Artists after: ['junior walker_the all stars']\n",
      "\n",
      "Artists before: ['simon', 'garfunkel']\n",
      "Artists after: ['garfunkel_simon']\n",
      "\n",
      "Artists before: ['brenda', 'the tabulations']\n",
      "Artists after: ['brenda_the tabulations']\n",
      "\n",
      "Artists before: ['martha reeves', 'the vandellas']\n",
      "Artists after: ['martha reeves_the vandellas']\n",
      "\n",
      "Artists before: ['the mamas', 'the papas']\n",
      "Artists after: ['the mamas_the papas']\n",
      "\n",
      "Artists before: ['peaches', 'herb']\n",
      "Artists after: ['herb_peaches']\n",
      "\n",
      "Artists before: ['the mamas', 'the papas']\n",
      "Artists after: ['the mamas_the papas']\n",
      "\n",
      "Artists before: ['brenda', 'the tabulations']\n",
      "Artists after: ['brenda_the tabulations']\n",
      "\n",
      "Artists before: ['martha reeves', 'the vandellas']\n",
      "Artists after: ['martha reeves_the vandellas']\n",
      "\n",
      "Artists before: ['junior walker', 'the all stars']\n",
      "Artists after: ['junior walker_the all stars']\n",
      "\n",
      "Artists before: ['the mamas', 'the papas']\n",
      "Artists after: ['the mamas_the papas']\n",
      "\n",
      "Artists before: ['simon', 'garfunkel']\n",
      "Artists after: ['garfunkel_simon']\n",
      "\n",
      "Artists before: ['brenda', 'the tabulations']\n",
      "Artists after: ['brenda_the tabulations']\n",
      "\n",
      "Artists before: ['archie bell', 'the drells']\n",
      "Artists after: ['archie bell_the drells']\n",
      "\n",
      "Artists before: ['martha reeves', 'the vandellas']\n",
      "Artists after: ['martha reeves_the vandellas']\n",
      "\n",
      "Artists before: ['bobby taylor', 'the vancouvers']\n",
      "Artists after: ['bobby taylor_the vancouvers']\n",
      "\n",
      "Artists before: ['simon', 'garfunkel']\n",
      "Artists after: ['garfunkel_simon']\n",
      "\n",
      "Artists before: ['sérgio mendes', \"brasil '66\"]\n",
      "Artists after: [\"brasil '66_sérgio mendes\"]\n",
      "\n",
      "Artists before: ['peaches', 'herb']\n",
      "Artists after: ['herb_peaches']\n",
      "\n"
     ]
    },
    {
     "name": "stdout",
     "output_type": "stream",
     "text": [
      "Artists before: ['the mamas', 'the papas']\n",
      "Artists after: ['the mamas_the papas']\n",
      "\n",
      "Artists before: ['martha reeves', 'the vandellas']\n",
      "Artists after: ['martha reeves_the vandellas']\n",
      "\n",
      "Artists before: ['sérgio mendes', \"brasil '66\"]\n",
      "Artists after: [\"brasil '66_sérgio mendes\"]\n",
      "\n",
      "Artists before: ['junior walker', 'the all stars']\n",
      "Artists after: ['junior walker_the all stars']\n",
      "\n",
      "Artists before: ['martha reeves', 'the vandellas']\n",
      "Artists after: ['martha reeves_the vandellas']\n",
      "\n",
      "Artists before: ['bobby taylor', 'the vancouvers']\n",
      "Artists after: ['bobby taylor_the vancouvers']\n",
      "\n",
      "Artists before: ['the mamas', 'the papas']\n",
      "Artists after: ['the mamas_the papas']\n",
      "\n",
      "Artists before: ['archie bell', 'the drells']\n",
      "Artists after: ['archie bell_the drells']\n",
      "\n",
      "Artists before: ['martha reeves', 'the vandellas']\n",
      "Artists after: ['martha reeves_the vandellas']\n",
      "\n",
      "Artists before: ['sérgio mendes', \"brasil '66\"]\n",
      "Artists after: [\"brasil '66_sérgio mendes\"]\n",
      "\n",
      "Artists before: ['the mamas', 'the papas']\n",
      "Artists after: ['the mamas_the papas']\n",
      "\n",
      "Artists before: ['bobby taylor', 'the vancouvers']\n",
      "Artists after: ['bobby taylor_the vancouvers']\n",
      "\n",
      "Artists before: ['archie bell', 'the drells']\n",
      "Artists after: ['archie bell_the drells']\n",
      "\n",
      "Artists before: ['junior walker', 'the all stars']\n",
      "Artists after: ['junior walker_the all stars']\n",
      "\n",
      "Artists before: ['charles wright', 'the watts 103rd street rhythm band']\n",
      "Artists after: ['charles wright_the watts 103rd street rhythm band']\n",
      "\n",
      "Artists before: ['blood', 'sweat', 'tears']\n",
      "Artists after: ['blood_sweat_tears']\n",
      "\n",
      "Artists before: ['archie bell', 'the drells']\n",
      "Artists after: ['archie bell_the drells']\n",
      "\n",
      "Artists before: ['simon', 'garfunkel']\n",
      "Artists after: ['garfunkel_simon']\n",
      "\n",
      "Artists before: ['martha reeves', 'the vandellas']\n",
      "Artists after: ['martha reeves_the vandellas']\n",
      "\n",
      "Artists before: ['sérgio mendes', \"brasil '66\"]\n",
      "Artists after: [\"brasil '66_sérgio mendes\"]\n",
      "\n",
      "Artists before: ['junior walker', 'the all stars']\n",
      "Artists after: ['junior walker_the all stars']\n",
      "\n",
      "Artists before: ['blood', 'sweat', 'tears']\n",
      "Artists after: ['blood_sweat_tears']\n",
      "\n",
      "Artists before: ['sérgio mendes', \"brasil '66\"]\n",
      "Artists after: [\"brasil '66_sérgio mendes\"]\n",
      "\n",
      "Artists before: ['crosby', 'stills', 'nash']\n",
      "Artists after: ['crosby_nash_stills']\n",
      "\n",
      "Artists before: ['crosby', 'stills', 'nash']\n",
      "Artists after: ['crosby_nash_stills']\n",
      "\n",
      "Artists before: ['blood', 'sweat', 'tears']\n",
      "Artists after: ['blood_sweat_tears']\n",
      "\n",
      "Artists before: ['junior walker', 'the all stars']\n",
      "Artists after: ['junior walker_the all stars']\n",
      "\n",
      "Artists before: ['sérgio mendes', \"brasil '66\"]\n",
      "Artists after: [\"brasil '66_sérgio mendes\"]\n",
      "\n",
      "Artists before: ['brenda', 'the tabulations']\n",
      "Artists after: ['brenda_the tabulations']\n",
      "\n",
      "Artists before: ['simon', 'garfunkel']\n",
      "Artists after: ['garfunkel_simon']\n",
      "\n",
      "Artists before: ['delaney', 'bonnie']\n",
      "Artists after: ['bonnie_delaney']\n",
      "\n",
      "Artists before: ['crosby', 'stills', 'nash', 'young']\n",
      "Artists after: ['young', 'crosby_nash_stills']\n",
      "\n",
      "Artists before: ['charles wright', 'the watts 103rd street rhythm band']\n",
      "Artists after: ['charles wright_the watts 103rd street rhythm band']\n",
      "\n",
      "Artists before: ['simon', 'garfunkel']\n",
      "Artists after: ['garfunkel_simon']\n",
      "\n",
      "Artists before: ['brenda', 'the tabulations']\n",
      "Artists after: ['brenda_the tabulations']\n",
      "\n",
      "Artists before: ['delaney', 'bonnie']\n",
      "Artists after: ['bonnie_delaney']\n",
      "\n",
      "Artists before: ['crosby', 'stills', 'nash', 'young']\n",
      "Artists after: ['young', 'crosby_nash_stills']\n",
      "\n",
      "Artists before: ['crosby', 'stills', 'nash', 'young']\n",
      "Artists after: ['young', 'crosby_nash_stills']\n",
      "\n",
      "Artists before: ['junior walker', 'the all stars']\n",
      "Artists after: ['junior walker_the all stars']\n",
      "\n",
      "Artists before: ['blood', 'sweat', 'tears']\n",
      "Artists after: ['blood_sweat_tears']\n",
      "\n",
      "Artists before: ['the first national band', 'michael nesmith']\n",
      "Artists after: ['michael nesmith_the first national band']\n",
      "\n",
      "Artists before: ['delaney', 'bonnie']\n",
      "Artists after: ['bonnie_delaney']\n",
      "\n",
      "Artists before: ['charles wright', 'the watts 103rd street rhythm band']\n",
      "Artists after: ['charles wright_the watts 103rd street rhythm band']\n",
      "\n",
      "Artists before: ['brenda', 'the tabulations']\n",
      "Artists after: ['brenda_the tabulations']\n",
      "\n",
      "Artists before: ['los incas', 'simon', 'garfunkel']\n",
      "Artists after: ['los incas', 'garfunkel_simon']\n",
      "\n",
      "Artists before: ['crosby', 'stills', 'nash', 'young']\n",
      "Artists after: ['young', 'crosby_nash_stills']\n",
      "\n",
      "Artists before: ['blood', 'sweat', 'tears']\n",
      "Artists after: ['blood_sweat_tears']\n",
      "\n",
      "Artists before: ['martha reeves', 'the vandellas']\n",
      "Artists after: ['martha reeves_the vandellas']\n",
      "\n",
      "Artists before: ['the first national band', 'michael nesmith']\n",
      "Artists after: ['michael nesmith_the first national band']\n",
      "\n",
      "Artists before: ['junior walker', 'the all stars']\n",
      "Artists after: ['junior walker_the all stars']\n",
      "\n",
      "Artists before: ['brewer', 'shipley']\n",
      "Artists after: ['brewer_shipley']\n",
      "\n",
      "Artists before: ['emerson', 'lake', 'palmer']\n",
      "Artists after: ['palmer', 'emerson_lake']\n",
      "\n",
      "Artists before: ['brenda', 'the tabulations']\n",
      "Artists after: ['brenda_the tabulations']\n",
      "\n",
      "Artists before: ['cornelius brothers', 'sister rose']\n",
      "Artists after: ['cornelius brothers_sister rose']\n",
      "\n",
      "Artists before: ['the first national band', 'michael nesmith']\n",
      "Artists after: ['michael nesmith_the first national band']\n",
      "\n",
      "Artists before: ['brewer', 'shipley']\n",
      "Artists after: ['brewer_shipley']\n",
      "\n",
      "Artists before: ['hamilton', 'joe frank', 'reynolds']\n",
      "Artists after: ['hamilton_joe frank_reynolds']\n",
      "\n",
      "Artists before: ['delaney', 'bonnie']\n",
      "Artists after: ['bonnie_delaney']\n",
      "\n",
      "Artists before: ['earth', 'wind', 'fire']\n",
      "Artists after: ['earth_fire_wind']\n",
      "\n",
      "Artists before: ['blood', 'sweat', 'tears']\n",
      "Artists after: ['blood_sweat_tears']\n",
      "\n",
      "Artists before: ['junior walker', 'the all stars']\n",
      "Artists after: ['junior walker_the all stars']\n",
      "\n",
      "Artists before: ['brenda', 'the tabulations']\n",
      "Artists after: ['brenda_the tabulations']\n",
      "\n",
      "Artists before: ['delaney', 'bonnie']\n",
      "Artists after: ['bonnie_delaney']\n",
      "\n",
      "Artists before: ['jesu', 'sun kil moon', 'jesu and sun kil moon']\n",
      "Artists after: ['sun kil moon', 'jesu_jesu and sun kil moon']\n",
      "\n",
      "Artists before: ['martha reeves', 'the vandellas']\n",
      "Artists after: ['martha reeves_the vandellas']\n",
      "\n",
      "Artists before: ['blood', 'sweat', 'tears']\n",
      "Artists after: ['blood_sweat_tears']\n",
      "\n",
      "Artists before: ['hamilton', 'joe frank', 'reynolds']\n",
      "Artists after: ['hamilton_joe frank_reynolds']\n",
      "\n",
      "Artists before: ['junior walker', 'the all stars']\n",
      "Artists after: ['junior walker_the all stars']\n",
      "\n",
      "Artists before: ['delaney', 'bonnie']\n",
      "Artists after: ['bonnie_delaney']\n",
      "\n",
      "Artists before: ['brewer', 'shipley']\n",
      "Artists after: ['brewer_shipley']\n",
      "\n",
      "Artists before: ['the mamas', 'the papas']\n",
      "Artists after: ['the mamas_the papas']\n",
      "\n",
      "Artists before: ['loggins', 'messina']\n",
      "Artists after: ['loggins_messina']\n",
      "\n",
      "Artists before: ['delaney', 'bonnie']\n",
      "Artists after: ['bonnie_delaney']\n",
      "\n",
      "Artists before: ['cornelius brothers', 'sister rose']\n",
      "Artists after: ['cornelius brothers_sister rose']\n",
      "\n",
      "Artists before: ['loggins', 'messina']\n",
      "Artists after: ['loggins_messina']\n",
      "\n",
      "Artists before: ['harold melvin', 'the blue notes']\n",
      "Artists after: ['harold melvin_the blue notes']\n",
      "\n",
      "Artists before: ['emerson', 'lake', 'palmer']\n",
      "Artists after: ['palmer', 'emerson_lake']\n",
      "\n",
      "Artists before: ['simon', 'garfunkel']\n",
      "Artists after: ['garfunkel_simon']\n",
      "\n",
      "Artists before: ['harold melvin', 'the blue notes']\n",
      "Artists after: ['harold melvin_the blue notes']\n",
      "\n",
      "Artists before: ['blood', 'sweat', 'tears']\n",
      "Artists after: ['blood_sweat_tears']\n",
      "\n",
      "Artists before: ['loggins', 'messina']\n",
      "Artists after: ['loggins_messina']\n",
      "\n",
      "Artists before: ['simon', 'garfunkel']\n",
      "Artists after: ['garfunkel_simon']\n",
      "\n",
      "Artists before: ['cornelius brothers', 'sister rose']\n",
      "Artists after: ['cornelius brothers_sister rose']\n",
      "\n",
      "Artists before: ['harold melvin', 'the blue notes']\n",
      "Artists after: ['harold melvin_the blue notes']\n",
      "\n",
      "Artists before: ['loggins', 'messina']\n",
      "Artists after: ['loggins_messina']\n",
      "\n",
      "Artists before: ['cornelius brothers', 'sister rose']\n",
      "Artists after: ['cornelius brothers_sister rose']\n",
      "\n",
      "Artists before: ['earth', 'wind', 'fire']\n",
      "Artists after: ['earth_fire_wind']\n",
      "\n",
      "Artists before: ['harold melvin', 'the blue notes']\n",
      "Artists after: ['harold melvin_the blue notes']\n",
      "\n",
      "Artists before: ['loggins', 'messina']\n",
      "Artists after: ['loggins_messina']\n",
      "\n",
      "Artists before: ['earth', 'wind', 'fire']\n",
      "Artists after: ['earth_fire_wind']\n",
      "\n",
      "Artists before: ['hall', 'oates']\n",
      "Artists after: ['hall_oates']\n",
      "\n"
     ]
    },
    {
     "name": "stdout",
     "output_type": "stream",
     "text": [
      "Artists before: ['loggins', 'messina']\n",
      "Artists after: ['loggins_messina']\n",
      "\n",
      "Artists before: ['earth', 'wind', 'fire']\n",
      "Artists after: ['earth_fire_wind']\n",
      "\n",
      "Artists before: ['harold melvin', 'the blue notes']\n",
      "Artists after: ['harold melvin_the blue notes']\n",
      "\n",
      "Artists before: ['blood', 'sweat', 'tears']\n",
      "Artists after: ['blood_sweat_tears']\n",
      "\n",
      "Artists before: ['earth', 'wind', 'fire']\n",
      "Artists after: ['earth_fire_wind']\n",
      "\n",
      "Artists before: ['cheech', 'chong']\n",
      "Artists after: ['cheech_chong']\n",
      "\n",
      "Artists before: ['earth', 'wind', 'fire']\n",
      "Artists after: ['earth_fire_wind']\n",
      "\n",
      "Artists before: ['harold melvin', 'the blue notes']\n",
      "Artists after: ['harold melvin_the blue notes']\n",
      "\n",
      "Artists before: ['loggins', 'messina']\n",
      "Artists after: ['loggins_messina']\n",
      "\n",
      "Artists before: ['earth', 'wind', 'fire']\n",
      "Artists after: ['earth_fire_wind']\n",
      "\n",
      "Artists before: ['jesu', 'sun kil moon', 'jesu and sun kil moon']\n",
      "Artists after: ['sun kil moon', 'jesu_jesu and sun kil moon']\n",
      "\n",
      "Artists before: ['ramsey lewis', 'earth', 'wind', 'fire']\n",
      "Artists after: ['ramsey lewis', 'earth_fire_wind']\n",
      "\n",
      "Artists before: ['blood', 'sweat', 'tears']\n",
      "Artists after: ['blood_sweat_tears']\n",
      "\n",
      "Artists before: ['hamilton', 'joe frank', 'reynolds']\n",
      "Artists after: ['hamilton_joe frank_reynolds']\n",
      "\n",
      "Artists before: ['earth', 'wind', 'fire']\n",
      "Artists after: ['earth_fire_wind']\n",
      "\n",
      "Artists before: ['sharon paige', 'harold melvin', 'the blue notes']\n",
      "Artists after: ['sharon paige', 'harold melvin_the blue notes']\n",
      "\n",
      "Artists before: ['captain', 'tennille']\n",
      "Artists after: ['captain_tennille']\n",
      "\n",
      "Artists before: ['captain', 'tennille']\n",
      "Artists after: ['captain_tennille']\n",
      "\n",
      "Artists before: ['simon', 'garfunkel']\n",
      "Artists after: ['garfunkel_simon']\n",
      "\n",
      "Artists before: ['cheech', 'chong']\n",
      "Artists after: ['cheech_chong']\n",
      "\n",
      "Artists before: ['hamilton', 'joe frank', 'reynolds']\n",
      "Artists after: ['hamilton_joe frank_reynolds']\n",
      "\n",
      "Artists before: ['earth', 'wind', 'fire']\n",
      "Artists after: ['earth_fire_wind']\n",
      "\n",
      "Artists before: ['captain', 'tennille']\n",
      "Artists after: ['captain_tennille']\n",
      "\n",
      "Artists before: ['hall', 'oates']\n",
      "Artists after: ['hall_oates']\n",
      "\n",
      "Artists before: ['earth', 'wind', 'fire']\n",
      "Artists after: ['earth_fire_wind']\n",
      "\n",
      "Artists before: ['marilyn mccoo', 'billy davis jr.']\n",
      "Artists after: ['billy davis jr._marilyn mccoo']\n",
      "\n",
      "Artists before: ['harold melvin', 'the blue notes']\n",
      "Artists after: ['harold melvin_the blue notes']\n",
      "\n",
      "Artists before: ['captain', 'tennille']\n",
      "Artists after: ['captain_tennille']\n",
      "\n",
      "Artists before: ['cheech', 'chong']\n",
      "Artists after: ['cheech_chong']\n",
      "\n",
      "Artists before: ['england dan', 'john ford coley']\n",
      "Artists after: ['england dan_john ford coley']\n",
      "\n",
      "Artists before: ['earth', 'wind', 'fire']\n",
      "Artists after: ['earth_fire_wind']\n",
      "\n",
      "Artists before: ['marilyn mccoo', 'billy davis jr.']\n",
      "Artists after: ['billy davis jr._marilyn mccoo']\n",
      "\n",
      "Artists before: ['captain', 'tennille']\n",
      "Artists after: ['captain_tennille']\n",
      "\n",
      "Artists before: ['england dan', 'john ford coley']\n",
      "Artists after: ['england dan_john ford coley']\n",
      "\n",
      "Artists before: ['hall', 'oates']\n",
      "Artists after: ['hall_oates']\n",
      "\n",
      "Artists before: ['earth', 'wind', 'fire']\n",
      "Artists after: ['earth_fire_wind']\n",
      "\n",
      "Artists before: ['hall', 'oates']\n",
      "Artists after: ['hall_oates']\n",
      "\n",
      "Artists before: ['harold melvin', 'the blue notes']\n",
      "Artists after: ['harold melvin_the blue notes']\n",
      "\n",
      "Artists before: ['captain', 'tennille']\n",
      "Artists after: ['captain_tennille']\n",
      "\n",
      "Artists before: ['marilyn mccoo', 'billy davis jr.']\n",
      "Artists after: ['billy davis jr._marilyn mccoo']\n",
      "\n",
      "Artists before: ['hall', 'oates']\n",
      "Artists after: ['hall_oates']\n",
      "\n",
      "Artists before: ['england dan', 'john ford coley']\n",
      "Artists after: ['england dan_john ford coley']\n",
      "\n",
      "Artists before: ['crosby', 'stills', 'nash']\n",
      "Artists after: ['crosby_nash_stills']\n",
      "\n",
      "Artists before: ['captain', 'tennille']\n",
      "Artists after: ['captain_tennille']\n",
      "\n",
      "Artists before: ['hall', 'oates']\n",
      "Artists after: ['hall_oates']\n",
      "\n",
      "Artists before: ['england dan', 'john ford coley']\n",
      "Artists after: ['england dan_john ford coley']\n",
      "\n",
      "Artists before: ['crosby', 'stills', 'nash']\n",
      "Artists after: ['crosby_nash_stills']\n",
      "\n",
      "Artists before: ['hall', 'oates']\n",
      "Artists after: ['hall_oates']\n",
      "\n",
      "Artists before: ['earth', 'wind', 'fire']\n",
      "Artists after: ['earth_fire_wind']\n",
      "\n",
      "Artists before: ['england dan', 'john ford coley']\n",
      "Artists after: ['england dan_john ford coley']\n",
      "\n",
      "Artists before: ['earth', 'wind', 'fire']\n",
      "Artists after: ['earth_fire_wind']\n",
      "\n",
      "Artists before: ['ashford', 'simpson']\n",
      "Artists after: ['ashford_simpson']\n",
      "\n",
      "Artists before: ['captain', 'tennille']\n",
      "Artists after: ['captain_tennille']\n",
      "\n",
      "Artists before: ['england dan', 'john ford coley']\n",
      "Artists after: ['england dan_john ford coley']\n",
      "\n",
      "Artists before: ['ashford', 'simpson', 'chaka khan', 'quincy jones']\n",
      "Artists after: ['chaka khan', 'quincy jones', 'ashford_simpson']\n",
      "\n",
      "Artists before: ['earth', 'wind', 'fire']\n",
      "Artists after: ['earth_fire_wind']\n",
      "\n",
      "Artists before: ['captain', 'tennille']\n",
      "Artists after: ['captain_tennille']\n",
      "\n",
      "Artists before: ['hall', 'oates']\n",
      "Artists after: ['hall_oates']\n",
      "\n",
      "Artists before: ['earth', 'wind', 'fire']\n",
      "Artists after: ['earth_fire_wind']\n",
      "\n",
      "Artists before: ['captain', 'tennille']\n",
      "Artists after: ['captain_tennille']\n",
      "\n",
      "Artists before: ['hall', 'oates']\n",
      "Artists after: ['hall_oates']\n",
      "\n",
      "Artists before: ['peaches', 'herb']\n",
      "Artists after: ['herb_peaches']\n",
      "\n",
      "Artists before: ['england dan', 'john ford coley']\n",
      "Artists after: ['england dan_john ford coley']\n",
      "\n",
      "Artists before: ['peaches', 'herb']\n",
      "Artists after: ['herb_peaches']\n",
      "\n",
      "Artists before: ['peaches', 'herb']\n",
      "Artists after: ['herb_peaches']\n",
      "\n",
      "Artists before: ['earth', 'wind', 'fire']\n",
      "Artists after: ['earth_fire_wind']\n",
      "\n",
      "Artists before: ['ashford', 'simpson']\n",
      "Artists after: ['ashford_simpson']\n",
      "\n",
      "Artists before: ['earth', 'wind', 'fire']\n",
      "Artists after: ['earth_fire_wind']\n",
      "\n",
      "Artists before: ['captain', 'tennille']\n",
      "Artists after: ['captain_tennille']\n",
      "\n",
      "Artists before: ['england dan', 'john ford coley']\n",
      "Artists after: ['england dan_john ford coley']\n",
      "\n",
      "Artists before: ['hall', 'oates']\n",
      "Artists after: ['hall_oates']\n",
      "\n",
      "Artists before: ['earth', 'wind', 'fire']\n",
      "Artists after: ['earth_fire_wind']\n",
      "\n",
      "Artists before: ['peaches', 'herb']\n",
      "Artists after: ['herb_peaches']\n",
      "\n",
      "Artists before: ['captain', 'tennille']\n",
      "Artists after: ['captain_tennille']\n",
      "\n",
      "Artists before: ['england dan', 'john ford coley']\n",
      "Artists after: ['england dan_john ford coley']\n",
      "\n",
      "Artists before: ['hall', 'oates']\n",
      "Artists after: ['hall_oates']\n",
      "\n",
      "Artists before: ['earth', 'wind', 'fire']\n",
      "Artists after: ['earth_fire_wind']\n",
      "\n",
      "Artists before: ['hall', 'oates']\n",
      "Artists after: ['hall_oates']\n",
      "\n",
      "Artists before: ['earth', 'wind', 'fire']\n",
      "Artists after: ['earth_fire_wind']\n",
      "\n",
      "Artists before: ['hall', 'oates']\n",
      "Artists after: ['hall_oates']\n",
      "\n",
      "Artists before: ['earth', 'wind', 'fire']\n",
      "Artists after: ['earth_fire_wind']\n",
      "\n",
      "Artists before: ['hall', 'oates']\n",
      "Artists after: ['hall_oates']\n",
      "\n",
      "Artists before: ['hall', 'oates']\n",
      "Artists after: ['hall_oates']\n",
      "\n",
      "Artists before: ['earth', 'wind', 'fire']\n",
      "Artists after: ['earth_fire_wind']\n",
      "\n",
      "Artists before: ['hall', 'oates']\n",
      "Artists after: ['hall_oates']\n",
      "\n",
      "Artists before: ['earth', 'wind', 'fire']\n",
      "Artists after: ['earth_fire_wind']\n",
      "\n",
      "Artists before: ['huey lewis', 'the news']\n",
      "Artists after: ['huey lewis_the news']\n",
      "\n",
      "Artists before: ['hall', 'oates']\n",
      "Artists after: ['hall_oates']\n",
      "\n",
      "Artists before: ['simon', 'garfunkel']\n",
      "Artists after: ['garfunkel_simon']\n",
      "\n",
      "Artists before: ['huey lewis', 'the news']\n",
      "Artists after: ['huey lewis_the news']\n",
      "\n",
      "Artists before: ['ashford', 'simpson']\n",
      "Artists after: ['ashford_simpson']\n",
      "\n",
      "Artists before: ['hall', 'oates']\n",
      "Artists after: ['hall_oates']\n",
      "\n",
      "Artists before: ['crosby', 'stills', 'nash']\n",
      "Artists after: ['crosby_nash_stills']\n",
      "\n",
      "Artists before: ['huey lewis', 'the news']\n",
      "Artists after: ['huey lewis_the news']\n",
      "\n",
      "Artists before: ['crosby', 'stills', 'nash']\n",
      "Artists after: ['crosby_nash_stills']\n",
      "\n",
      "Artists before: ['hall', 'oates']\n",
      "Artists after: ['hall_oates']\n",
      "\n",
      "Artists before: ['earth', 'wind', 'fire']\n",
      "Artists after: ['earth_fire_wind']\n",
      "\n",
      "Artists before: ['hall', 'oates']\n",
      "Artists after: ['hall_oates']\n",
      "\n",
      "Artists before: ['crosby', 'stills', 'nash']\n",
      "Artists after: ['crosby_nash_stills']\n",
      "\n",
      "Artists before: ['hall', 'oates']\n",
      "Artists after: ['hall_oates']\n",
      "\n",
      "Artists before: ['earth', 'wind', 'fire']\n",
      "Artists after: ['earth_fire_wind']\n",
      "\n",
      "Artists before: ['crosby', 'stills', 'nash']\n",
      "Artists after: ['crosby_nash_stills']\n",
      "\n",
      "Artists before: ['huey lewis', 'the news']\n",
      "Artists after: ['huey lewis_the news']\n",
      "\n"
     ]
    },
    {
     "name": "stdout",
     "output_type": "stream",
     "text": [
      "Artists before: ['hall', 'oates']\n",
      "Artists after: ['hall_oates']\n",
      "\n",
      "Artists before: ['earth', 'wind', 'fire']\n",
      "Artists after: ['earth_fire_wind']\n",
      "\n",
      "Artists before: ['huey lewis', 'the news']\n",
      "Artists after: ['huey lewis_the news']\n",
      "\n",
      "Artists before: ['hall', 'oates']\n",
      "Artists after: ['hall_oates']\n",
      "\n",
      "Artists before: ['huey lewis', 'the news']\n",
      "Artists after: ['huey lewis_the news']\n",
      "\n",
      "Artists before: ['huey lewis', 'the news']\n",
      "Artists after: ['huey lewis_the news']\n",
      "\n",
      "Artists before: ['hall', 'oates']\n",
      "Artists after: ['hall_oates']\n",
      "\n",
      "Artists before: ['huey lewis', 'the news']\n",
      "Artists after: ['huey lewis_the news']\n",
      "\n",
      "Artists before: ['ashford', 'simpson']\n",
      "Artists after: ['ashford_simpson']\n",
      "\n",
      "Artists before: ['hall', 'oates']\n",
      "Artists after: ['hall_oates']\n",
      "\n",
      "Artists before: ['hall', 'oates']\n",
      "Artists after: ['hall_oates']\n",
      "\n",
      "Artists before: ['hall', 'oates']\n",
      "Artists after: ['hall_oates']\n",
      "\n",
      "Artists before: ['huey lewis', 'the news']\n",
      "Artists after: ['huey lewis_the news']\n",
      "\n",
      "Artists before: ['cheech', 'chong']\n",
      "Artists after: ['cheech_chong']\n",
      "\n",
      "Artists before: ['rené', 'angela']\n",
      "Artists after: ['angela_rené']\n",
      "\n",
      "Artists before: ['rené', 'angela']\n",
      "Artists after: ['angela_rené']\n",
      "\n",
      "Artists before: ['emerson', 'lake', 'powell']\n",
      "Artists after: ['powell', 'emerson_lake']\n",
      "\n",
      "Artists before: ['rené', 'angela']\n",
      "Artists after: ['angela_rené']\n",
      "\n",
      "Artists before: ['huey lewis', 'the news']\n",
      "Artists after: ['huey lewis_the news']\n",
      "\n",
      "Artists before: ['ashford', 'simpson']\n",
      "Artists after: ['ashford_simpson']\n",
      "\n",
      "Artists before: ['huey lewis', 'the news']\n",
      "Artists after: ['huey lewis_the news']\n",
      "\n",
      "Artists before: ['huey lewis', 'the news']\n",
      "Artists after: ['huey lewis_the news']\n",
      "\n",
      "Artists before: ['huey lewis', 'the news']\n",
      "Artists after: ['huey lewis_the news']\n",
      "\n",
      "Artists before: ['huey lewis', 'the news']\n",
      "Artists after: ['huey lewis_the news']\n",
      "\n",
      "Artists before: ['earth', 'wind', 'fire']\n",
      "Artists after: ['earth_fire_wind']\n",
      "\n",
      "Artists before: ['earth', 'wind', 'fire']\n",
      "Artists after: ['earth_fire_wind']\n",
      "\n",
      "Artists before: ['hall', 'oates']\n",
      "Artists after: ['hall_oates']\n",
      "\n",
      "Artists before: ['dj jazzy jeff', 'the fresh prince']\n",
      "Artists after: ['dj jazzy jeff_the fresh prince']\n",
      "\n",
      "Artists before: ['hall', 'oates']\n",
      "Artists after: ['hall_oates']\n",
      "\n",
      "Artists before: ['huey lewis', 'the news']\n",
      "Artists after: ['huey lewis_the news']\n",
      "\n",
      "Artists before: ['robert englund', 'dj jazzy jeff', 'the fresh prince']\n",
      "Artists after: ['robert englund', 'dj jazzy jeff_the fresh prince']\n",
      "\n",
      "Artists before: ['hall', 'oates']\n",
      "Artists after: ['hall_oates']\n",
      "\n",
      "Artists before: ['huey lewis', 'the news']\n",
      "Artists after: ['huey lewis_the news']\n",
      "\n",
      "Artists before: ['dj jazzy jeff', 'the fresh prince']\n",
      "Artists after: ['dj jazzy jeff_the fresh prince']\n",
      "\n",
      "Artists before: ['huey lewis', 'the news']\n",
      "Artists after: ['huey lewis_the news']\n",
      "\n",
      "Artists before: ['crosby', 'stills', 'nash', 'young']\n",
      "Artists after: ['young', 'crosby_nash_stills']\n",
      "\n",
      "Artists before: ['dj jazzy jeff', 'the fresh prince']\n",
      "Artists after: ['dj jazzy jeff_the fresh prince']\n",
      "\n",
      "Artists before: ['hall', 'oates']\n",
      "Artists after: ['hall_oates']\n",
      "\n",
      "Artists before: ['hall', 'oates']\n",
      "Artists after: ['hall_oates']\n",
      "\n",
      "Artists before: ['huey lewis', 'the news']\n",
      "Artists after: ['huey lewis_the news']\n",
      "\n",
      "Artists before: ['dj jazzy jeff', 'the fresh prince']\n",
      "Artists after: ['dj jazzy jeff_the fresh prince']\n",
      "\n",
      "Artists before: ['huey lewis', 'the news']\n",
      "Artists after: ['huey lewis_the news']\n",
      "\n",
      "Artists before: ['mumford', 'sons']\n",
      "Artists after: ['mumford_sons']\n",
      "\n",
      "Artists before: ['zhané', 'dj jazzy jeff', 'the fresh prince']\n",
      "Artists after: ['zhané', 'dj jazzy jeff_the fresh prince']\n",
      "\n",
      "Artists before: ['cause', 'effect']\n",
      "Artists after: ['cause_effect']\n",
      "\n",
      "Artists before: ['pete rock', 'c.l. smooth']\n",
      "Artists after: ['c.l. smooth_pete rock']\n",
      "\n",
      "Artists before: ['cause', 'effect']\n",
      "Artists after: ['cause_effect']\n",
      "\n",
      "Artists before: ['pete rock', 'c.l. smooth', 'run–d.m.c.']\n",
      "Artists after: ['run–d.m.c.', 'c.l. smooth_pete rock']\n",
      "\n",
      "Artists before: ['dj jazzy jeff', 'the fresh prince']\n",
      "Artists after: ['dj jazzy jeff_the fresh prince']\n",
      "\n",
      "Artists before: ['earth', 'wind', 'fire']\n",
      "Artists after: ['earth_fire_wind']\n",
      "\n",
      "Artists before: ['teddy riley', 'dj jazzy jeff', 'the fresh prince']\n",
      "Artists after: ['teddy riley', 'dj jazzy jeff_the fresh prince']\n",
      "\n",
      "Artists before: ['huey lewis', 'the news']\n",
      "Artists after: ['huey lewis_the news']\n",
      "\n",
      "Artists before: ['cause', 'effect']\n",
      "Artists after: ['cause_effect']\n",
      "\n",
      "Artists before: ['huey lewis', 'the news']\n",
      "Artists after: ['huey lewis_the news']\n",
      "\n",
      "Artists before: ['david crosby', 'hootie', 'the blowfish']\n",
      "Artists after: ['david crosby', 'hootie_the blowfish']\n",
      "\n",
      "Artists before: ['crystal johnson', 'pete rock', 'c.l. smooth']\n",
      "Artists after: ['crystal johnson', 'c.l. smooth_pete rock']\n",
      "\n",
      "Artists before: ['hootie', 'the blowfish']\n",
      "Artists after: ['hootie_the blowfish']\n",
      "\n",
      "Artists before: ['hootie', 'the blowfish']\n",
      "Artists after: ['hootie_the blowfish']\n",
      "\n",
      "Artists before: ['hootie', 'the blowfish']\n",
      "Artists after: ['hootie_the blowfish']\n",
      "\n",
      "Artists before: ['zion', 'lennox']\n",
      "Artists after: ['lennox_zion']\n",
      "\n",
      "Artists before: ['hootie', 'the blowfish']\n",
      "Artists after: ['hootie_the blowfish']\n",
      "\n",
      "Artists before: ['hootie', 'the blowfish']\n",
      "Artists after: ['hootie_the blowfish']\n",
      "\n",
      "Artists before: ['big', 'rich']\n",
      "Artists after: ['big_rich']\n",
      "\n",
      "Artists before: ['big', 'rich']\n",
      "Artists after: ['big_rich']\n",
      "\n",
      "Artists before: ['big', 'rich']\n",
      "Artists after: ['big_rich']\n",
      "\n",
      "Artists before: ['hall', 'oates']\n",
      "Artists after: ['hall_oates']\n",
      "\n",
      "Artists before: ['big', 'rich']\n",
      "Artists after: ['big_rich']\n",
      "\n",
      "Artists before: ['aly', 'aj']\n",
      "Artists after: ['aj_aly']\n",
      "\n",
      "Artists before: ['kris kristofferson', 'big', 'rich']\n",
      "Artists after: ['kris kristofferson', 'big_rich']\n",
      "\n",
      "Artists before: ['aly', 'aj']\n",
      "Artists after: ['aj_aly']\n",
      "\n",
      "Artists before: ['jesu', 'sun kil moon', 'jesu and sun kil moon']\n",
      "Artists after: ['sun kil moon', 'jesu_jesu and sun kil moon']\n",
      "\n",
      "Artists before: ['aly', 'aj']\n",
      "Artists after: ['aj_aly']\n",
      "\n",
      "Artists before: ['big', 'rich']\n",
      "Artists after: ['big_rich']\n",
      "\n",
      "Artists before: ['aly', 'aj']\n",
      "Artists after: ['aj_aly']\n",
      "\n",
      "Artists before: ['aly', 'aj']\n",
      "Artists after: ['aj_aly']\n",
      "\n",
      "Artists before: ['mumford', 'sons']\n",
      "Artists after: ['mumford_sons']\n",
      "\n",
      "Artists before: ['victoria justice', 'victorious cast']\n",
      "Artists after: ['victoria justice_victorious cast']\n",
      "\n",
      "Artists before: ['mumford', 'sons']\n",
      "Artists after: ['mumford_sons']\n",
      "\n",
      "Artists before: ['victoria justice', 'victorious cast']\n",
      "Artists after: ['victoria justice_victorious cast']\n",
      "\n",
      "Artists before: ['victoria justice', 'victorious cast']\n",
      "Artists after: ['victoria justice_victorious cast']\n",
      "\n",
      "Artists before: ['big', 'rich']\n",
      "Artists after: ['big_rich']\n",
      "\n",
      "Artists before: ['mumford', 'sons']\n",
      "Artists after: ['mumford_sons']\n",
      "\n",
      "Artists before: ['mumford', 'sons']\n",
      "Artists after: ['mumford_sons']\n",
      "\n",
      "Artists before: ['mumford', 'sons']\n",
      "Artists after: ['mumford_sons']\n",
      "\n",
      "Artists before: ['mumford', 'sons']\n",
      "Artists after: ['mumford_sons']\n",
      "\n",
      "Artists before: ['mumford', 'sons']\n",
      "Artists after: ['mumford_sons']\n",
      "\n",
      "Artists before: ['mumford', 'sons']\n",
      "Artists after: ['mumford_sons']\n",
      "\n",
      "Artists before: ['mumford', 'sons']\n",
      "Artists after: ['mumford_sons']\n",
      "\n",
      "Artists before: ['mumford', 'sons']\n",
      "Artists after: ['mumford_sons']\n",
      "\n",
      "Artists before: ['maddie', 'tae']\n",
      "Artists after: ['maddie_tae']\n",
      "\n",
      "Artists before: ['big', 'rich']\n",
      "Artists after: ['big_rich']\n",
      "\n",
      "Artists before: ['jussie smollett', 'empire cast']\n",
      "Artists after: ['empire cast_jussie smollett']\n",
      "\n",
      "Artists before: ['jussie smollett', 'yazz', 'empire cast']\n",
      "Artists after: ['yazz', 'empire cast_jussie smollett']\n",
      "\n",
      "Artists before: ['estelle', 'jussie smollett', 'empire cast']\n",
      "Artists after: ['estelle', 'empire cast_jussie smollett']\n",
      "\n",
      "Artists before: ['mumford', 'sons']\n",
      "Artists after: ['mumford_sons']\n",
      "\n",
      "Artists before: ['maddie', 'tae']\n",
      "Artists after: ['maddie_tae']\n",
      "\n",
      "Artists before: ['dove cameron', 'sofia carson', 'booboo stewart', 'cameron boyce']\n",
      "Artists after: ['dove cameron', 'sofia carson', 'booboo stewart_cameron boyce']\n",
      "\n",
      "Artists before: ['descemer bueno', 'zion', 'lennox', 'enrique iglesias']\n",
      "Artists after: ['descemer bueno', 'enrique iglesias', 'lennox_zion']\n",
      "\n",
      "Artists before: ['booboo stewart', 'cameron boyce', 'mitchell hope', 'sofia carson']\n",
      "Artists after: ['mitchell hope', 'sofia carson', 'booboo stewart_cameron boyce']\n",
      "\n"
     ]
    },
    {
     "name": "stdout",
     "output_type": "stream",
     "text": [
      "Artists before: ['chandler kinney', 'pearce joza', 'baby ariel', 'dove cameron', 'sofia carson', 'booboo stewart', 'cameron boyce', 'china anne mcclain', 'thomas doherty,', 'dylan playfair']\n",
      "Artists after: ['chandler kinney', 'pearce joza', 'baby ariel', 'dove cameron', 'sofia carson', 'china anne mcclain', 'thomas doherty,', 'dylan playfair', 'booboo stewart_cameron boyce']\n",
      "\n",
      "Artists before: ['maddie', 'tae']\n",
      "Artists after: ['maddie_tae']\n",
      "\n"
     ]
    }
   ],
   "source": [
    "for i in song_data.index.values:\n",
    "    for num, group in regroupings:\n",
    "        if group[0] in song_data.artists[i]:\n",
    "            print(f'Artists before: {song_data.artists[i]}')\n",
    "            for g in group:\n",
    "                song_data.artists[i].remove(g)\n",
    "            song_data.artists[i].append(\"_\".join(group))\n",
    "            print(f'Artists after: {song_data.artists[i]}')\n",
    "            print(\"\")"
   ]
  },
  {
   "cell_type": "code",
   "execution_count": null,
   "id": "fluid-engineer",
   "metadata": {},
   "outputs": [],
   "source": [
    "song_data.to_pickle(\"songData.df\")"
   ]
  },
  {
   "cell_type": "markdown",
   "id": "german-discount",
   "metadata": {},
   "source": [
    "### Preliminary look at the data\n",
    "After doing all data processing and cleaning, the final data set is comprised of 25,419 songs and 7,855 unique artists. In the table below, the three data sets used throughout the project can be seen and downloaded.\n",
    "\n",
    "| Data Set                                                                                             |  Songs | Size (mb) |\n",
    "|:-----------------------------------------------------------------------------------------------------|-------:|----------:|\n",
    "| [Billboard List](https://drive.google.com/file/d/1Gd4YH_U98Z8mellnIV_haINLL4UhLJKG/view?usp=sharing) | 29,128 |       1.6 |\n",
    "| [Pre-cleaned](https://drive.google.com/file/d/1cyiIWnXD_0CHLsj8C0tcwNadfYI7z8FD/view?usp=sharing)    | 29,128 |      92.5 |\n",
    "| [Cleaned](https://drive.google.com/file/d/1Zhof84KbTJa3a1zfhN3TcwdWqPFCTnEv/view?usp=sharing)        | 25,419 |      44.2 |"
   ]
  },
  {
   "cell_type": "code",
   "execution_count": 50,
   "id": "incorporate-bosnia",
   "metadata": {},
   "outputs": [],
   "source": [
    "song_data = pd.read_pickle('songData.df')"
   ]
  },
  {
   "cell_type": "markdown",
   "id": "dimensional-chosen",
   "metadata": {},
   "source": [
    "Plotting the artists with more than 50 songs on the Billboard 'Hot-100', and their count:"
   ]
  },
  {
   "cell_type": "code",
   "execution_count": 51,
   "id": "intelligent-pizza",
   "metadata": {},
   "outputs": [],
   "source": [
    "artist_count = defaultdict(lambda: 0)\n",
    "artist_colab_count = defaultdict(lambda: defaultdict(lambda: 0))\n",
    "\n",
    "for artists in song_data.artists:\n",
    "    for artist in artists:\n",
    "        artist_count[artist] += 1\n",
    "        for colab in artists:\n",
    "            if colab != artist:\n",
    "                artist_colab_count[artist][colab] += 1"
   ]
  },
  {
   "cell_type": "code",
   "execution_count": 55,
   "id": "lonely-model",
   "metadata": {
    "scrolled": true
   },
   "outputs": [
    {
     "data": {
      "image/png": "[encoded data removed]",
      "text/plain": [
       "<Figure size 720x360 with 1 Axes>"
      ]
     },
     "metadata": {
      "needs_background": "light"
     },
     "output_type": "display_data"
    },
    {
     "data": {
      "application/vnd.plotly.v1+json": {
       "config": {
        "linkText": "Export to plot.ly",
        "plotlyServerURL": "https://plot.ly",
        "showLink": false
       },
       "data": [
        {
         "marker": {
          "color": "#1F77B4",
          "line": {
           "width": 1
          }
         },
         "opacity": 1,
         "orientation": "v",
         "type": "bar",
         "x": [
          0,
          1,
          2,
          3,
          4,
          5,
          6,
          7,
          8,
          9,
          10,
          11,
          12,
          13,
          14,
          15,
          16,
          17,
          18,
          19,
          20,
          21,
          22,
          23,
          24,
          25,
          26,
          27,
          28,
          29,
          30,
          31,
          32,
          33,
          34,
          35,
          36,
          37,
          38,
          39,
          40,
          41,
          42,
          43,
          44
         ],
         "xaxis": "x",
         "y": [
          253,
          169,
          161,
          132,
          126,
          111,
          102,
          97,
          97,
          95,
          92,
          89,
          89,
          80,
          79,
          76,
          71,
          70,
          70,
          69,
          68,
          68,
          65,
          65,
          65,
          64,
          63,
          62,
          58,
          57,
          56,
          56,
          56,
          56,
          55,
          55,
          54,
          54,
          54,
          53,
          53,
          52,
          52,
          51,
          51
         ],
         "yaxis": "y"
        }
       ],
       "layout": {
        "autosize": false,
        "bargap": 0.19999999999999996,
        "height": 360,
        "hovermode": "closest",
        "margin": {
         "b": 5,
         "l": 5,
         "pad": 0,
         "r": 5,
         "t": 20
        },
        "paper_bgcolor": "rgba(0,0,0,0)",
        "plot_bgcolor": "rgba(0,0,0,0)",
        "showlegend": false,
        "template": {
         "data": {
          "bar": [
           {
            "error_x": {
             "color": "#2a3f5f"
            },
            "error_y": {
             "color": "#2a3f5f"
            },
            "marker": {
             "line": {
              "color": "#E5ECF6",
              "width": 0.5
             },
             "pattern": {
              "fillmode": "overlay",
              "size": 10,
              "solidity": 0.2
             }
            },
            "type": "bar"
           }
          ],
          "barpolar": [
           {
            "marker": {
             "line": {
              "color": "#E5ECF6",
              "width": 0.5
             },
             "pattern": {
              "fillmode": "overlay",
              "size": 10,
              "solidity": 0.2
             }
            },
            "type": "barpolar"
           }
          ],
          "carpet": [
           {
            "aaxis": {
             "endlinecolor": "#2a3f5f",
             "gridcolor": "white",
             "linecolor": "white",
             "minorgridcolor": "white",
             "startlinecolor": "#2a3f5f"
            },
            "baxis": {
             "endlinecolor": "#2a3f5f",
             "gridcolor": "white",
             "linecolor": "white",
             "minorgridcolor": "white",
             "startlinecolor": "#2a3f5f"
            },
            "type": "carpet"
           }
          ],
          "choropleth": [
           {
            "colorbar": {
             "outlinewidth": 0,
             "ticks": ""
            },
            "type": "choropleth"
           }
          ],
          "contour": [
           {
            "colorbar": {
             "outlinewidth": 0,
             "ticks": ""
            },
            "colorscale": [
             [
              0,
              "#0d0887"
             ],
             [
              0.1111111111111111,
              "#46039f"
             ],
             [
              0.2222222222222222,
              "#7201a8"
             ],
             [
              0.3333333333333333,
              "#9c179e"
             ],
             [
              0.4444444444444444,
              "#bd3786"
             ],
             [
              0.5555555555555556,
              "#d8576b"
             ],
             [
              0.6666666666666666,
              "#ed7953"
             ],
             [
              0.7777777777777778,
              "#fb9f3a"
             ],
             [
              0.8888888888888888,
              "#fdca26"
             ],
             [
              1,
              "#f0f921"
             ]
            ],
            "type": "contour"
           }
          ],
          "contourcarpet": [
           {
            "colorbar": {
             "outlinewidth": 0,
             "ticks": ""
            },
            "type": "contourcarpet"
           }
          ],
          "heatmap": [
           {
            "colorbar": {
             "outlinewidth": 0,
             "ticks": ""
            },
            "colorscale": [
             [
              0,
              "#0d0887"
             ],
             [
              0.1111111111111111,
              "#46039f"
             ],
             [
              0.2222222222222222,
              "#7201a8"
             ],
             [
              0.3333333333333333,
              "#9c179e"
             ],
             [
              0.4444444444444444,
              "#bd3786"
             ],
             [
              0.5555555555555556,
              "#d8576b"
             ],
             [
              0.6666666666666666,
              "#ed7953"
             ],
             [
              0.7777777777777778,
              "#fb9f3a"
             ],
             [
              0.8888888888888888,
              "#fdca26"
             ],
             [
              1,
              "#f0f921"
             ]
            ],
            "type": "heatmap"
           }
          ],
          "heatmapgl": [
           {
            "colorbar": {
             "outlinewidth": 0,
             "ticks": ""
            },
            "colorscale": [
             [
              0,
              "#0d0887"
             ],
             [
              0.1111111111111111,
              "#46039f"
             ],
             [
              0.2222222222222222,
              "#7201a8"
             ],
             [
              0.3333333333333333,
              "#9c179e"
             ],
             [
              0.4444444444444444,
              "#bd3786"
             ],
             [
              0.5555555555555556,
              "#d8576b"
             ],
             [
              0.6666666666666666,
              "#ed7953"
             ],
             [
              0.7777777777777778,
              "#fb9f3a"
             ],
             [
              0.8888888888888888,
              "#fdca26"
             ],
             [
              1,
              "#f0f921"
             ]
            ],
            "type": "heatmapgl"
           }
          ],
          "histogram": [
           {
            "marker": {
             "pattern": {
              "fillmode": "overlay",
              "size": 10,
              "solidity": 0.2
             }
            },
            "type": "histogram"
           }
          ],
          "histogram2d": [
           {
            "colorbar": {
             "outlinewidth": 0,
             "ticks": ""
            },
            "colorscale": [
             [
              0,
              "#0d0887"
             ],
             [
              0.1111111111111111,
              "#46039f"
             ],
             [
              0.2222222222222222,
              "#7201a8"
             ],
             [
              0.3333333333333333,
              "#9c179e"
             ],
             [
              0.4444444444444444,
              "#bd3786"
             ],
             [
              0.5555555555555556,
              "#d8576b"
             ],
             [
              0.6666666666666666,
              "#ed7953"
             ],
             [
              0.7777777777777778,
              "#fb9f3a"
             ],
             [
              0.8888888888888888,
              "#fdca26"
             ],
             [
              1,
              "#f0f921"
             ]
            ],
            "type": "histogram2d"
           }
          ],
          "histogram2dcontour": [
           {
            "colorbar": {
             "outlinewidth": 0,
             "ticks": ""
            },
            "colorscale": [
             [
              0,
              "#0d0887"
             ],
             [
              0.1111111111111111,
              "#46039f"
             ],
             [
              0.2222222222222222,
              "#7201a8"
             ],
             [
              0.3333333333333333,
              "#9c179e"
             ],
             [
              0.4444444444444444,
              "#bd3786"
             ],
             [
              0.5555555555555556,
              "#d8576b"
             ],
             [
              0.6666666666666666,
              "#ed7953"
             ],
             [
              0.7777777777777778,
              "#fb9f3a"
             ],
             [
              0.8888888888888888,
              "#fdca26"
             ],
             [
              1,
              "#f0f921"
             ]
            ],
            "type": "histogram2dcontour"
           }
          ],
          "mesh3d": [
           {
            "colorbar": {
             "outlinewidth": 0,
             "ticks": ""
            },
            "type": "mesh3d"
           }
          ],
          "parcoords": [
           {
            "line": {
             "colorbar": {
              "outlinewidth": 0,
              "ticks": ""
             }
            },
            "type": "parcoords"
           }
          ],
          "pie": [
           {
            "automargin": true,
            "type": "pie"
           }
          ],
          "scatter": [
           {
            "fillpattern": {
             "fillmode": "overlay",
             "size": 10,
             "solidity": 0.2
            },
            "type": "scatter"
           }
          ],
          "scatter3d": [
           {
            "line": {
             "colorbar": {
              "outlinewidth": 0,
              "ticks": ""
             }
            },
            "marker": {
             "colorbar": {
              "outlinewidth": 0,
              "ticks": ""
             }
            },
            "type": "scatter3d"
           }
          ],
          "scattercarpet": [
           {
            "marker": {
             "colorbar": {
              "outlinewidth": 0,
              "ticks": ""
             }
            },
            "type": "scattercarpet"
           }
          ],
          "scattergeo": [
           {
            "marker": {
             "colorbar": {
              "outlinewidth": 0,
              "ticks": ""
             }
            },
            "type": "scattergeo"
           }
          ],
          "scattergl": [
           {
            "marker": {
             "colorbar": {
              "outlinewidth": 0,
              "ticks": ""
             }
            },
            "type": "scattergl"
           }
          ],
          "scattermapbox": [
           {
            "marker": {
             "colorbar": {
              "outlinewidth": 0,
              "ticks": ""
             }
            },
            "type": "scattermapbox"
           }
          ],
          "scatterpolar": [
           {
            "marker": {
             "colorbar": {
              "outlinewidth": 0,
              "ticks": ""
             }
            },
            "type": "scatterpolar"
           }
          ],
          "scatterpolargl": [
           {
            "marker": {
             "colorbar": {
              "outlinewidth": 0,
              "ticks": ""
             }
            },
            "type": "scatterpolargl"
           }
          ],
          "scatterternary": [
           {
            "marker": {
             "colorbar": {
              "outlinewidth": 0,
              "ticks": ""
             }
            },
            "type": "scatterternary"
           }
          ],
          "surface": [
           {
            "colorbar": {
             "outlinewidth": 0,
             "ticks": ""
            },
            "colorscale": [
             [
              0,
              "#0d0887"
             ],
             [
              0.1111111111111111,
              "#46039f"
             ],
             [
              0.2222222222222222,
              "#7201a8"
             ],
             [
              0.3333333333333333,
              "#9c179e"
             ],
             [
              0.4444444444444444,
              "#bd3786"
             ],
             [
              0.5555555555555556,
              "#d8576b"
             ],
             [
              0.6666666666666666,
              "#ed7953"
             ],
             [
              0.7777777777777778,
              "#fb9f3a"
             ],
             [
              0.8888888888888888,
              "#fdca26"
             ],
             [
              1,
              "#f0f921"
             ]
            ],
            "type": "surface"
           }
          ],
          "table": [
           {
            "cells": {
             "fill": {
              "color": "#EBF0F8"
             },
             "line": {
              "color": "white"
             }
            },
            "header": {
             "fill": {
              "color": "#C8D4E3"
             },
             "line": {
              "color": "white"
             }
            },
            "type": "table"
           }
          ]
         },
         "layout": {
          "annotationdefaults": {
           "arrowcolor": "#2a3f5f",
           "arrowhead": 0,
           "arrowwidth": 1
          },
          "autotypenumbers": "strict",
          "coloraxis": {
           "colorbar": {
            "outlinewidth": 0,
            "ticks": ""
           }
          },
          "colorscale": {
           "diverging": [
            [
             0,
             "#8e0152"
            ],
            [
             0.1,
             "#c51b7d"
            ],
            [
             0.2,
             "#de77ae"
            ],
            [
             0.3,
             "#f1b6da"
            ],
            [
             0.4,
             "#fde0ef"
            ],
            [
             0.5,
             "#f7f7f7"
            ],
            [
             0.6,
             "#e6f5d0"
            ],
            [
             0.7,
             "#b8e186"
            ],
            [
             0.8,
             "#7fbc41"
            ],
            [
             0.9,
             "#4d9221"
            ],
            [
             1,
             "#276419"
            ]
           ],
           "sequential": [
            [
             0,
             "#0d0887"
            ],
            [
             0.1111111111111111,
             "#46039f"
            ],
            [
             0.2222222222222222,
             "#7201a8"
            ],
            [
             0.3333333333333333,
             "#9c179e"
            ],
            [
             0.4444444444444444,
             "#bd3786"
            ],
            [
             0.5555555555555556,
             "#d8576b"
            ],
            [
             0.6666666666666666,
             "#ed7953"
            ],
            [
             0.7777777777777778,
             "#fb9f3a"
            ],
            [
             0.8888888888888888,
             "#fdca26"
            ],
            [
             1,
             "#f0f921"
            ]
           ],
           "sequentialminus": [
            [
             0,
             "#0d0887"
            ],
            [
             0.1111111111111111,
             "#46039f"
            ],
            [
             0.2222222222222222,
             "#7201a8"
            ],
            [
             0.3333333333333333,
             "#9c179e"
            ],
            [
             0.4444444444444444,
             "#bd3786"
            ],
            [
             0.5555555555555556,
             "#d8576b"
            ],
            [
             0.6666666666666666,
             "#ed7953"
            ],
            [
             0.7777777777777778,
             "#fb9f3a"
            ],
            [
             0.8888888888888888,
             "#fdca26"
            ],
            [
             1,
             "#f0f921"
            ]
           ]
          },
          "colorway": [
           "#636efa",
           "#EF553B",
           "#00cc96",
           "#ab63fa",
           "#FFA15A",
           "#19d3f3",
           "#FF6692",
           "#B6E880",
           "#FF97FF",
           "#FECB52"
          ],
          "font": {
           "color": "#2a3f5f"
          },
          "geo": {
           "bgcolor": "white",
           "lakecolor": "white",
           "landcolor": "#E5ECF6",
           "showlakes": true,
           "showland": true,
           "subunitcolor": "white"
          },
          "hoverlabel": {
           "align": "left"
          },
          "hovermode": "closest",
          "mapbox": {
           "style": "light"
          },
          "paper_bgcolor": "white",
          "plot_bgcolor": "#E5ECF6",
          "polar": {
           "angularaxis": {
            "gridcolor": "white",
            "linecolor": "white",
            "ticks": ""
           },
           "bgcolor": "#E5ECF6",
           "radialaxis": {
            "gridcolor": "white",
            "linecolor": "white",
            "ticks": ""
           }
          },
          "scene": {
           "xaxis": {
            "backgroundcolor": "#E5ECF6",
            "gridcolor": "white",
            "gridwidth": 2,
            "linecolor": "white",
            "showbackground": true,
            "ticks": "",
            "zerolinecolor": "white"
           },
           "yaxis": {
            "backgroundcolor": "#E5ECF6",
            "gridcolor": "white",
            "gridwidth": 2,
            "linecolor": "white",
            "showbackground": true,
            "ticks": "",
            "zerolinecolor": "white"
           },
           "zaxis": {
            "backgroundcolor": "#E5ECF6",
            "gridcolor": "white",
            "gridwidth": 2,
            "linecolor": "white",
            "showbackground": true,
            "ticks": "",
            "zerolinecolor": "white"
           }
          },
          "shapedefaults": {
           "line": {
            "color": "#2a3f5f"
           }
          },
          "ternary": {
           "aaxis": {
            "gridcolor": "white",
            "linecolor": "white",
            "ticks": ""
           },
           "baxis": {
            "gridcolor": "white",
            "linecolor": "white",
            "ticks": ""
           },
           "bgcolor": "#E5ECF6",
           "caxis": {
            "gridcolor": "white",
            "linecolor": "white",
            "ticks": ""
           }
          },
          "title": {
           "x": 0.05
          },
          "xaxis": {
           "automargin": true,
           "gridcolor": "white",
           "linecolor": "white",
           "ticks": "",
           "title": {
            "standoff": 15
           },
           "zerolinecolor": "white",
           "zerolinewidth": 2
          },
          "yaxis": {
           "automargin": true,
           "gridcolor": "white",
           "linecolor": "white",
           "ticks": "",
           "title": {
            "standoff": 15
           },
           "zerolinecolor": "white",
           "zerolinewidth": 2
          }
         }
        },
        "title": {
         "font": {
          "color": "#000000",
          "size": 12
         },
         "text": "Songs pr. Artist",
         "x": 0.5
        },
        "width": 720,
        "xaxis": {
         "anchor": "y",
         "domain": [
          0,
          1
         ],
         "mirror": "ticks",
         "nticks": 45,
         "range": [
          -1,
          45
         ],
         "showgrid": false,
         "showline": true,
         "side": "bottom",
         "tickfont": {
          "size": 10
         },
         "tickmode": "array",
         "ticks": "inside",
         "ticktext": [
          "drake",
          "lil wayne",
          "taylor swift",
          "kanye west",
          "future",
          "nicki minaj",
          "chris brown",
          "justin bieber",
          "lil baby",
          "jay-z",
          "the weeknd",
          "elvis presley",
          "eminem",
          "lil uzi vert",
          "youngboy never broke again",
          "travis scott",
          "lil durk",
          "juice wrld",
          "young thug",
          "james brown",
          "aretha franklin",
          "ariana grande",
          "the beatles",
          "stevie wonder",
          "gunna",
          "elton john",
          "beyoncé",
          "meek mill",
          "the rolling stones",
          "kenny chesney",
          "dionne warwick",
          "ludacris",
          "t.i.",
          "tim mcgraw",
          "rihanna",
          "the beach boys",
          "ray charles",
          "21 savage",
          "r. kelly",
          "big sean",
          "madonna",
          "marvin gaye",
          "post malone",
          "j. cole",
          "usher"
         ],
         "tickvals": [
          0,
          1,
          2,
          3,
          4,
          5,
          6,
          7,
          8,
          9,
          10,
          11,
          12,
          13,
          14,
          15,
          16,
          17,
          18,
          19,
          20,
          21,
          22,
          23,
          24,
          25,
          26,
          27,
          28,
          29,
          30,
          31,
          32,
          33,
          34,
          35,
          36,
          37,
          38,
          39,
          40,
          41,
          42,
          43,
          44
         ],
         "title": {
          "font": {
           "color": "#000000",
           "size": 10
          },
          "text": "Artist"
         },
         "type": "linear",
         "zeroline": false
        },
        "yaxis": {
         "anchor": "x",
         "domain": [
          0,
          1
         ],
         "mirror": "ticks",
         "nticks": 7,
         "range": [
          0,
          265.65
         ],
         "showgrid": false,
         "showline": true,
         "side": "left",
         "tickfont": {
          "size": 10
         },
         "ticks": "inside",
         "title": {
          "font": {
           "color": "#000000",
           "size": 10
          },
          "text": "Count"
         },
         "type": "linear",
         "zeroline": false
        }
       }
      },
      "text/html": [
       "<div>                            <div id=\"f7d02172-3fda-488e-9c22-05dccacbc1e2\" class=\"plotly-graph-div\" style=\"height:360px; width:720px;\"></div>            <script type=\"text/javascript\">                require([\"plotly\"], function(Plotly) {                    window.PLOTLYENV=window.PLOTLYENV || {};                                    if (document.getElementById(\"f7d02172-3fda-488e-9c22-05dccacbc1e2\")) {                    Plotly.newPlot(                        \"f7d02172-3fda-488e-9c22-05dccacbc1e2\",                        [{\"marker\":{\"color\":\"#1F77B4\",\"line\":{\"width\":1.0}},\"opacity\":1,\"orientation\":\"v\",\"x\":[0.0,1.0,2.0,3.0,4.0,5.0,6.0,7.0,8.0,9.0,10.0,11.0,12.0,13.0,14.0,15.0,16.0,17.0,18.0,19.0,20.0,21.0,22.0,23.0,24.0,25.0,26.0,27.0,28.0,29.0,30.0,31.0,32.0,33.0,34.0,35.0,36.0,37.0,38.0,39.0,40.0,41.0,42.0,43.0,44.0],\"xaxis\":\"x\",\"y\":[253.0,169.0,161.0,132.0,126.0,111.0,102.0,97.0,97.0,95.0,92.0,89.0,89.0,80.0,79.0,76.0,71.0,70.0,70.0,69.0,68.0,68.0,65.0,65.0,65.0,64.0,63.0,62.0,58.0,57.0,56.0,56.0,56.0,56.0,55.0,55.0,54.0,54.0,54.0,53.0,53.0,52.0,52.0,51.0,51.0],\"yaxis\":\"y\",\"type\":\"bar\"}],                        {\"autosize\":false,\"bargap\":0.19999999999999996,\"height\":360,\"hovermode\":\"closest\",\"margin\":{\"b\":5,\"l\":5,\"pad\":0,\"r\":5,\"t\":20},\"paper_bgcolor\":\"rgba(0,0,0,0)\",\"plot_bgcolor\":\"rgba(0,0,0,0)\",\"showlegend\":false,\"template\":{\"data\":{\"barpolar\":[{\"marker\":{\"line\":{\"color\":\"#E5ECF6\",\"width\":0.5},\"pattern\":{\"fillmode\":\"overlay\",\"size\":10,\"solidity\":0.2}},\"type\":\"barpolar\"}],\"bar\":[{\"error_x\":{\"color\":\"#2a3f5f\"},\"error_y\":{\"color\":\"#2a3f5f\"},\"marker\":{\"line\":{\"color\":\"#E5ECF6\",\"width\":0.5},\"pattern\":{\"fillmode\":\"overlay\",\"size\":10,\"solidity\":0.2}},\"type\":\"bar\"}],\"carpet\":[{\"aaxis\":{\"endlinecolor\":\"#2a3f5f\",\"gridcolor\":\"white\",\"linecolor\":\"white\",\"minorgridcolor\":\"white\",\"startlinecolor\":\"#2a3f5f\"},\"baxis\":{\"endlinecolor\":\"#2a3f5f\",\"gridcolor\":\"white\",\"linecolor\":\"white\",\"minorgridcolor\":\"white\",\"startlinecolor\":\"#2a3f5f\"},\"type\":\"carpet\"}],\"choropleth\":[{\"colorbar\":{\"outlinewidth\":0,\"ticks\":\"\"},\"type\":\"choropleth\"}],\"contourcarpet\":[{\"colorbar\":{\"outlinewidth\":0,\"ticks\":\"\"},\"type\":\"contourcarpet\"}],\"contour\":[{\"colorbar\":{\"outlinewidth\":0,\"ticks\":\"\"},\"colorscale\":[[0.0,\"#0d0887\"],[0.1111111111111111,\"#46039f\"],[0.2222222222222222,\"#7201a8\"],[0.3333333333333333,\"#9c179e\"],[0.4444444444444444,\"#bd3786\"],[0.5555555555555556,\"#d8576b\"],[0.6666666666666666,\"#ed7953\"],[0.7777777777777778,\"#fb9f3a\"],[0.8888888888888888,\"#fdca26\"],[1.0,\"#f0f921\"]],\"type\":\"contour\"}],\"heatmapgl\":[{\"colorbar\":{\"outlinewidth\":0,\"ticks\":\"\"},\"colorscale\":[[0.0,\"#0d0887\"],[0.1111111111111111,\"#46039f\"],[0.2222222222222222,\"#7201a8\"],[0.3333333333333333,\"#9c179e\"],[0.4444444444444444,\"#bd3786\"],[0.5555555555555556,\"#d8576b\"],[0.6666666666666666,\"#ed7953\"],[0.7777777777777778,\"#fb9f3a\"],[0.8888888888888888,\"#fdca26\"],[1.0,\"#f0f921\"]],\"type\":\"heatmapgl\"}],\"heatmap\":[{\"colorbar\":{\"outlinewidth\":0,\"ticks\":\"\"},\"colorscale\":[[0.0,\"#0d0887\"],[0.1111111111111111,\"#46039f\"],[0.2222222222222222,\"#7201a8\"],[0.3333333333333333,\"#9c179e\"],[0.4444444444444444,\"#bd3786\"],[0.5555555555555556,\"#d8576b\"],[0.6666666666666666,\"#ed7953\"],[0.7777777777777778,\"#fb9f3a\"],[0.8888888888888888,\"#fdca26\"],[1.0,\"#f0f921\"]],\"type\":\"heatmap\"}],\"histogram2dcontour\":[{\"colorbar\":{\"outlinewidth\":0,\"ticks\":\"\"},\"colorscale\":[[0.0,\"#0d0887\"],[0.1111111111111111,\"#46039f\"],[0.2222222222222222,\"#7201a8\"],[0.3333333333333333,\"#9c179e\"],[0.4444444444444444,\"#bd3786\"],[0.5555555555555556,\"#d8576b\"],[0.6666666666666666,\"#ed7953\"],[0.7777777777777778,\"#fb9f3a\"],[0.8888888888888888,\"#fdca26\"],[1.0,\"#f0f921\"]],\"type\":\"histogram2dcontour\"}],\"histogram2d\":[{\"colorbar\":{\"outlinewidth\":0,\"ticks\":\"\"},\"colorscale\":[[0.0,\"#0d0887\"],[0.1111111111111111,\"#46039f\"],[0.2222222222222222,\"#7201a8\"],[0.3333333333333333,\"#9c179e\"],[0.4444444444444444,\"#bd3786\"],[0.5555555555555556,\"#d8576b\"],[0.6666666666666666,\"#ed7953\"],[0.7777777777777778,\"#fb9f3a\"],[0.8888888888888888,\"#fdca26\"],[1.0,\"#f0f921\"]],\"type\":\"histogram2d\"}],\"histogram\":[{\"marker\":{\"pattern\":{\"fillmode\":\"overlay\",\"size\":10,\"solidity\":0.2}},\"type\":\"histogram\"}],\"mesh3d\":[{\"colorbar\":{\"outlinewidth\":0,\"ticks\":\"\"},\"type\":\"mesh3d\"}],\"parcoords\":[{\"line\":{\"colorbar\":{\"outlinewidth\":0,\"ticks\":\"\"}},\"type\":\"parcoords\"}],\"pie\":[{\"automargin\":true,\"type\":\"pie\"}],\"scatter3d\":[{\"line\":{\"colorbar\":{\"outlinewidth\":0,\"ticks\":\"\"}},\"marker\":{\"colorbar\":{\"outlinewidth\":0,\"ticks\":\"\"}},\"type\":\"scatter3d\"}],\"scattercarpet\":[{\"marker\":{\"colorbar\":{\"outlinewidth\":0,\"ticks\":\"\"}},\"type\":\"scattercarpet\"}],\"scattergeo\":[{\"marker\":{\"colorbar\":{\"outlinewidth\":0,\"ticks\":\"\"}},\"type\":\"scattergeo\"}],\"scattergl\":[{\"marker\":{\"colorbar\":{\"outlinewidth\":0,\"ticks\":\"\"}},\"type\":\"scattergl\"}],\"scattermapbox\":[{\"marker\":{\"colorbar\":{\"outlinewidth\":0,\"ticks\":\"\"}},\"type\":\"scattermapbox\"}],\"scatterpolargl\":[{\"marker\":{\"colorbar\":{\"outlinewidth\":0,\"ticks\":\"\"}},\"type\":\"scatterpolargl\"}],\"scatterpolar\":[{\"marker\":{\"colorbar\":{\"outlinewidth\":0,\"ticks\":\"\"}},\"type\":\"scatterpolar\"}],\"scatter\":[{\"fillpattern\":{\"fillmode\":\"overlay\",\"size\":10,\"solidity\":0.2},\"type\":\"scatter\"}],\"scatterternary\":[{\"marker\":{\"colorbar\":{\"outlinewidth\":0,\"ticks\":\"\"}},\"type\":\"scatterternary\"}],\"surface\":[{\"colorbar\":{\"outlinewidth\":0,\"ticks\":\"\"},\"colorscale\":[[0.0,\"#0d0887\"],[0.1111111111111111,\"#46039f\"],[0.2222222222222222,\"#7201a8\"],[0.3333333333333333,\"#9c179e\"],[0.4444444444444444,\"#bd3786\"],[0.5555555555555556,\"#d8576b\"],[0.6666666666666666,\"#ed7953\"],[0.7777777777777778,\"#fb9f3a\"],[0.8888888888888888,\"#fdca26\"],[1.0,\"#f0f921\"]],\"type\":\"surface\"}],\"table\":[{\"cells\":{\"fill\":{\"color\":\"#EBF0F8\"},\"line\":{\"color\":\"white\"}},\"header\":{\"fill\":{\"color\":\"#C8D4E3\"},\"line\":{\"color\":\"white\"}},\"type\":\"table\"}]},\"layout\":{\"annotationdefaults\":{\"arrowcolor\":\"#2a3f5f\",\"arrowhead\":0,\"arrowwidth\":1},\"autotypenumbers\":\"strict\",\"coloraxis\":{\"colorbar\":{\"outlinewidth\":0,\"ticks\":\"\"}},\"colorscale\":{\"diverging\":[[0,\"#8e0152\"],[0.1,\"#c51b7d\"],[0.2,\"#de77ae\"],[0.3,\"#f1b6da\"],[0.4,\"#fde0ef\"],[0.5,\"#f7f7f7\"],[0.6,\"#e6f5d0\"],[0.7,\"#b8e186\"],[0.8,\"#7fbc41\"],[0.9,\"#4d9221\"],[1,\"#276419\"]],\"sequential\":[[0.0,\"#0d0887\"],[0.1111111111111111,\"#46039f\"],[0.2222222222222222,\"#7201a8\"],[0.3333333333333333,\"#9c179e\"],[0.4444444444444444,\"#bd3786\"],[0.5555555555555556,\"#d8576b\"],[0.6666666666666666,\"#ed7953\"],[0.7777777777777778,\"#fb9f3a\"],[0.8888888888888888,\"#fdca26\"],[1.0,\"#f0f921\"]],\"sequentialminus\":[[0.0,\"#0d0887\"],[0.1111111111111111,\"#46039f\"],[0.2222222222222222,\"#7201a8\"],[0.3333333333333333,\"#9c179e\"],[0.4444444444444444,\"#bd3786\"],[0.5555555555555556,\"#d8576b\"],[0.6666666666666666,\"#ed7953\"],[0.7777777777777778,\"#fb9f3a\"],[0.8888888888888888,\"#fdca26\"],[1.0,\"#f0f921\"]]},\"colorway\":[\"#636efa\",\"#EF553B\",\"#00cc96\",\"#ab63fa\",\"#FFA15A\",\"#19d3f3\",\"#FF6692\",\"#B6E880\",\"#FF97FF\",\"#FECB52\"],\"font\":{\"color\":\"#2a3f5f\"},\"geo\":{\"bgcolor\":\"white\",\"lakecolor\":\"white\",\"landcolor\":\"#E5ECF6\",\"showlakes\":true,\"showland\":true,\"subunitcolor\":\"white\"},\"hoverlabel\":{\"align\":\"left\"},\"hovermode\":\"closest\",\"mapbox\":{\"style\":\"light\"},\"paper_bgcolor\":\"white\",\"plot_bgcolor\":\"#E5ECF6\",\"polar\":{\"angularaxis\":{\"gridcolor\":\"white\",\"linecolor\":\"white\",\"ticks\":\"\"},\"bgcolor\":\"#E5ECF6\",\"radialaxis\":{\"gridcolor\":\"white\",\"linecolor\":\"white\",\"ticks\":\"\"}},\"scene\":{\"xaxis\":{\"backgroundcolor\":\"#E5ECF6\",\"gridcolor\":\"white\",\"gridwidth\":2,\"linecolor\":\"white\",\"showbackground\":true,\"ticks\":\"\",\"zerolinecolor\":\"white\"},\"yaxis\":{\"backgroundcolor\":\"#E5ECF6\",\"gridcolor\":\"white\",\"gridwidth\":2,\"linecolor\":\"white\",\"showbackground\":true,\"ticks\":\"\",\"zerolinecolor\":\"white\"},\"zaxis\":{\"backgroundcolor\":\"#E5ECF6\",\"gridcolor\":\"white\",\"gridwidth\":2,\"linecolor\":\"white\",\"showbackground\":true,\"ticks\":\"\",\"zerolinecolor\":\"white\"}},\"shapedefaults\":{\"line\":{\"color\":\"#2a3f5f\"}},\"ternary\":{\"aaxis\":{\"gridcolor\":\"white\",\"linecolor\":\"white\",\"ticks\":\"\"},\"baxis\":{\"gridcolor\":\"white\",\"linecolor\":\"white\",\"ticks\":\"\"},\"bgcolor\":\"#E5ECF6\",\"caxis\":{\"gridcolor\":\"white\",\"linecolor\":\"white\",\"ticks\":\"\"}},\"title\":{\"x\":0.05},\"xaxis\":{\"automargin\":true,\"gridcolor\":\"white\",\"linecolor\":\"white\",\"ticks\":\"\",\"title\":{\"standoff\":15},\"zerolinecolor\":\"white\",\"zerolinewidth\":2},\"yaxis\":{\"automargin\":true,\"gridcolor\":\"white\",\"linecolor\":\"white\",\"ticks\":\"\",\"title\":{\"standoff\":15},\"zerolinecolor\":\"white\",\"zerolinewidth\":2}}},\"title\":{\"font\":{\"color\":\"#000000\",\"size\":12.0},\"text\":\"Songs pr. Artist\",\"x\":0.5},\"width\":720,\"xaxis\":{\"anchor\":\"y\",\"domain\":[0.0,1.0],\"mirror\":\"ticks\",\"nticks\":45,\"range\":[-1.0,45.0],\"showgrid\":false,\"showline\":true,\"side\":\"bottom\",\"tickfont\":{\"size\":10.0},\"tickmode\":\"array\",\"ticks\":\"inside\",\"ticktext\":[\"drake\",\"lil wayne\",\"taylor swift\",\"kanye west\",\"future\",\"nicki minaj\",\"chris brown\",\"justin bieber\",\"lil baby\",\"jay-z\",\"the weeknd\",\"elvis presley\",\"eminem\",\"lil uzi vert\",\"youngboy never broke again\",\"travis scott\",\"lil durk\",\"juice wrld\",\"young thug\",\"james brown\",\"aretha franklin\",\"ariana grande\",\"the beatles\",\"stevie wonder\",\"gunna\",\"elton john\",\"beyonc\\u00e9\",\"meek mill\",\"the rolling stones\",\"kenny chesney\",\"dionne warwick\",\"ludacris\",\"t.i.\",\"tim mcgraw\",\"rihanna\",\"the beach boys\",\"ray charles\",\"21 savage\",\"r. kelly\",\"big sean\",\"madonna\",\"marvin gaye\",\"post malone\",\"j. cole\",\"usher\"],\"tickvals\":[0,1,2,3,4,5,6,7,8,9,10,11,12,13,14,15,16,17,18,19,20,21,22,23,24,25,26,27,28,29,30,31,32,33,34,35,36,37,38,39,40,41,42,43,44],\"title\":{\"font\":{\"color\":\"#000000\",\"size\":10.0},\"text\":\"Artist\"},\"type\":\"linear\",\"zeroline\":false},\"yaxis\":{\"anchor\":\"x\",\"domain\":[0.0,1.0],\"mirror\":\"ticks\",\"nticks\":7,\"range\":[0.0,265.65],\"showgrid\":false,\"showline\":true,\"side\":\"left\",\"tickfont\":{\"size\":10.0},\"ticks\":\"inside\",\"title\":{\"font\":{\"color\":\"#000000\",\"size\":10.0},\"text\":\"Count\"},\"type\":\"linear\",\"zeroline\":false}},                        {\"responsive\": true}                    ).then(function(){\n",
       "                            \n",
       "var gd = document.getElementById('f7d02172-3fda-488e-9c22-05dccacbc1e2');\n",
       "var x = new MutationObserver(function (mutations, observer) {{\n",
       "        var display = window.getComputedStyle(gd).display;\n",
       "        if (!display || display === 'none') {{\n",
       "            console.log([gd, 'removed!']);\n",
       "            Plotly.purge(gd);\n",
       "            observer.disconnect();\n",
       "        }}\n",
       "}});\n",
       "\n",
       "// Listen for the removal of the full notebook cells\n",
       "var notebookContainer = gd.closest('#notebook-container');\n",
       "if (notebookContainer) {{\n",
       "    x.observe(notebookContainer, {childList: true});\n",
       "}}\n",
       "\n",
       "// Listen for the clearing of the current output cell\n",
       "var outputEl = gd.closest('.output');\n",
       "if (outputEl) {{\n",
       "    x.observe(outputEl, {childList: true});\n",
       "}}\n",
       "\n",
       "                        })                };                });            </script>        </div>"
      ]
     },
     "metadata": {},
     "output_type": "display_data"
    }
   ],
   "source": [
    "sorted_artists = {k: v for k, v in sorted(artist_count.items(), key=lambda item: item[1], reverse=True) if v > 50}\n",
    "#for k, v in sorted_artists.items():\n",
    "#    print(k + ':', v)\n",
    "\n",
    "fig = plt.figure(figsize=(10,5))\n",
    "plt.bar(*zip(*sorted_artists.items()))\n",
    "plt.xlim(-1, len(sorted_artists.items()))\n",
    "plt.xlabel('Artist')\n",
    "plt.xticks(rotation=90)\n",
    "plt.ylabel('Count')\n",
    "plt.title('Songs pr. Artist')\n",
    "plt.show()\n",
    "\n",
    "plotly_fig = tls.mpl_to_plotly(fig, resize=False)\n",
    "plotly_fig.update_layout(\n",
    "    xaxis = dict(\n",
    "        tickmode = 'array',\n",
    "        tickvals = list(np.arange(len(sorted_artists.keys()))),\n",
    "        ticktext = list(sorted_artists.keys())),\n",
    "    paper_bgcolor='rgba(0,0,0,0)',\n",
    "    plot_bgcolor='rgba(0,0,0,0)',\n",
    "    title_x =0.5,\n",
    "    margin=dict(l=5, r=5, t=20, b=5)\n",
    ")\n",
    "\n",
    "plotly.write_image(plotly_fig, plotly_folder + \"songs_per_artist.json\")\n",
    "iplot(plotly_fig)\n",
    "\n"
   ]
  },
  {
   "cell_type": "code",
   "execution_count": 56,
   "id": "about-belly",
   "metadata": {},
   "outputs": [
    {
     "name": "stdout",
     "output_type": "stream",
     "text": [
      "Total genres: 582\n"
     ]
    }
   ],
   "source": [
    "all_genres = set()\n",
    "genre_count = {}\n",
    "\n",
    "for genres in song_data.genres:\n",
    "    for genre in genres:\n",
    "        if genre in all_genres:\n",
    "            genre_count[genre] += 1\n",
    "        else:\n",
    "            genre_count[genre] = 1\n",
    "    all_genres = all_genres.union(set(genres))\n",
    "    \n",
    "print(\"Total genres:\", len(all_genres))\n"
   ]
  },
  {
   "cell_type": "code",
   "execution_count": 59,
   "id": "choice-transcription",
   "metadata": {},
   "outputs": [
    {
     "data": {
      "image/png": "[encoded data removed]",
      "text/plain": [
       "<Figure size 720x360 with 1 Axes>"
      ]
     },
     "metadata": {
      "needs_background": "light"
     },
     "output_type": "display_data"
    },
    {
     "data": {
      "application/vnd.plotly.v1+json": {
       "config": {
        "linkText": "Export to plot.ly",
        "plotlyServerURL": "https://plot.ly",
        "showLink": false
       },
       "data": [
        {
         "marker": {
          "color": "#1F77B4",
          "line": {
           "width": 1
          }
         },
         "opacity": 1,
         "orientation": "v",
         "type": "bar",
         "x": [
          0,
          1,
          2,
          3,
          4,
          5,
          6,
          7,
          8,
          9,
          10,
          11,
          12,
          13,
          14,
          15,
          16,
          17,
          18,
          19,
          20,
          21,
          22,
          23,
          24,
          25,
          26,
          27,
          28
         ],
         "xaxis": "x",
         "y": [
          13703,
          5688,
          4841,
          4776,
          2616,
          2070,
          1737,
          1655,
          1454,
          1409,
          1189,
          979,
          971,
          896,
          892,
          773,
          752,
          728,
          661,
          608,
          603,
          591,
          545,
          544,
          544,
          540,
          533,
          516,
          506
         ],
         "yaxis": "y"
        }
       ],
       "layout": {
        "autosize": false,
        "bargap": 0.19999999999999996,
        "height": 360,
        "hovermode": "closest",
        "margin": {
         "b": 5,
         "l": 5,
         "pad": 0,
         "r": 5,
         "t": 20
        },
        "paper_bgcolor": "rgba(0,0,0,0)",
        "plot_bgcolor": "rgba(0,0,0,0)",
        "showlegend": false,
        "template": {
         "data": {
          "bar": [
           {
            "error_x": {
             "color": "#2a3f5f"
            },
            "error_y": {
             "color": "#2a3f5f"
            },
            "marker": {
             "line": {
              "color": "#E5ECF6",
              "width": 0.5
             },
             "pattern": {
              "fillmode": "overlay",
              "size": 10,
              "solidity": 0.2
             }
            },
            "type": "bar"
           }
          ],
          "barpolar": [
           {
            "marker": {
             "line": {
              "color": "#E5ECF6",
              "width": 0.5
             },
             "pattern": {
              "fillmode": "overlay",
              "size": 10,
              "solidity": 0.2
             }
            },
            "type": "barpolar"
           }
          ],
          "carpet": [
           {
            "aaxis": {
             "endlinecolor": "#2a3f5f",
             "gridcolor": "white",
             "linecolor": "white",
             "minorgridcolor": "white",
             "startlinecolor": "#2a3f5f"
            },
            "baxis": {
             "endlinecolor": "#2a3f5f",
             "gridcolor": "white",
             "linecolor": "white",
             "minorgridcolor": "white",
             "startlinecolor": "#2a3f5f"
            },
            "type": "carpet"
           }
          ],
          "choropleth": [
           {
            "colorbar": {
             "outlinewidth": 0,
             "ticks": ""
            },
            "type": "choropleth"
           }
          ],
          "contour": [
           {
            "colorbar": {
             "outlinewidth": 0,
             "ticks": ""
            },
            "colorscale": [
             [
              0,
              "#0d0887"
             ],
             [
              0.1111111111111111,
              "#46039f"
             ],
             [
              0.2222222222222222,
              "#7201a8"
             ],
             [
              0.3333333333333333,
              "#9c179e"
             ],
             [
              0.4444444444444444,
              "#bd3786"
             ],
             [
              0.5555555555555556,
              "#d8576b"
             ],
             [
              0.6666666666666666,
              "#ed7953"
             ],
             [
              0.7777777777777778,
              "#fb9f3a"
             ],
             [
              0.8888888888888888,
              "#fdca26"
             ],
             [
              1,
              "#f0f921"
             ]
            ],
            "type": "contour"
           }
          ],
          "contourcarpet": [
           {
            "colorbar": {
             "outlinewidth": 0,
             "ticks": ""
            },
            "type": "contourcarpet"
           }
          ],
          "heatmap": [
           {
            "colorbar": {
             "outlinewidth": 0,
             "ticks": ""
            },
            "colorscale": [
             [
              0,
              "#0d0887"
             ],
             [
              0.1111111111111111,
              "#46039f"
             ],
             [
              0.2222222222222222,
              "#7201a8"
             ],
             [
              0.3333333333333333,
              "#9c179e"
             ],
             [
              0.4444444444444444,
              "#bd3786"
             ],
             [
              0.5555555555555556,
              "#d8576b"
             ],
             [
              0.6666666666666666,
              "#ed7953"
             ],
             [
              0.7777777777777778,
              "#fb9f3a"
             ],
             [
              0.8888888888888888,
              "#fdca26"
             ],
             [
              1,
              "#f0f921"
             ]
            ],
            "type": "heatmap"
           }
          ],
          "heatmapgl": [
           {
            "colorbar": {
             "outlinewidth": 0,
             "ticks": ""
            },
            "colorscale": [
             [
              0,
              "#0d0887"
             ],
             [
              0.1111111111111111,
              "#46039f"
             ],
             [
              0.2222222222222222,
              "#7201a8"
             ],
             [
              0.3333333333333333,
              "#9c179e"
             ],
             [
              0.4444444444444444,
              "#bd3786"
             ],
             [
              0.5555555555555556,
              "#d8576b"
             ],
             [
              0.6666666666666666,
              "#ed7953"
             ],
             [
              0.7777777777777778,
              "#fb9f3a"
             ],
             [
              0.8888888888888888,
              "#fdca26"
             ],
             [
              1,
              "#f0f921"
             ]
            ],
            "type": "heatmapgl"
           }
          ],
          "histogram": [
           {
            "marker": {
             "pattern": {
              "fillmode": "overlay",
              "size": 10,
              "solidity": 0.2
             }
            },
            "type": "histogram"
           }
          ],
          "histogram2d": [
           {
            "colorbar": {
             "outlinewidth": 0,
             "ticks": ""
            },
            "colorscale": [
             [
              0,
              "#0d0887"
             ],
             [
              0.1111111111111111,
              "#46039f"
             ],
             [
              0.2222222222222222,
              "#7201a8"
             ],
             [
              0.3333333333333333,
              "#9c179e"
             ],
             [
              0.4444444444444444,
              "#bd3786"
             ],
             [
              0.5555555555555556,
              "#d8576b"
             ],
             [
              0.6666666666666666,
              "#ed7953"
             ],
             [
              0.7777777777777778,
              "#fb9f3a"
             ],
             [
              0.8888888888888888,
              "#fdca26"
             ],
             [
              1,
              "#f0f921"
             ]
            ],
            "type": "histogram2d"
           }
          ],
          "histogram2dcontour": [
           {
            "colorbar": {
             "outlinewidth": 0,
             "ticks": ""
            },
            "colorscale": [
             [
              0,
              "#0d0887"
             ],
             [
              0.1111111111111111,
              "#46039f"
             ],
             [
              0.2222222222222222,
              "#7201a8"
             ],
             [
              0.3333333333333333,
              "#9c179e"
             ],
             [
              0.4444444444444444,
              "#bd3786"
             ],
             [
              0.5555555555555556,
              "#d8576b"
             ],
             [
              0.6666666666666666,
              "#ed7953"
             ],
             [
              0.7777777777777778,
              "#fb9f3a"
             ],
             [
              0.8888888888888888,
              "#fdca26"
             ],
             [
              1,
              "#f0f921"
             ]
            ],
            "type": "histogram2dcontour"
           }
          ],
          "mesh3d": [
           {
            "colorbar": {
             "outlinewidth": 0,
             "ticks": ""
            },
            "type": "mesh3d"
           }
          ],
          "parcoords": [
           {
            "line": {
             "colorbar": {
              "outlinewidth": 0,
              "ticks": ""
             }
            },
            "type": "parcoords"
           }
          ],
          "pie": [
           {
            "automargin": true,
            "type": "pie"
           }
          ],
          "scatter": [
           {
            "fillpattern": {
             "fillmode": "overlay",
             "size": 10,
             "solidity": 0.2
            },
            "type": "scatter"
           }
          ],
          "scatter3d": [
           {
            "line": {
             "colorbar": {
              "outlinewidth": 0,
              "ticks": ""
             }
            },
            "marker": {
             "colorbar": {
              "outlinewidth": 0,
              "ticks": ""
             }
            },
            "type": "scatter3d"
           }
          ],
          "scattercarpet": [
           {
            "marker": {
             "colorbar": {
              "outlinewidth": 0,
              "ticks": ""
             }
            },
            "type": "scattercarpet"
           }
          ],
          "scattergeo": [
           {
            "marker": {
             "colorbar": {
              "outlinewidth": 0,
              "ticks": ""
             }
            },
            "type": "scattergeo"
           }
          ],
          "scattergl": [
           {
            "marker": {
             "colorbar": {
              "outlinewidth": 0,
              "ticks": ""
             }
            },
            "type": "scattergl"
           }
          ],
          "scattermapbox": [
           {
            "marker": {
             "colorbar": {
              "outlinewidth": 0,
              "ticks": ""
             }
            },
            "type": "scattermapbox"
           }
          ],
          "scatterpolar": [
           {
            "marker": {
             "colorbar": {
              "outlinewidth": 0,
              "ticks": ""
             }
            },
            "type": "scatterpolar"
           }
          ],
          "scatterpolargl": [
           {
            "marker": {
             "colorbar": {
              "outlinewidth": 0,
              "ticks": ""
             }
            },
            "type": "scatterpolargl"
           }
          ],
          "scatterternary": [
           {
            "marker": {
             "colorbar": {
              "outlinewidth": 0,
              "ticks": ""
             }
            },
            "type": "scatterternary"
           }
          ],
          "surface": [
           {
            "colorbar": {
             "outlinewidth": 0,
             "ticks": ""
            },
            "colorscale": [
             [
              0,
              "#0d0887"
             ],
             [
              0.1111111111111111,
              "#46039f"
             ],
             [
              0.2222222222222222,
              "#7201a8"
             ],
             [
              0.3333333333333333,
              "#9c179e"
             ],
             [
              0.4444444444444444,
              "#bd3786"
             ],
             [
              0.5555555555555556,
              "#d8576b"
             ],
             [
              0.6666666666666666,
              "#ed7953"
             ],
             [
              0.7777777777777778,
              "#fb9f3a"
             ],
             [
              0.8888888888888888,
              "#fdca26"
             ],
             [
              1,
              "#f0f921"
             ]
            ],
            "type": "surface"
           }
          ],
          "table": [
           {
            "cells": {
             "fill": {
              "color": "#EBF0F8"
             },
             "line": {
              "color": "white"
             }
            },
            "header": {
             "fill": {
              "color": "#C8D4E3"
             },
             "line": {
              "color": "white"
             }
            },
            "type": "table"
           }
          ]
         },
         "layout": {
          "annotationdefaults": {
           "arrowcolor": "#2a3f5f",
           "arrowhead": 0,
           "arrowwidth": 1
          },
          "autotypenumbers": "strict",
          "coloraxis": {
           "colorbar": {
            "outlinewidth": 0,
            "ticks": ""
           }
          },
          "colorscale": {
           "diverging": [
            [
             0,
             "#8e0152"
            ],
            [
             0.1,
             "#c51b7d"
            ],
            [
             0.2,
             "#de77ae"
            ],
            [
             0.3,
             "#f1b6da"
            ],
            [
             0.4,
             "#fde0ef"
            ],
            [
             0.5,
             "#f7f7f7"
            ],
            [
             0.6,
             "#e6f5d0"
            ],
            [
             0.7,
             "#b8e186"
            ],
            [
             0.8,
             "#7fbc41"
            ],
            [
             0.9,
             "#4d9221"
            ],
            [
             1,
             "#276419"
            ]
           ],
           "sequential": [
            [
             0,
             "#0d0887"
            ],
            [
             0.1111111111111111,
             "#46039f"
            ],
            [
             0.2222222222222222,
             "#7201a8"
            ],
            [
             0.3333333333333333,
             "#9c179e"
            ],
            [
             0.4444444444444444,
             "#bd3786"
            ],
            [
             0.5555555555555556,
             "#d8576b"
            ],
            [
             0.6666666666666666,
             "#ed7953"
            ],
            [
             0.7777777777777778,
             "#fb9f3a"
            ],
            [
             0.8888888888888888,
             "#fdca26"
            ],
            [
             1,
             "#f0f921"
            ]
           ],
           "sequentialminus": [
            [
             0,
             "#0d0887"
            ],
            [
             0.1111111111111111,
             "#46039f"
            ],
            [
             0.2222222222222222,
             "#7201a8"
            ],
            [
             0.3333333333333333,
             "#9c179e"
            ],
            [
             0.4444444444444444,
             "#bd3786"
            ],
            [
             0.5555555555555556,
             "#d8576b"
            ],
            [
             0.6666666666666666,
             "#ed7953"
            ],
            [
             0.7777777777777778,
             "#fb9f3a"
            ],
            [
             0.8888888888888888,
             "#fdca26"
            ],
            [
             1,
             "#f0f921"
            ]
           ]
          },
          "colorway": [
           "#636efa",
           "#EF553B",
           "#00cc96",
           "#ab63fa",
           "#FFA15A",
           "#19d3f3",
           "#FF6692",
           "#B6E880",
           "#FF97FF",
           "#FECB52"
          ],
          "font": {
           "color": "#2a3f5f"
          },
          "geo": {
           "bgcolor": "white",
           "lakecolor": "white",
           "landcolor": "#E5ECF6",
           "showlakes": true,
           "showland": true,
           "subunitcolor": "white"
          },
          "hoverlabel": {
           "align": "left"
          },
          "hovermode": "closest",
          "mapbox": {
           "style": "light"
          },
          "paper_bgcolor": "white",
          "plot_bgcolor": "#E5ECF6",
          "polar": {
           "angularaxis": {
            "gridcolor": "white",
            "linecolor": "white",
            "ticks": ""
           },
           "bgcolor": "#E5ECF6",
           "radialaxis": {
            "gridcolor": "white",
            "linecolor": "white",
            "ticks": ""
           }
          },
          "scene": {
           "xaxis": {
            "backgroundcolor": "#E5ECF6",
            "gridcolor": "white",
            "gridwidth": 2,
            "linecolor": "white",
            "showbackground": true,
            "ticks": "",
            "zerolinecolor": "white"
           },
           "yaxis": {
            "backgroundcolor": "#E5ECF6",
            "gridcolor": "white",
            "gridwidth": 2,
            "linecolor": "white",
            "showbackground": true,
            "ticks": "",
            "zerolinecolor": "white"
           },
           "zaxis": {
            "backgroundcolor": "#E5ECF6",
            "gridcolor": "white",
            "gridwidth": 2,
            "linecolor": "white",
            "showbackground": true,
            "ticks": "",
            "zerolinecolor": "white"
           }
          },
          "shapedefaults": {
           "line": {
            "color": "#2a3f5f"
           }
          },
          "ternary": {
           "aaxis": {
            "gridcolor": "white",
            "linecolor": "white",
            "ticks": ""
           },
           "baxis": {
            "gridcolor": "white",
            "linecolor": "white",
            "ticks": ""
           },
           "bgcolor": "#E5ECF6",
           "caxis": {
            "gridcolor": "white",
            "linecolor": "white",
            "ticks": ""
           }
          },
          "title": {
           "x": 0.05
          },
          "xaxis": {
           "automargin": true,
           "gridcolor": "white",
           "linecolor": "white",
           "ticks": "",
           "title": {
            "standoff": 15
           },
           "zerolinecolor": "white",
           "zerolinewidth": 2
          },
          "yaxis": {
           "automargin": true,
           "gridcolor": "white",
           "linecolor": "white",
           "ticks": "",
           "title": {
            "standoff": 15
           },
           "zerolinecolor": "white",
           "zerolinewidth": 2
          }
         }
        },
        "title": {
         "font": {
          "color": "#000000",
          "size": 12
         },
         "text": "Songs pr. Genre",
         "x": 0.5
        },
        "width": 720,
        "xaxis": {
         "anchor": "y",
         "domain": [
          0,
          1
         ],
         "mirror": "ticks",
         "nticks": 29,
         "range": [
          -1,
          29
         ],
         "showgrid": false,
         "showline": true,
         "side": "bottom",
         "tickfont": {
          "size": 10
         },
         "tickmode": "array",
         "ticks": "inside",
         "ticktext": [
          "pop",
          "rock",
          "r&b",
          "rap",
          "country",
          "soul",
          "singer-songwriter",
          "pop-rock",
          "trap",
          "ballad",
          "soul pop",
          "eighties",
          "uk",
          "seventies",
          "adult contemporary",
          "alternative rock",
          "funk",
          "hip-hop",
          "soundtrack",
          "dance-pop",
          "atlanta",
          "synth-pop",
          "canada",
          "dance",
          "electronic",
          "east coast",
          "electro-pop",
          "pop country",
          "motown"
         ],
         "tickvals": [
          0,
          1,
          2,
          3,
          4,
          5,
          6,
          7,
          8,
          9,
          10,
          11,
          12,
          13,
          14,
          15,
          16,
          17,
          18,
          19,
          20,
          21,
          22,
          23,
          24,
          25,
          26,
          27,
          28
         ],
         "title": {
          "font": {
           "color": "#000000",
           "size": 10
          },
          "text": "Genre"
         },
         "type": "linear",
         "zeroline": false
        },
        "yaxis": {
         "anchor": "x",
         "domain": [
          0,
          1
         ],
         "mirror": "ticks",
         "nticks": 9,
         "range": [
          0,
          14388.15
         ],
         "showgrid": false,
         "showline": true,
         "side": "left",
         "tickfont": {
          "size": 10
         },
         "ticks": "inside",
         "title": {
          "font": {
           "color": "#000000",
           "size": 10
          },
          "text": "Count"
         },
         "type": "linear",
         "zeroline": false
        }
       }
      },
      "text/html": [
       "<div>                            <div id=\"bf5f1907-ac1c-4b6c-8066-4f9faccc7799\" class=\"plotly-graph-div\" style=\"height:360px; width:720px;\"></div>            <script type=\"text/javascript\">                require([\"plotly\"], function(Plotly) {                    window.PLOTLYENV=window.PLOTLYENV || {};                                    if (document.getElementById(\"bf5f1907-ac1c-4b6c-8066-4f9faccc7799\")) {                    Plotly.newPlot(                        \"bf5f1907-ac1c-4b6c-8066-4f9faccc7799\",                        [{\"marker\":{\"color\":\"#1F77B4\",\"line\":{\"width\":1.0}},\"opacity\":1,\"orientation\":\"v\",\"x\":[0.0,1.0,2.0,3.0,4.0,5.0,6.0,7.0,8.0,9.0,10.0,11.0,12.0,13.0,14.0,15.0,16.0,17.0,18.0,19.0,20.0,21.0,22.0,23.0,24.0,25.0,26.0,27.0,28.0],\"xaxis\":\"x\",\"y\":[13703.0,5688.0,4841.0,4776.0,2616.0,2070.0,1737.0,1655.0,1454.0,1409.0,1189.0,979.0,971.0,896.0,892.0,773.0,752.0,728.0,661.0,608.0,603.0,591.0,545.0,544.0,544.0,540.0,533.0,516.0,506.0],\"yaxis\":\"y\",\"type\":\"bar\"}],                        {\"autosize\":false,\"bargap\":0.19999999999999996,\"height\":360,\"hovermode\":\"closest\",\"margin\":{\"b\":5,\"l\":5,\"pad\":0,\"r\":5,\"t\":20},\"paper_bgcolor\":\"rgba(0,0,0,0)\",\"plot_bgcolor\":\"rgba(0,0,0,0)\",\"showlegend\":false,\"template\":{\"data\":{\"barpolar\":[{\"marker\":{\"line\":{\"color\":\"#E5ECF6\",\"width\":0.5},\"pattern\":{\"fillmode\":\"overlay\",\"size\":10,\"solidity\":0.2}},\"type\":\"barpolar\"}],\"bar\":[{\"error_x\":{\"color\":\"#2a3f5f\"},\"error_y\":{\"color\":\"#2a3f5f\"},\"marker\":{\"line\":{\"color\":\"#E5ECF6\",\"width\":0.5},\"pattern\":{\"fillmode\":\"overlay\",\"size\":10,\"solidity\":0.2}},\"type\":\"bar\"}],\"carpet\":[{\"aaxis\":{\"endlinecolor\":\"#2a3f5f\",\"gridcolor\":\"white\",\"linecolor\":\"white\",\"minorgridcolor\":\"white\",\"startlinecolor\":\"#2a3f5f\"},\"baxis\":{\"endlinecolor\":\"#2a3f5f\",\"gridcolor\":\"white\",\"linecolor\":\"white\",\"minorgridcolor\":\"white\",\"startlinecolor\":\"#2a3f5f\"},\"type\":\"carpet\"}],\"choropleth\":[{\"colorbar\":{\"outlinewidth\":0,\"ticks\":\"\"},\"type\":\"choropleth\"}],\"contourcarpet\":[{\"colorbar\":{\"outlinewidth\":0,\"ticks\":\"\"},\"type\":\"contourcarpet\"}],\"contour\":[{\"colorbar\":{\"outlinewidth\":0,\"ticks\":\"\"},\"colorscale\":[[0.0,\"#0d0887\"],[0.1111111111111111,\"#46039f\"],[0.2222222222222222,\"#7201a8\"],[0.3333333333333333,\"#9c179e\"],[0.4444444444444444,\"#bd3786\"],[0.5555555555555556,\"#d8576b\"],[0.6666666666666666,\"#ed7953\"],[0.7777777777777778,\"#fb9f3a\"],[0.8888888888888888,\"#fdca26\"],[1.0,\"#f0f921\"]],\"type\":\"contour\"}],\"heatmapgl\":[{\"colorbar\":{\"outlinewidth\":0,\"ticks\":\"\"},\"colorscale\":[[0.0,\"#0d0887\"],[0.1111111111111111,\"#46039f\"],[0.2222222222222222,\"#7201a8\"],[0.3333333333333333,\"#9c179e\"],[0.4444444444444444,\"#bd3786\"],[0.5555555555555556,\"#d8576b\"],[0.6666666666666666,\"#ed7953\"],[0.7777777777777778,\"#fb9f3a\"],[0.8888888888888888,\"#fdca26\"],[1.0,\"#f0f921\"]],\"type\":\"heatmapgl\"}],\"heatmap\":[{\"colorbar\":{\"outlinewidth\":0,\"ticks\":\"\"},\"colorscale\":[[0.0,\"#0d0887\"],[0.1111111111111111,\"#46039f\"],[0.2222222222222222,\"#7201a8\"],[0.3333333333333333,\"#9c179e\"],[0.4444444444444444,\"#bd3786\"],[0.5555555555555556,\"#d8576b\"],[0.6666666666666666,\"#ed7953\"],[0.7777777777777778,\"#fb9f3a\"],[0.8888888888888888,\"#fdca26\"],[1.0,\"#f0f921\"]],\"type\":\"heatmap\"}],\"histogram2dcontour\":[{\"colorbar\":{\"outlinewidth\":0,\"ticks\":\"\"},\"colorscale\":[[0.0,\"#0d0887\"],[0.1111111111111111,\"#46039f\"],[0.2222222222222222,\"#7201a8\"],[0.3333333333333333,\"#9c179e\"],[0.4444444444444444,\"#bd3786\"],[0.5555555555555556,\"#d8576b\"],[0.6666666666666666,\"#ed7953\"],[0.7777777777777778,\"#fb9f3a\"],[0.8888888888888888,\"#fdca26\"],[1.0,\"#f0f921\"]],\"type\":\"histogram2dcontour\"}],\"histogram2d\":[{\"colorbar\":{\"outlinewidth\":0,\"ticks\":\"\"},\"colorscale\":[[0.0,\"#0d0887\"],[0.1111111111111111,\"#46039f\"],[0.2222222222222222,\"#7201a8\"],[0.3333333333333333,\"#9c179e\"],[0.4444444444444444,\"#bd3786\"],[0.5555555555555556,\"#d8576b\"],[0.6666666666666666,\"#ed7953\"],[0.7777777777777778,\"#fb9f3a\"],[0.8888888888888888,\"#fdca26\"],[1.0,\"#f0f921\"]],\"type\":\"histogram2d\"}],\"histogram\":[{\"marker\":{\"pattern\":{\"fillmode\":\"overlay\",\"size\":10,\"solidity\":0.2}},\"type\":\"histogram\"}],\"mesh3d\":[{\"colorbar\":{\"outlinewidth\":0,\"ticks\":\"\"},\"type\":\"mesh3d\"}],\"parcoords\":[{\"line\":{\"colorbar\":{\"outlinewidth\":0,\"ticks\":\"\"}},\"type\":\"parcoords\"}],\"pie\":[{\"automargin\":true,\"type\":\"pie\"}],\"scatter3d\":[{\"line\":{\"colorbar\":{\"outlinewidth\":0,\"ticks\":\"\"}},\"marker\":{\"colorbar\":{\"outlinewidth\":0,\"ticks\":\"\"}},\"type\":\"scatter3d\"}],\"scattercarpet\":[{\"marker\":{\"colorbar\":{\"outlinewidth\":0,\"ticks\":\"\"}},\"type\":\"scattercarpet\"}],\"scattergeo\":[{\"marker\":{\"colorbar\":{\"outlinewidth\":0,\"ticks\":\"\"}},\"type\":\"scattergeo\"}],\"scattergl\":[{\"marker\":{\"colorbar\":{\"outlinewidth\":0,\"ticks\":\"\"}},\"type\":\"scattergl\"}],\"scattermapbox\":[{\"marker\":{\"colorbar\":{\"outlinewidth\":0,\"ticks\":\"\"}},\"type\":\"scattermapbox\"}],\"scatterpolargl\":[{\"marker\":{\"colorbar\":{\"outlinewidth\":0,\"ticks\":\"\"}},\"type\":\"scatterpolargl\"}],\"scatterpolar\":[{\"marker\":{\"colorbar\":{\"outlinewidth\":0,\"ticks\":\"\"}},\"type\":\"scatterpolar\"}],\"scatter\":[{\"fillpattern\":{\"fillmode\":\"overlay\",\"size\":10,\"solidity\":0.2},\"type\":\"scatter\"}],\"scatterternary\":[{\"marker\":{\"colorbar\":{\"outlinewidth\":0,\"ticks\":\"\"}},\"type\":\"scatterternary\"}],\"surface\":[{\"colorbar\":{\"outlinewidth\":0,\"ticks\":\"\"},\"colorscale\":[[0.0,\"#0d0887\"],[0.1111111111111111,\"#46039f\"],[0.2222222222222222,\"#7201a8\"],[0.3333333333333333,\"#9c179e\"],[0.4444444444444444,\"#bd3786\"],[0.5555555555555556,\"#d8576b\"],[0.6666666666666666,\"#ed7953\"],[0.7777777777777778,\"#fb9f3a\"],[0.8888888888888888,\"#fdca26\"],[1.0,\"#f0f921\"]],\"type\":\"surface\"}],\"table\":[{\"cells\":{\"fill\":{\"color\":\"#EBF0F8\"},\"line\":{\"color\":\"white\"}},\"header\":{\"fill\":{\"color\":\"#C8D4E3\"},\"line\":{\"color\":\"white\"}},\"type\":\"table\"}]},\"layout\":{\"annotationdefaults\":{\"arrowcolor\":\"#2a3f5f\",\"arrowhead\":0,\"arrowwidth\":1},\"autotypenumbers\":\"strict\",\"coloraxis\":{\"colorbar\":{\"outlinewidth\":0,\"ticks\":\"\"}},\"colorscale\":{\"diverging\":[[0,\"#8e0152\"],[0.1,\"#c51b7d\"],[0.2,\"#de77ae\"],[0.3,\"#f1b6da\"],[0.4,\"#fde0ef\"],[0.5,\"#f7f7f7\"],[0.6,\"#e6f5d0\"],[0.7,\"#b8e186\"],[0.8,\"#7fbc41\"],[0.9,\"#4d9221\"],[1,\"#276419\"]],\"sequential\":[[0.0,\"#0d0887\"],[0.1111111111111111,\"#46039f\"],[0.2222222222222222,\"#7201a8\"],[0.3333333333333333,\"#9c179e\"],[0.4444444444444444,\"#bd3786\"],[0.5555555555555556,\"#d8576b\"],[0.6666666666666666,\"#ed7953\"],[0.7777777777777778,\"#fb9f3a\"],[0.8888888888888888,\"#fdca26\"],[1.0,\"#f0f921\"]],\"sequentialminus\":[[0.0,\"#0d0887\"],[0.1111111111111111,\"#46039f\"],[0.2222222222222222,\"#7201a8\"],[0.3333333333333333,\"#9c179e\"],[0.4444444444444444,\"#bd3786\"],[0.5555555555555556,\"#d8576b\"],[0.6666666666666666,\"#ed7953\"],[0.7777777777777778,\"#fb9f3a\"],[0.8888888888888888,\"#fdca26\"],[1.0,\"#f0f921\"]]},\"colorway\":[\"#636efa\",\"#EF553B\",\"#00cc96\",\"#ab63fa\",\"#FFA15A\",\"#19d3f3\",\"#FF6692\",\"#B6E880\",\"#FF97FF\",\"#FECB52\"],\"font\":{\"color\":\"#2a3f5f\"},\"geo\":{\"bgcolor\":\"white\",\"lakecolor\":\"white\",\"landcolor\":\"#E5ECF6\",\"showlakes\":true,\"showland\":true,\"subunitcolor\":\"white\"},\"hoverlabel\":{\"align\":\"left\"},\"hovermode\":\"closest\",\"mapbox\":{\"style\":\"light\"},\"paper_bgcolor\":\"white\",\"plot_bgcolor\":\"#E5ECF6\",\"polar\":{\"angularaxis\":{\"gridcolor\":\"white\",\"linecolor\":\"white\",\"ticks\":\"\"},\"bgcolor\":\"#E5ECF6\",\"radialaxis\":{\"gridcolor\":\"white\",\"linecolor\":\"white\",\"ticks\":\"\"}},\"scene\":{\"xaxis\":{\"backgroundcolor\":\"#E5ECF6\",\"gridcolor\":\"white\",\"gridwidth\":2,\"linecolor\":\"white\",\"showbackground\":true,\"ticks\":\"\",\"zerolinecolor\":\"white\"},\"yaxis\":{\"backgroundcolor\":\"#E5ECF6\",\"gridcolor\":\"white\",\"gridwidth\":2,\"linecolor\":\"white\",\"showbackground\":true,\"ticks\":\"\",\"zerolinecolor\":\"white\"},\"zaxis\":{\"backgroundcolor\":\"#E5ECF6\",\"gridcolor\":\"white\",\"gridwidth\":2,\"linecolor\":\"white\",\"showbackground\":true,\"ticks\":\"\",\"zerolinecolor\":\"white\"}},\"shapedefaults\":{\"line\":{\"color\":\"#2a3f5f\"}},\"ternary\":{\"aaxis\":{\"gridcolor\":\"white\",\"linecolor\":\"white\",\"ticks\":\"\"},\"baxis\":{\"gridcolor\":\"white\",\"linecolor\":\"white\",\"ticks\":\"\"},\"bgcolor\":\"#E5ECF6\",\"caxis\":{\"gridcolor\":\"white\",\"linecolor\":\"white\",\"ticks\":\"\"}},\"title\":{\"x\":0.05},\"xaxis\":{\"automargin\":true,\"gridcolor\":\"white\",\"linecolor\":\"white\",\"ticks\":\"\",\"title\":{\"standoff\":15},\"zerolinecolor\":\"white\",\"zerolinewidth\":2},\"yaxis\":{\"automargin\":true,\"gridcolor\":\"white\",\"linecolor\":\"white\",\"ticks\":\"\",\"title\":{\"standoff\":15},\"zerolinecolor\":\"white\",\"zerolinewidth\":2}}},\"title\":{\"font\":{\"color\":\"#000000\",\"size\":12.0},\"text\":\"Songs pr. Genre\",\"x\":0.5},\"width\":720,\"xaxis\":{\"anchor\":\"y\",\"domain\":[0.0,1.0],\"mirror\":\"ticks\",\"nticks\":29,\"range\":[-1.0,29.0],\"showgrid\":false,\"showline\":true,\"side\":\"bottom\",\"tickfont\":{\"size\":10.0},\"tickmode\":\"array\",\"ticks\":\"inside\",\"ticktext\":[\"pop\",\"rock\",\"r&b\",\"rap\",\"country\",\"soul\",\"singer-songwriter\",\"pop-rock\",\"trap\",\"ballad\",\"soul pop\",\"eighties\",\"uk\",\"seventies\",\"adult contemporary\",\"alternative rock\",\"funk\",\"hip-hop\",\"soundtrack\",\"dance-pop\",\"atlanta\",\"synth-pop\",\"canada\",\"dance\",\"electronic\",\"east coast\",\"electro-pop\",\"pop country\",\"motown\"],\"tickvals\":[0,1,2,3,4,5,6,7,8,9,10,11,12,13,14,15,16,17,18,19,20,21,22,23,24,25,26,27,28],\"title\":{\"font\":{\"color\":\"#000000\",\"size\":10.0},\"text\":\"Genre\"},\"type\":\"linear\",\"zeroline\":false},\"yaxis\":{\"anchor\":\"x\",\"domain\":[0.0,1.0],\"mirror\":\"ticks\",\"nticks\":9,\"range\":[0.0,14388.15],\"showgrid\":false,\"showline\":true,\"side\":\"left\",\"tickfont\":{\"size\":10.0},\"ticks\":\"inside\",\"title\":{\"font\":{\"color\":\"#000000\",\"size\":10.0},\"text\":\"Count\"},\"type\":\"linear\",\"zeroline\":false}},                        {\"responsive\": true}                    ).then(function(){\n",
       "                            \n",
       "var gd = document.getElementById('bf5f1907-ac1c-4b6c-8066-4f9faccc7799');\n",
       "var x = new MutationObserver(function (mutations, observer) {{\n",
       "        var display = window.getComputedStyle(gd).display;\n",
       "        if (!display || display === 'none') {{\n",
       "            console.log([gd, 'removed!']);\n",
       "            Plotly.purge(gd);\n",
       "            observer.disconnect();\n",
       "        }}\n",
       "}});\n",
       "\n",
       "// Listen for the removal of the full notebook cells\n",
       "var notebookContainer = gd.closest('#notebook-container');\n",
       "if (notebookContainer) {{\n",
       "    x.observe(notebookContainer, {childList: true});\n",
       "}}\n",
       "\n",
       "// Listen for the clearing of the current output cell\n",
       "var outputEl = gd.closest('.output');\n",
       "if (outputEl) {{\n",
       "    x.observe(outputEl, {childList: true});\n",
       "}}\n",
       "\n",
       "                        })                };                });            </script>        </div>"
      ]
     },
     "metadata": {},
     "output_type": "display_data"
    }
   ],
   "source": [
    "sorted_genres = {k: v for k, v in sorted(genre_count.items(), key=lambda item: item[1], reverse=True) if v > 500}\n",
    "#for k, v in sorted_genres.items():\n",
    "#    print(k + ':', v)\n",
    "\n",
    "fig = plt.figure(figsize=(10,5))\n",
    "plt.bar(*zip(*sorted_genres.items()))\n",
    "plt.xlim(-1, len(sorted_genres.items()))\n",
    "plt.xlabel('Genre')\n",
    "plt.xticks(rotation=90)\n",
    "plt.ylabel('Count')\n",
    "plt.title('Songs pr. Genre')\n",
    "plt.show()\n",
    "\n",
    "plotly_fig = tls.mpl_to_plotly(fig, resize=False)\n",
    "plotly_fig.update_layout(\n",
    "    xaxis = dict(\n",
    "        tickmode = 'array',\n",
    "        tickvals = list(np.arange(len(sorted_genres.keys()))),\n",
    "        ticktext = list(sorted_genres.keys())),\n",
    "    paper_bgcolor='rgba(0,0,0,0)',\n",
    "    plot_bgcolor='rgba(0,0,0,0)',\n",
    "    title_x =0.5,\n",
    "    margin=dict(l=5, r=5, t=20, b=5)\n",
    ")\n",
    "\n",
    "plotly.write_image(plotly_fig, plotly_folder + \"songs_per_genre.json\")\n",
    "iplot(plotly_fig)"
   ]
  },
  {
   "cell_type": "code",
   "execution_count": 60,
   "id": "swedish-venue",
   "metadata": {},
   "outputs": [
    {
     "data": {
      "image/png": "[encoded data removed]",
      "text/plain": [
       "<Figure size 720x360 with 1 Axes>"
      ]
     },
     "metadata": {
      "needs_background": "light"
     },
     "output_type": "display_data"
    },
    {
     "data": {
      "application/vnd.plotly.v1+json": {
       "config": {
        "linkText": "Export to plot.ly",
        "plotlyServerURL": "https://plot.ly",
        "showLink": false
       },
       "data": [
        {
         "marker": {
          "color": "#1F77B4",
          "line": {
           "width": 1
          }
         },
         "opacity": 1,
         "orientation": "v",
         "type": "bar",
         "x": [
          0,
          1,
          2,
          3,
          4,
          5,
          6,
          7,
          8,
          9
         ],
         "xaxis": "x",
         "y": [
          2,
          6,
          85,
          4989,
          4295,
          3768,
          3069,
          3358,
          4437,
          1405
         ],
         "yaxis": "y"
        }
       ],
       "layout": {
        "autosize": false,
        "bargap": 0.19999999999999996,
        "height": 360,
        "hovermode": "closest",
        "margin": {
         "b": 5,
         "l": 5,
         "pad": 0,
         "r": 5,
         "t": 20
        },
        "paper_bgcolor": "rgba(0,0,0,0)",
        "plot_bgcolor": "rgba(0,0,0,0)",
        "showlegend": false,
        "template": {
         "data": {
          "bar": [
           {
            "error_x": {
             "color": "#2a3f5f"
            },
            "error_y": {
             "color": "#2a3f5f"
            },
            "marker": {
             "line": {
              "color": "#E5ECF6",
              "width": 0.5
             },
             "pattern": {
              "fillmode": "overlay",
              "size": 10,
              "solidity": 0.2
             }
            },
            "type": "bar"
           }
          ],
          "barpolar": [
           {
            "marker": {
             "line": {
              "color": "#E5ECF6",
              "width": 0.5
             },
             "pattern": {
              "fillmode": "overlay",
              "size": 10,
              "solidity": 0.2
             }
            },
            "type": "barpolar"
           }
          ],
          "carpet": [
           {
            "aaxis": {
             "endlinecolor": "#2a3f5f",
             "gridcolor": "white",
             "linecolor": "white",
             "minorgridcolor": "white",
             "startlinecolor": "#2a3f5f"
            },
            "baxis": {
             "endlinecolor": "#2a3f5f",
             "gridcolor": "white",
             "linecolor": "white",
             "minorgridcolor": "white",
             "startlinecolor": "#2a3f5f"
            },
            "type": "carpet"
           }
          ],
          "choropleth": [
           {
            "colorbar": {
             "outlinewidth": 0,
             "ticks": ""
            },
            "type": "choropleth"
           }
          ],
          "contour": [
           {
            "colorbar": {
             "outlinewidth": 0,
             "ticks": ""
            },
            "colorscale": [
             [
              0,
              "#0d0887"
             ],
             [
              0.1111111111111111,
              "#46039f"
             ],
             [
              0.2222222222222222,
              "#7201a8"
             ],
             [
              0.3333333333333333,
              "#9c179e"
             ],
             [
              0.4444444444444444,
              "#bd3786"
             ],
             [
              0.5555555555555556,
              "#d8576b"
             ],
             [
              0.6666666666666666,
              "#ed7953"
             ],
             [
              0.7777777777777778,
              "#fb9f3a"
             ],
             [
              0.8888888888888888,
              "#fdca26"
             ],
             [
              1,
              "#f0f921"
             ]
            ],
            "type": "contour"
           }
          ],
          "contourcarpet": [
           {
            "colorbar": {
             "outlinewidth": 0,
             "ticks": ""
            },
            "type": "contourcarpet"
           }
          ],
          "heatmap": [
           {
            "colorbar": {
             "outlinewidth": 0,
             "ticks": ""
            },
            "colorscale": [
             [
              0,
              "#0d0887"
             ],
             [
              0.1111111111111111,
              "#46039f"
             ],
             [
              0.2222222222222222,
              "#7201a8"
             ],
             [
              0.3333333333333333,
              "#9c179e"
             ],
             [
              0.4444444444444444,
              "#bd3786"
             ],
             [
              0.5555555555555556,
              "#d8576b"
             ],
             [
              0.6666666666666666,
              "#ed7953"
             ],
             [
              0.7777777777777778,
              "#fb9f3a"
             ],
             [
              0.8888888888888888,
              "#fdca26"
             ],
             [
              1,
              "#f0f921"
             ]
            ],
            "type": "heatmap"
           }
          ],
          "heatmapgl": [
           {
            "colorbar": {
             "outlinewidth": 0,
             "ticks": ""
            },
            "colorscale": [
             [
              0,
              "#0d0887"
             ],
             [
              0.1111111111111111,
              "#46039f"
             ],
             [
              0.2222222222222222,
              "#7201a8"
             ],
             [
              0.3333333333333333,
              "#9c179e"
             ],
             [
              0.4444444444444444,
              "#bd3786"
             ],
             [
              0.5555555555555556,
              "#d8576b"
             ],
             [
              0.6666666666666666,
              "#ed7953"
             ],
             [
              0.7777777777777778,
              "#fb9f3a"
             ],
             [
              0.8888888888888888,
              "#fdca26"
             ],
             [
              1,
              "#f0f921"
             ]
            ],
            "type": "heatmapgl"
           }
          ],
          "histogram": [
           {
            "marker": {
             "pattern": {
              "fillmode": "overlay",
              "size": 10,
              "solidity": 0.2
             }
            },
            "type": "histogram"
           }
          ],
          "histogram2d": [
           {
            "colorbar": {
             "outlinewidth": 0,
             "ticks": ""
            },
            "colorscale": [
             [
              0,
              "#0d0887"
             ],
             [
              0.1111111111111111,
              "#46039f"
             ],
             [
              0.2222222222222222,
              "#7201a8"
             ],
             [
              0.3333333333333333,
              "#9c179e"
             ],
             [
              0.4444444444444444,
              "#bd3786"
             ],
             [
              0.5555555555555556,
              "#d8576b"
             ],
             [
              0.6666666666666666,
              "#ed7953"
             ],
             [
              0.7777777777777778,
              "#fb9f3a"
             ],
             [
              0.8888888888888888,
              "#fdca26"
             ],
             [
              1,
              "#f0f921"
             ]
            ],
            "type": "histogram2d"
           }
          ],
          "histogram2dcontour": [
           {
            "colorbar": {
             "outlinewidth": 0,
             "ticks": ""
            },
            "colorscale": [
             [
              0,
              "#0d0887"
             ],
             [
              0.1111111111111111,
              "#46039f"
             ],
             [
              0.2222222222222222,
              "#7201a8"
             ],
             [
              0.3333333333333333,
              "#9c179e"
             ],
             [
              0.4444444444444444,
              "#bd3786"
             ],
             [
              0.5555555555555556,
              "#d8576b"
             ],
             [
              0.6666666666666666,
              "#ed7953"
             ],
             [
              0.7777777777777778,
              "#fb9f3a"
             ],
             [
              0.8888888888888888,
              "#fdca26"
             ],
             [
              1,
              "#f0f921"
             ]
            ],
            "type": "histogram2dcontour"
           }
          ],
          "mesh3d": [
           {
            "colorbar": {
             "outlinewidth": 0,
             "ticks": ""
            },
            "type": "mesh3d"
           }
          ],
          "parcoords": [
           {
            "line": {
             "colorbar": {
              "outlinewidth": 0,
              "ticks": ""
             }
            },
            "type": "parcoords"
           }
          ],
          "pie": [
           {
            "automargin": true,
            "type": "pie"
           }
          ],
          "scatter": [
           {
            "fillpattern": {
             "fillmode": "overlay",
             "size": 10,
             "solidity": 0.2
            },
            "type": "scatter"
           }
          ],
          "scatter3d": [
           {
            "line": {
             "colorbar": {
              "outlinewidth": 0,
              "ticks": ""
             }
            },
            "marker": {
             "colorbar": {
              "outlinewidth": 0,
              "ticks": ""
             }
            },
            "type": "scatter3d"
           }
          ],
          "scattercarpet": [
           {
            "marker": {
             "colorbar": {
              "outlinewidth": 0,
              "ticks": ""
             }
            },
            "type": "scattercarpet"
           }
          ],
          "scattergeo": [
           {
            "marker": {
             "colorbar": {
              "outlinewidth": 0,
              "ticks": ""
             }
            },
            "type": "scattergeo"
           }
          ],
          "scattergl": [
           {
            "marker": {
             "colorbar": {
              "outlinewidth": 0,
              "ticks": ""
             }
            },
            "type": "scattergl"
           }
          ],
          "scattermapbox": [
           {
            "marker": {
             "colorbar": {
              "outlinewidth": 0,
              "ticks": ""
             }
            },
            "type": "scattermapbox"
           }
          ],
          "scatterpolar": [
           {
            "marker": {
             "colorbar": {
              "outlinewidth": 0,
              "ticks": ""
             }
            },
            "type": "scatterpolar"
           }
          ],
          "scatterpolargl": [
           {
            "marker": {
             "colorbar": {
              "outlinewidth": 0,
              "ticks": ""
             }
            },
            "type": "scatterpolargl"
           }
          ],
          "scatterternary": [
           {
            "marker": {
             "colorbar": {
              "outlinewidth": 0,
              "ticks": ""
             }
            },
            "type": "scatterternary"
           }
          ],
          "surface": [
           {
            "colorbar": {
             "outlinewidth": 0,
             "ticks": ""
            },
            "colorscale": [
             [
              0,
              "#0d0887"
             ],
             [
              0.1111111111111111,
              "#46039f"
             ],
             [
              0.2222222222222222,
              "#7201a8"
             ],
             [
              0.3333333333333333,
              "#9c179e"
             ],
             [
              0.4444444444444444,
              "#bd3786"
             ],
             [
              0.5555555555555556,
              "#d8576b"
             ],
             [
              0.6666666666666666,
              "#ed7953"
             ],
             [
              0.7777777777777778,
              "#fb9f3a"
             ],
             [
              0.8888888888888888,
              "#fdca26"
             ],
             [
              1,
              "#f0f921"
             ]
            ],
            "type": "surface"
           }
          ],
          "table": [
           {
            "cells": {
             "fill": {
              "color": "#EBF0F8"
             },
             "line": {
              "color": "white"
             }
            },
            "header": {
             "fill": {
              "color": "#C8D4E3"
             },
             "line": {
              "color": "white"
             }
            },
            "type": "table"
           }
          ]
         },
         "layout": {
          "annotationdefaults": {
           "arrowcolor": "#2a3f5f",
           "arrowhead": 0,
           "arrowwidth": 1
          },
          "autotypenumbers": "strict",
          "coloraxis": {
           "colorbar": {
            "outlinewidth": 0,
            "ticks": ""
           }
          },
          "colorscale": {
           "diverging": [
            [
             0,
             "#8e0152"
            ],
            [
             0.1,
             "#c51b7d"
            ],
            [
             0.2,
             "#de77ae"
            ],
            [
             0.3,
             "#f1b6da"
            ],
            [
             0.4,
             "#fde0ef"
            ],
            [
             0.5,
             "#f7f7f7"
            ],
            [
             0.6,
             "#e6f5d0"
            ],
            [
             0.7,
             "#b8e186"
            ],
            [
             0.8,
             "#7fbc41"
            ],
            [
             0.9,
             "#4d9221"
            ],
            [
             1,
             "#276419"
            ]
           ],
           "sequential": [
            [
             0,
             "#0d0887"
            ],
            [
             0.1111111111111111,
             "#46039f"
            ],
            [
             0.2222222222222222,
             "#7201a8"
            ],
            [
             0.3333333333333333,
             "#9c179e"
            ],
            [
             0.4444444444444444,
             "#bd3786"
            ],
            [
             0.5555555555555556,
             "#d8576b"
            ],
            [
             0.6666666666666666,
             "#ed7953"
            ],
            [
             0.7777777777777778,
             "#fb9f3a"
            ],
            [
             0.8888888888888888,
             "#fdca26"
            ],
            [
             1,
             "#f0f921"
            ]
           ],
           "sequentialminus": [
            [
             0,
             "#0d0887"
            ],
            [
             0.1111111111111111,
             "#46039f"
            ],
            [
             0.2222222222222222,
             "#7201a8"
            ],
            [
             0.3333333333333333,
             "#9c179e"
            ],
            [
             0.4444444444444444,
             "#bd3786"
            ],
            [
             0.5555555555555556,
             "#d8576b"
            ],
            [
             0.6666666666666666,
             "#ed7953"
            ],
            [
             0.7777777777777778,
             "#fb9f3a"
            ],
            [
             0.8888888888888888,
             "#fdca26"
            ],
            [
             1,
             "#f0f921"
            ]
           ]
          },
          "colorway": [
           "#636efa",
           "#EF553B",
           "#00cc96",
           "#ab63fa",
           "#FFA15A",
           "#19d3f3",
           "#FF6692",
           "#B6E880",
           "#FF97FF",
           "#FECB52"
          ],
          "font": {
           "color": "#2a3f5f"
          },
          "geo": {
           "bgcolor": "white",
           "lakecolor": "white",
           "landcolor": "#E5ECF6",
           "showlakes": true,
           "showland": true,
           "subunitcolor": "white"
          },
          "hoverlabel": {
           "align": "left"
          },
          "hovermode": "closest",
          "mapbox": {
           "style": "light"
          },
          "paper_bgcolor": "white",
          "plot_bgcolor": "#E5ECF6",
          "polar": {
           "angularaxis": {
            "gridcolor": "white",
            "linecolor": "white",
            "ticks": ""
           },
           "bgcolor": "#E5ECF6",
           "radialaxis": {
            "gridcolor": "white",
            "linecolor": "white",
            "ticks": ""
           }
          },
          "scene": {
           "xaxis": {
            "backgroundcolor": "#E5ECF6",
            "gridcolor": "white",
            "gridwidth": 2,
            "linecolor": "white",
            "showbackground": true,
            "ticks": "",
            "zerolinecolor": "white"
           },
           "yaxis": {
            "backgroundcolor": "#E5ECF6",
            "gridcolor": "white",
            "gridwidth": 2,
            "linecolor": "white",
            "showbackground": true,
            "ticks": "",
            "zerolinecolor": "white"
           },
           "zaxis": {
            "backgroundcolor": "#E5ECF6",
            "gridcolor": "white",
            "gridwidth": 2,
            "linecolor": "white",
            "showbackground": true,
            "ticks": "",
            "zerolinecolor": "white"
           }
          },
          "shapedefaults": {
           "line": {
            "color": "#2a3f5f"
           }
          },
          "ternary": {
           "aaxis": {
            "gridcolor": "white",
            "linecolor": "white",
            "ticks": ""
           },
           "baxis": {
            "gridcolor": "white",
            "linecolor": "white",
            "ticks": ""
           },
           "bgcolor": "#E5ECF6",
           "caxis": {
            "gridcolor": "white",
            "linecolor": "white",
            "ticks": ""
           }
          },
          "title": {
           "x": 0.05
          },
          "xaxis": {
           "automargin": true,
           "gridcolor": "white",
           "linecolor": "white",
           "ticks": "",
           "title": {
            "standoff": 15
           },
           "zerolinecolor": "white",
           "zerolinewidth": 2
          },
          "yaxis": {
           "automargin": true,
           "gridcolor": "white",
           "linecolor": "white",
           "ticks": "",
           "title": {
            "standoff": 15
           },
           "zerolinecolor": "white",
           "zerolinewidth": 2
          }
         }
        },
        "title": {
         "font": {
          "color": "#000000",
          "size": 12
         },
         "text": "Songs pr. Decade",
         "x": 0.5
        },
        "width": 720,
        "xaxis": {
         "anchor": "y",
         "domain": [
          0,
          1
         ],
         "mirror": "ticks",
         "nticks": 10,
         "range": [
          -0.8900000000000001,
          9.89
         ],
         "showgrid": false,
         "showline": true,
         "side": "bottom",
         "tickfont": {
          "size": 10
         },
         "tickmode": "array",
         "ticks": "inside",
         "ticktext": [
          "1920",
          "1940",
          "1950",
          "1960",
          "1970",
          "1980",
          "1990",
          "2000",
          "2010",
          "2020"
         ],
         "tickvals": [
          0,
          1,
          2,
          3,
          4,
          5,
          6,
          7,
          8,
          9
         ],
         "title": {
          "font": {
           "color": "#000000",
           "size": 10
          },
          "text": "Decade"
         },
         "type": "linear",
         "zeroline": false
        },
        "yaxis": {
         "anchor": "x",
         "domain": [
          0,
          1
         ],
         "mirror": "ticks",
         "nticks": 7,
         "range": [
          0,
          5238.45
         ],
         "showgrid": false,
         "showline": true,
         "side": "left",
         "tickfont": {
          "size": 10
         },
         "ticks": "inside",
         "title": {
          "font": {
           "color": "#000000",
           "size": 10
          },
          "text": "Count"
         },
         "type": "linear",
         "zeroline": false
        }
       }
      },
      "text/html": [
       "<div>                            <div id=\"cc823bf0-b8e9-4b43-b5a5-4e77a2e17c5c\" class=\"plotly-graph-div\" style=\"height:360px; width:720px;\"></div>            <script type=\"text/javascript\">                require([\"plotly\"], function(Plotly) {                    window.PLOTLYENV=window.PLOTLYENV || {};                                    if (document.getElementById(\"cc823bf0-b8e9-4b43-b5a5-4e77a2e17c5c\")) {                    Plotly.newPlot(                        \"cc823bf0-b8e9-4b43-b5a5-4e77a2e17c5c\",                        [{\"marker\":{\"color\":\"#1F77B4\",\"line\":{\"width\":1.0}},\"opacity\":1,\"orientation\":\"v\",\"x\":[0.0,1.0,2.0,3.0,4.0,5.0,6.0,7.0,8.0,9.0],\"xaxis\":\"x\",\"y\":[2.0,6.0,85.0,4989.0,4295.0,3768.0,3069.0,3358.0,4437.0,1405.0],\"yaxis\":\"y\",\"type\":\"bar\"}],                        {\"autosize\":false,\"bargap\":0.19999999999999996,\"height\":360,\"hovermode\":\"closest\",\"margin\":{\"b\":5,\"l\":5,\"pad\":0,\"r\":5,\"t\":20},\"paper_bgcolor\":\"rgba(0,0,0,0)\",\"plot_bgcolor\":\"rgba(0,0,0,0)\",\"showlegend\":false,\"template\":{\"data\":{\"barpolar\":[{\"marker\":{\"line\":{\"color\":\"#E5ECF6\",\"width\":0.5},\"pattern\":{\"fillmode\":\"overlay\",\"size\":10,\"solidity\":0.2}},\"type\":\"barpolar\"}],\"bar\":[{\"error_x\":{\"color\":\"#2a3f5f\"},\"error_y\":{\"color\":\"#2a3f5f\"},\"marker\":{\"line\":{\"color\":\"#E5ECF6\",\"width\":0.5},\"pattern\":{\"fillmode\":\"overlay\",\"size\":10,\"solidity\":0.2}},\"type\":\"bar\"}],\"carpet\":[{\"aaxis\":{\"endlinecolor\":\"#2a3f5f\",\"gridcolor\":\"white\",\"linecolor\":\"white\",\"minorgridcolor\":\"white\",\"startlinecolor\":\"#2a3f5f\"},\"baxis\":{\"endlinecolor\":\"#2a3f5f\",\"gridcolor\":\"white\",\"linecolor\":\"white\",\"minorgridcolor\":\"white\",\"startlinecolor\":\"#2a3f5f\"},\"type\":\"carpet\"}],\"choropleth\":[{\"colorbar\":{\"outlinewidth\":0,\"ticks\":\"\"},\"type\":\"choropleth\"}],\"contourcarpet\":[{\"colorbar\":{\"outlinewidth\":0,\"ticks\":\"\"},\"type\":\"contourcarpet\"}],\"contour\":[{\"colorbar\":{\"outlinewidth\":0,\"ticks\":\"\"},\"colorscale\":[[0.0,\"#0d0887\"],[0.1111111111111111,\"#46039f\"],[0.2222222222222222,\"#7201a8\"],[0.3333333333333333,\"#9c179e\"],[0.4444444444444444,\"#bd3786\"],[0.5555555555555556,\"#d8576b\"],[0.6666666666666666,\"#ed7953\"],[0.7777777777777778,\"#fb9f3a\"],[0.8888888888888888,\"#fdca26\"],[1.0,\"#f0f921\"]],\"type\":\"contour\"}],\"heatmapgl\":[{\"colorbar\":{\"outlinewidth\":0,\"ticks\":\"\"},\"colorscale\":[[0.0,\"#0d0887\"],[0.1111111111111111,\"#46039f\"],[0.2222222222222222,\"#7201a8\"],[0.3333333333333333,\"#9c179e\"],[0.4444444444444444,\"#bd3786\"],[0.5555555555555556,\"#d8576b\"],[0.6666666666666666,\"#ed7953\"],[0.7777777777777778,\"#fb9f3a\"],[0.8888888888888888,\"#fdca26\"],[1.0,\"#f0f921\"]],\"type\":\"heatmapgl\"}],\"heatmap\":[{\"colorbar\":{\"outlinewidth\":0,\"ticks\":\"\"},\"colorscale\":[[0.0,\"#0d0887\"],[0.1111111111111111,\"#46039f\"],[0.2222222222222222,\"#7201a8\"],[0.3333333333333333,\"#9c179e\"],[0.4444444444444444,\"#bd3786\"],[0.5555555555555556,\"#d8576b\"],[0.6666666666666666,\"#ed7953\"],[0.7777777777777778,\"#fb9f3a\"],[0.8888888888888888,\"#fdca26\"],[1.0,\"#f0f921\"]],\"type\":\"heatmap\"}],\"histogram2dcontour\":[{\"colorbar\":{\"outlinewidth\":0,\"ticks\":\"\"},\"colorscale\":[[0.0,\"#0d0887\"],[0.1111111111111111,\"#46039f\"],[0.2222222222222222,\"#7201a8\"],[0.3333333333333333,\"#9c179e\"],[0.4444444444444444,\"#bd3786\"],[0.5555555555555556,\"#d8576b\"],[0.6666666666666666,\"#ed7953\"],[0.7777777777777778,\"#fb9f3a\"],[0.8888888888888888,\"#fdca26\"],[1.0,\"#f0f921\"]],\"type\":\"histogram2dcontour\"}],\"histogram2d\":[{\"colorbar\":{\"outlinewidth\":0,\"ticks\":\"\"},\"colorscale\":[[0.0,\"#0d0887\"],[0.1111111111111111,\"#46039f\"],[0.2222222222222222,\"#7201a8\"],[0.3333333333333333,\"#9c179e\"],[0.4444444444444444,\"#bd3786\"],[0.5555555555555556,\"#d8576b\"],[0.6666666666666666,\"#ed7953\"],[0.7777777777777778,\"#fb9f3a\"],[0.8888888888888888,\"#fdca26\"],[1.0,\"#f0f921\"]],\"type\":\"histogram2d\"}],\"histogram\":[{\"marker\":{\"pattern\":{\"fillmode\":\"overlay\",\"size\":10,\"solidity\":0.2}},\"type\":\"histogram\"}],\"mesh3d\":[{\"colorbar\":{\"outlinewidth\":0,\"ticks\":\"\"},\"type\":\"mesh3d\"}],\"parcoords\":[{\"line\":{\"colorbar\":{\"outlinewidth\":0,\"ticks\":\"\"}},\"type\":\"parcoords\"}],\"pie\":[{\"automargin\":true,\"type\":\"pie\"}],\"scatter3d\":[{\"line\":{\"colorbar\":{\"outlinewidth\":0,\"ticks\":\"\"}},\"marker\":{\"colorbar\":{\"outlinewidth\":0,\"ticks\":\"\"}},\"type\":\"scatter3d\"}],\"scattercarpet\":[{\"marker\":{\"colorbar\":{\"outlinewidth\":0,\"ticks\":\"\"}},\"type\":\"scattercarpet\"}],\"scattergeo\":[{\"marker\":{\"colorbar\":{\"outlinewidth\":0,\"ticks\":\"\"}},\"type\":\"scattergeo\"}],\"scattergl\":[{\"marker\":{\"colorbar\":{\"outlinewidth\":0,\"ticks\":\"\"}},\"type\":\"scattergl\"}],\"scattermapbox\":[{\"marker\":{\"colorbar\":{\"outlinewidth\":0,\"ticks\":\"\"}},\"type\":\"scattermapbox\"}],\"scatterpolargl\":[{\"marker\":{\"colorbar\":{\"outlinewidth\":0,\"ticks\":\"\"}},\"type\":\"scatterpolargl\"}],\"scatterpolar\":[{\"marker\":{\"colorbar\":{\"outlinewidth\":0,\"ticks\":\"\"}},\"type\":\"scatterpolar\"}],\"scatter\":[{\"fillpattern\":{\"fillmode\":\"overlay\",\"size\":10,\"solidity\":0.2},\"type\":\"scatter\"}],\"scatterternary\":[{\"marker\":{\"colorbar\":{\"outlinewidth\":0,\"ticks\":\"\"}},\"type\":\"scatterternary\"}],\"surface\":[{\"colorbar\":{\"outlinewidth\":0,\"ticks\":\"\"},\"colorscale\":[[0.0,\"#0d0887\"],[0.1111111111111111,\"#46039f\"],[0.2222222222222222,\"#7201a8\"],[0.3333333333333333,\"#9c179e\"],[0.4444444444444444,\"#bd3786\"],[0.5555555555555556,\"#d8576b\"],[0.6666666666666666,\"#ed7953\"],[0.7777777777777778,\"#fb9f3a\"],[0.8888888888888888,\"#fdca26\"],[1.0,\"#f0f921\"]],\"type\":\"surface\"}],\"table\":[{\"cells\":{\"fill\":{\"color\":\"#EBF0F8\"},\"line\":{\"color\":\"white\"}},\"header\":{\"fill\":{\"color\":\"#C8D4E3\"},\"line\":{\"color\":\"white\"}},\"type\":\"table\"}]},\"layout\":{\"annotationdefaults\":{\"arrowcolor\":\"#2a3f5f\",\"arrowhead\":0,\"arrowwidth\":1},\"autotypenumbers\":\"strict\",\"coloraxis\":{\"colorbar\":{\"outlinewidth\":0,\"ticks\":\"\"}},\"colorscale\":{\"diverging\":[[0,\"#8e0152\"],[0.1,\"#c51b7d\"],[0.2,\"#de77ae\"],[0.3,\"#f1b6da\"],[0.4,\"#fde0ef\"],[0.5,\"#f7f7f7\"],[0.6,\"#e6f5d0\"],[0.7,\"#b8e186\"],[0.8,\"#7fbc41\"],[0.9,\"#4d9221\"],[1,\"#276419\"]],\"sequential\":[[0.0,\"#0d0887\"],[0.1111111111111111,\"#46039f\"],[0.2222222222222222,\"#7201a8\"],[0.3333333333333333,\"#9c179e\"],[0.4444444444444444,\"#bd3786\"],[0.5555555555555556,\"#d8576b\"],[0.6666666666666666,\"#ed7953\"],[0.7777777777777778,\"#fb9f3a\"],[0.8888888888888888,\"#fdca26\"],[1.0,\"#f0f921\"]],\"sequentialminus\":[[0.0,\"#0d0887\"],[0.1111111111111111,\"#46039f\"],[0.2222222222222222,\"#7201a8\"],[0.3333333333333333,\"#9c179e\"],[0.4444444444444444,\"#bd3786\"],[0.5555555555555556,\"#d8576b\"],[0.6666666666666666,\"#ed7953\"],[0.7777777777777778,\"#fb9f3a\"],[0.8888888888888888,\"#fdca26\"],[1.0,\"#f0f921\"]]},\"colorway\":[\"#636efa\",\"#EF553B\",\"#00cc96\",\"#ab63fa\",\"#FFA15A\",\"#19d3f3\",\"#FF6692\",\"#B6E880\",\"#FF97FF\",\"#FECB52\"],\"font\":{\"color\":\"#2a3f5f\"},\"geo\":{\"bgcolor\":\"white\",\"lakecolor\":\"white\",\"landcolor\":\"#E5ECF6\",\"showlakes\":true,\"showland\":true,\"subunitcolor\":\"white\"},\"hoverlabel\":{\"align\":\"left\"},\"hovermode\":\"closest\",\"mapbox\":{\"style\":\"light\"},\"paper_bgcolor\":\"white\",\"plot_bgcolor\":\"#E5ECF6\",\"polar\":{\"angularaxis\":{\"gridcolor\":\"white\",\"linecolor\":\"white\",\"ticks\":\"\"},\"bgcolor\":\"#E5ECF6\",\"radialaxis\":{\"gridcolor\":\"white\",\"linecolor\":\"white\",\"ticks\":\"\"}},\"scene\":{\"xaxis\":{\"backgroundcolor\":\"#E5ECF6\",\"gridcolor\":\"white\",\"gridwidth\":2,\"linecolor\":\"white\",\"showbackground\":true,\"ticks\":\"\",\"zerolinecolor\":\"white\"},\"yaxis\":{\"backgroundcolor\":\"#E5ECF6\",\"gridcolor\":\"white\",\"gridwidth\":2,\"linecolor\":\"white\",\"showbackground\":true,\"ticks\":\"\",\"zerolinecolor\":\"white\"},\"zaxis\":{\"backgroundcolor\":\"#E5ECF6\",\"gridcolor\":\"white\",\"gridwidth\":2,\"linecolor\":\"white\",\"showbackground\":true,\"ticks\":\"\",\"zerolinecolor\":\"white\"}},\"shapedefaults\":{\"line\":{\"color\":\"#2a3f5f\"}},\"ternary\":{\"aaxis\":{\"gridcolor\":\"white\",\"linecolor\":\"white\",\"ticks\":\"\"},\"baxis\":{\"gridcolor\":\"white\",\"linecolor\":\"white\",\"ticks\":\"\"},\"bgcolor\":\"#E5ECF6\",\"caxis\":{\"gridcolor\":\"white\",\"linecolor\":\"white\",\"ticks\":\"\"}},\"title\":{\"x\":0.05},\"xaxis\":{\"automargin\":true,\"gridcolor\":\"white\",\"linecolor\":\"white\",\"ticks\":\"\",\"title\":{\"standoff\":15},\"zerolinecolor\":\"white\",\"zerolinewidth\":2},\"yaxis\":{\"automargin\":true,\"gridcolor\":\"white\",\"linecolor\":\"white\",\"ticks\":\"\",\"title\":{\"standoff\":15},\"zerolinecolor\":\"white\",\"zerolinewidth\":2}}},\"title\":{\"font\":{\"color\":\"#000000\",\"size\":12.0},\"text\":\"Songs pr. Decade\",\"x\":0.5},\"width\":720,\"xaxis\":{\"anchor\":\"y\",\"domain\":[0.0,1.0],\"mirror\":\"ticks\",\"nticks\":10,\"range\":[-0.8900000000000001,9.89],\"showgrid\":false,\"showline\":true,\"side\":\"bottom\",\"tickfont\":{\"size\":10.0},\"tickmode\":\"array\",\"ticks\":\"inside\",\"ticktext\":[\"1920\",\"1940\",\"1950\",\"1960\",\"1970\",\"1980\",\"1990\",\"2000\",\"2010\",\"2020\"],\"tickvals\":[0,1,2,3,4,5,6,7,8,9],\"title\":{\"font\":{\"color\":\"#000000\",\"size\":10.0},\"text\":\"Decade\"},\"type\":\"linear\",\"zeroline\":false},\"yaxis\":{\"anchor\":\"x\",\"domain\":[0.0,1.0],\"mirror\":\"ticks\",\"nticks\":7,\"range\":[0.0,5238.45],\"showgrid\":false,\"showline\":true,\"side\":\"left\",\"tickfont\":{\"size\":10.0},\"ticks\":\"inside\",\"title\":{\"font\":{\"color\":\"#000000\",\"size\":10.0},\"text\":\"Count\"},\"type\":\"linear\",\"zeroline\":false}},                        {\"responsive\": true}                    ).then(function(){\n",
       "                            \n",
       "var gd = document.getElementById('cc823bf0-b8e9-4b43-b5a5-4e77a2e17c5c');\n",
       "var x = new MutationObserver(function (mutations, observer) {{\n",
       "        var display = window.getComputedStyle(gd).display;\n",
       "        if (!display || display === 'none') {{\n",
       "            console.log([gd, 'removed!']);\n",
       "            Plotly.purge(gd);\n",
       "            observer.disconnect();\n",
       "        }}\n",
       "}});\n",
       "\n",
       "// Listen for the removal of the full notebook cells\n",
       "var notebookContainer = gd.closest('#notebook-container');\n",
       "if (notebookContainer) {{\n",
       "    x.observe(notebookContainer, {childList: true});\n",
       "}}\n",
       "\n",
       "// Listen for the clearing of the current output cell\n",
       "var outputEl = gd.closest('.output');\n",
       "if (outputEl) {{\n",
       "    x.observe(outputEl, {childList: true});\n",
       "}}\n",
       "\n",
       "                        })                };                });            </script>        </div>"
      ]
     },
     "metadata": {},
     "output_type": "display_data"
    }
   ],
   "source": [
    "decade_count = defaultdict(lambda: 0)\n",
    "for date in song_data.released:\n",
    "    year = (int(date[:4]) // 10) * 10\n",
    "    decade_count[str(year)] += 1\n",
    "\n",
    "decade_count = {k: v for k, v in sorted(decade_count.items(), key=lambda item: int(item[0])) if v > 1}\n",
    "\n",
    "fig = plt.figure(figsize=(10,5))\n",
    "plt.bar(*zip(*decade_count.items()))\n",
    "plt.xlabel('Decade')\n",
    "plt.ylabel('Count')\n",
    "plt.title('Songs pr. Decade')\n",
    "plt.show()\n",
    "\n",
    "plotly_fig = tls.mpl_to_plotly(fig, resize=False)\n",
    "plotly_fig.update_layout(\n",
    "    xaxis = dict(\n",
    "        tickmode = 'array',\n",
    "        tickvals = list(np.arange(len(decade_count.keys()))),\n",
    "        ticktext = list(decade_count.keys())),\n",
    "    paper_bgcolor='rgba(0,0,0,0)',\n",
    "    plot_bgcolor='rgba(0,0,0,0)',\n",
    "    title_x =0.5,\n",
    "    margin=dict(l=5, r=5, t=20, b=5)\n",
    ")\n",
    "\n",
    "plotly.write_image(plotly_fig, plotly_folder + \"songs_per_decade.json\")\n",
    "iplot(plotly_fig)"
   ]
  },
  {
   "cell_type": "markdown",
   "id": "variable-programming",
   "metadata": {},
   "source": [
    "### Characteristics of the data\n",
    "The data has now been gathered and thoroughly cleaned, but before we are ready to apply our network science and text analysing techniques to it, we will first look at [_the ten characteristics of Big Data_](https://www.bitbybitbook.com/en/1st-ed/observing-behavior/characteristics/):\n",
    "\n",
    "> ### Big\n",
    "\n",
    "As mentioned previously, the data set comprises 25,419 songs and 7,855 unique artists, but in addition, the lyric corpus has a total size of 8,476,446 with 74,915 unique tokens. With this type of information, a data set of this size would be tough to come by other than scraping the internet.\n",
    "\n",
    "\n",
    "> ### Always-on\n",
    "\n",
    "Billboard updates their 'The Hot 100' chart each week, which means the list has been updated since we first collected the data. Because it updates each week, the data set can be updated 52 times a year, which makes the data longitudinal, but since it updates only 52 times a year and not constantly like, e.g. Twitter, it is not entirely _always-on_.\n",
    "\n",
    "> ### Non-reactive\n",
    "\n",
    "Reactivity describes whether subjects know researchers are observing them because that might change the subjects' behaviour. All musical artists are most likely aware that they are present on the chart and might follow their ranking closely, but the question is how much they change their behaviour and musical style to get a higher ranking on the chart. One could speculate that some artists might change their use of words and language to appeal to a broader audience to perform better on the chart, while others follow their musical heart. Though, with this being said, we do not believe that the fact that researchers might also be looking at the chart with the intent to do network science and text analysis will change the behaviour of the artists.\n",
    "\n",
    "> ### Incomplete\n",
    "\n",
    "Completeness express if the data set manages to capture the entire unfolding of a specific event or, e.g., the entire network of a specific group. In the case of this project, we are attempting to analyse the network and text of the most popular artists and songs through modern time. With this in mind, we believe that using Billboard's 'The Hot 100' chart gives a good indication of the most popular artists and songs, though arguments could be made for the case that the chart might be skewed towards music popular in the states.\n",
    "\n",
    "\n",
    "> ### Inaccessable\n",
    "\n",
    "The data used in this project is very much accessible. As was accounted for earlier on this page, everything has been downloaded freely off the internet via different APIs.\n",
    "\n",
    "> ### Nonrepresentative\n",
    "\n",
    "Representativity denotes whether the data can generalise to, e.g., social phenomena more in general - out-of-sample generalisation. To this end, being a musician is quite a unique occupation when it comes to a social network of collaboration, in comparison to, e.g. a profession like acting. One could presume the typical actor is more connected than the typical musician since many actors are associated with a movie or tv-show, while often not many musicians are working on a song. At least not many musicians are seen shown as the artists on a given song, while many people might have worked on it during the songwriting and musical production.\n",
    "Additionally, since our data set only contains songs in English from a popular music chart in the west, the data might not be suited for generalisation of the network, or text, for musicians from other parts of the planet. With this being said, the data set is probably still perfectly applicable for within-sample comparisons.\n",
    "\n",
    "> ### Drifting\n",
    "\n",
    "There is some systemic drifting in the data set, as the way songs were picked for the 'Hot-100' list has changed since its inception back in 1958. Originally, songs were picked purely based on how well they sold, but as the music industry evolved and radio, tv and streaming started becoming more prevalent, all these factors are now considered, when songs are picked for the list.\n",
    "\n",
    "> ### Algorithmically confounded\n",
    "\n",
    "As the songs are only picked from the Billboard 'Hot-100' list, there is some amount of algorithmic confounding going on.\n",
    "\n",
    "> ### Dirty\n",
    "\n",
    "The data set could be dirty as some songs could still be loaded wrongly, or we might have missed something via the cleaning. Furthermore, the data is not a complete overview of the connections between artists or the language they use, as we only chose songs that appeared on the 'Hot-100' list.\n",
    "\n",
    "> ### Sensitive\n",
    "\n",
    "The data is not sensitive, as there is no information in it, that isn't already public, as well as the data just being very basic stats, release year, song title, song artists."
   ]
  },
  {
   "cell_type": "code",
   "execution_count": null,
   "id": "bulgarian-editor",
   "metadata": {},
   "outputs": [],
   "source": []
  }
 ],
 "metadata": {
  "kernelspec": {
   "display_name": "Python 3",
   "language": "python",
   "name": "python3"
  },
  "language_info": {
   "codemirror_mode": {
    "name": "ipython",
    "version": 3
   },
   "file_extension": ".py",
   "mimetype": "text/x-python",
   "name": "python",
   "nbconvert_exporter": "python",
   "pygments_lexer": "ipython3",
   "version": "3.8.7"
  }
 },
 "nbformat": 4,
 "nbformat_minor": 5
}
